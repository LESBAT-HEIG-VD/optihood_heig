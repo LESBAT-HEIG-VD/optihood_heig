{
 "cells": [
  {
   "cell_type": "markdown",
   "id": "33336d6f",
   "metadata": {
    "toc": true
   },
   "source": [
    "<h1>Table of Contents<span class=\"tocSkip\"></span></h1>\n",
    "<div class=\"toc\"><ul class=\"toc-item\"></ul></div>"
   ]
  },
  {
   "cell_type": "markdown",
   "id": "3847a310",
   "metadata": {},
   "source": [
    "Utilisation de la class shop pour créer un profil paramétré de supermarché"
   ]
  },
  {
   "cell_type": "code",
   "execution_count": 1,
   "id": "dc325603",
   "metadata": {},
   "outputs": [],
   "source": [
    "from shoppingmall import shop"
   ]
  },
  {
   "cell_type": "code",
   "execution_count": 6,
   "id": "bf5129ce",
   "metadata": {},
   "outputs": [],
   "source": [
    "# initialisation of the shop object\n",
    "shop1 = {\n",
    "    'S' : 20000,\n",
    "    'f_food': 0.2,\n",
    "    'spE_fri': 250,\n",
    "    'spE_light': 125  , \n",
    "    'spE_hvac': 100   , \n",
    "    'spE_othr': 25   , \n",
    "    'frm': 8, \n",
    "    'to': 20, \n",
    "    'days': 365,\n",
    "}\n",
    "\n",
    "shop1 = shop(**shop1)"
   ]
  },
  {
   "cell_type": "code",
   "execution_count": 9,
   "id": "2067327f",
   "metadata": {},
   "outputs": [
    {
     "name": "stdout",
     "output_type": "stream",
     "text": [
      "the leasable surface is 20000 m^2\n",
      "the fraction of food store is 0.2\n",
      "the specific energie demand for refrigeration is 250 kWh/m^2\n",
      "the specific energie demand for lighting is 125 kWh/m^2\n",
      "the specific energie demand for HVAC is 100 kWh/m^2\n",
      "the specific energie demand for other usage is 25 kWh/m^2\n",
      "open 365 day from 8h to 20h\n"
     ]
    }
   ],
   "source": [
    "# get information on the object\n",
    "shop1.info()"
   ]
  },
  {
   "cell_type": "code",
   "execution_count": 12,
   "id": "2fc6f0f6",
   "metadata": {},
   "outputs": [],
   "source": [
    "# create profile and save to the default or given file name\n",
    "df_profil = shop1.create_profile()"
   ]
  },
  {
   "cell_type": "code",
   "execution_count": 13,
   "id": "41548029",
   "metadata": {},
   "outputs": [
    {
     "data": {
      "text/html": [
       "<div>\n",
       "<style scoped>\n",
       "    .dataframe tbody tr th:only-of-type {\n",
       "        vertical-align: middle;\n",
       "    }\n",
       "\n",
       "    .dataframe tbody tr th {\n",
       "        vertical-align: top;\n",
       "    }\n",
       "\n",
       "    .dataframe thead th {\n",
       "        text-align: right;\n",
       "    }\n",
       "</style>\n",
       "<table border=\"1\" class=\"dataframe\">\n",
       "  <thead>\n",
       "    <tr style=\"text-align: right;\">\n",
       "      <th></th>\n",
       "      <th>heures</th>\n",
       "      <th>total</th>\n",
       "      <th>Refrigeration</th>\n",
       "      <th>Lighting</th>\n",
       "      <th>HVAC</th>\n",
       "      <th>Other</th>\n",
       "    </tr>\n",
       "  </thead>\n",
       "  <tbody>\n",
       "    <tr>\n",
       "      <th>0</th>\n",
       "      <td>1.0</td>\n",
       "      <td>141.417449</td>\n",
       "      <td>79.150948</td>\n",
       "      <td>0.000000</td>\n",
       "      <td>62.266501</td>\n",
       "      <td>0.000000</td>\n",
       "    </tr>\n",
       "    <tr>\n",
       "      <th>1</th>\n",
       "      <td>2.0</td>\n",
       "      <td>141.417449</td>\n",
       "      <td>79.150948</td>\n",
       "      <td>0.000000</td>\n",
       "      <td>62.266501</td>\n",
       "      <td>0.000000</td>\n",
       "    </tr>\n",
       "    <tr>\n",
       "      <th>2</th>\n",
       "      <td>3.0</td>\n",
       "      <td>141.417449</td>\n",
       "      <td>79.150948</td>\n",
       "      <td>0.000000</td>\n",
       "      <td>62.266501</td>\n",
       "      <td>0.000000</td>\n",
       "    </tr>\n",
       "    <tr>\n",
       "      <th>3</th>\n",
       "      <td>4.0</td>\n",
       "      <td>141.417449</td>\n",
       "      <td>79.150948</td>\n",
       "      <td>0.000000</td>\n",
       "      <td>62.266501</td>\n",
       "      <td>0.000000</td>\n",
       "    </tr>\n",
       "    <tr>\n",
       "      <th>4</th>\n",
       "      <td>5.0</td>\n",
       "      <td>141.417449</td>\n",
       "      <td>79.150948</td>\n",
       "      <td>0.000000</td>\n",
       "      <td>62.266501</td>\n",
       "      <td>0.000000</td>\n",
       "    </tr>\n",
       "    <tr>\n",
       "      <th>...</th>\n",
       "      <td>...</td>\n",
       "      <td>...</td>\n",
       "      <td>...</td>\n",
       "      <td>...</td>\n",
       "      <td>...</td>\n",
       "      <td>...</td>\n",
       "    </tr>\n",
       "    <tr>\n",
       "      <th>8755</th>\n",
       "      <td>20.0</td>\n",
       "      <td>949.910059</td>\n",
       "      <td>98.934551</td>\n",
       "      <td>570.776256</td>\n",
       "      <td>166.044002</td>\n",
       "      <td>114.155251</td>\n",
       "    </tr>\n",
       "    <tr>\n",
       "      <th>8756</th>\n",
       "      <td>21.0</td>\n",
       "      <td>141.414141</td>\n",
       "      <td>79.147641</td>\n",
       "      <td>0.000000</td>\n",
       "      <td>62.266501</td>\n",
       "      <td>0.000000</td>\n",
       "    </tr>\n",
       "    <tr>\n",
       "      <th>8757</th>\n",
       "      <td>22.0</td>\n",
       "      <td>141.414141</td>\n",
       "      <td>79.147641</td>\n",
       "      <td>0.000000</td>\n",
       "      <td>62.266501</td>\n",
       "      <td>0.000000</td>\n",
       "    </tr>\n",
       "    <tr>\n",
       "      <th>8758</th>\n",
       "      <td>23.0</td>\n",
       "      <td>141.414141</td>\n",
       "      <td>79.147641</td>\n",
       "      <td>0.000000</td>\n",
       "      <td>62.266501</td>\n",
       "      <td>0.000000</td>\n",
       "    </tr>\n",
       "    <tr>\n",
       "      <th>8759</th>\n",
       "      <td>24.0</td>\n",
       "      <td>141.414141</td>\n",
       "      <td>79.147641</td>\n",
       "      <td>0.000000</td>\n",
       "      <td>62.266501</td>\n",
       "      <td>0.000000</td>\n",
       "    </tr>\n",
       "  </tbody>\n",
       "</table>\n",
       "<p>8760 rows × 6 columns</p>\n",
       "</div>"
      ],
      "text/plain": [
       "      heures       total  Refrigeration    Lighting        HVAC       Other\n",
       "0        1.0  141.417449      79.150948    0.000000   62.266501    0.000000\n",
       "1        2.0  141.417449      79.150948    0.000000   62.266501    0.000000\n",
       "2        3.0  141.417449      79.150948    0.000000   62.266501    0.000000\n",
       "3        4.0  141.417449      79.150948    0.000000   62.266501    0.000000\n",
       "4        5.0  141.417449      79.150948    0.000000   62.266501    0.000000\n",
       "...      ...         ...            ...         ...         ...         ...\n",
       "8755    20.0  949.910059      98.934551  570.776256  166.044002  114.155251\n",
       "8756    21.0  141.414141      79.147641    0.000000   62.266501    0.000000\n",
       "8757    22.0  141.414141      79.147641    0.000000   62.266501    0.000000\n",
       "8758    23.0  141.414141      79.147641    0.000000   62.266501    0.000000\n",
       "8759    24.0  141.414141      79.147641    0.000000   62.266501    0.000000\n",
       "\n",
       "[8760 rows x 6 columns]"
      ]
     },
     "execution_count": 13,
     "metadata": {},
     "output_type": "execute_result"
    }
   ],
   "source": [
    "shop1.profile"
   ]
  },
  {
   "cell_type": "code",
   "execution_count": null,
   "id": "31bb1f50",
   "metadata": {},
   "outputs": [],
   "source": []
  }
 ],
 "metadata": {
  "kernelspec": {
   "display_name": "Python 3",
   "language": "python",
   "name": "python3"
  },
  "language_info": {
   "codemirror_mode": {
    "name": "ipython",
    "version": 3
   },
   "file_extension": ".py",
   "mimetype": "text/x-python",
   "name": "python",
   "nbconvert_exporter": "python",
   "pygments_lexer": "ipython3",
   "version": "3.7.10"
  },
  "toc": {
   "base_numbering": 1,
   "nav_menu": {},
   "number_sections": true,
   "sideBar": true,
   "skip_h1_title": false,
   "title_cell": "Table of Contents",
   "title_sidebar": "Contents",
   "toc_cell": true,
   "toc_position": {},
   "toc_section_display": true,
   "toc_window_display": false
  }
 },
 "nbformat": 4,
 "nbformat_minor": 5
}
