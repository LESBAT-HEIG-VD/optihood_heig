{
 "cells": [
  {
   "cell_type": "markdown",
   "id": "8cb97c5b",
   "metadata": {},
   "source": [
    "# Test notebook of OPTIM-EASE"
   ]
  },
  {
   "cell_type": "markdown",
   "id": "de775431",
   "metadata": {
    "toc": true
   },
   "source": [
    "<h1>Table of Contents<span class=\"tocSkip\"></span></h1>\n",
    "<div class=\"toc\"><ul class=\"toc-item\"><li><span><a href=\"#Import\" data-toc-modified-id=\"Import-1\"><span class=\"toc-item-num\">1&nbsp;&nbsp;</span>Import</a></span></li><li><span><a href=\"#Parameters\" data-toc-modified-id=\"Parameters-2\"><span class=\"toc-item-num\">2&nbsp;&nbsp;</span>Parameters</a></span></li><li><span><a href=\"#Demand-profiles-creation\" data-toc-modified-id=\"Demand-profiles-creation-3\"><span class=\"toc-item-num\">3&nbsp;&nbsp;</span>Demand profiles creation</a></span></li><li><span><a href=\"#Optimization\" data-toc-modified-id=\"Optimization-4\"><span class=\"toc-item-num\">4&nbsp;&nbsp;</span>Optimization</a></span></li><li><span><a href=\"#Plot-pareto-front\" data-toc-modified-id=\"Plot-pareto-front-5\"><span class=\"toc-item-num\">5&nbsp;&nbsp;</span>Plot pareto front</a></span></li><li><span><a href=\"#Plot-Sankey-diagram\" data-toc-modified-id=\"Plot-Sankey-diagram-6\"><span class=\"toc-item-num\">6&nbsp;&nbsp;</span>Plot Sankey diagram</a></span></li><li><span><a href=\"#Plot-functions\" data-toc-modified-id=\"Plot-functions-7\"><span class=\"toc-item-num\">7&nbsp;&nbsp;</span>Plot functions</a></span></li></ul></div>"
   ]
  },
  {
   "cell_type": "markdown",
   "id": "8345bc9b",
   "metadata": {},
   "source": [
    "## Import"
   ]
  },
  {
   "cell_type": "code",
   "execution_count": 1,
   "id": "bca448bf",
   "metadata": {},
   "outputs": [],
   "source": [
    "import Run\n",
    "import plot_sankey as snk\n",
    "import plot_functions as fnc"
   ]
  },
  {
   "cell_type": "markdown",
   "id": "b8d5cbc7",
   "metadata": {},
   "source": [
    "## Parameters"
   ]
  },
  {
   "cell_type": "code",
   "execution_count": 2,
   "id": "759efd65",
   "metadata": {},
   "outputs": [],
   "source": [
    "numberOfBuildings = 4\n",
    "numberOfOptimizations = 10\n",
    "optMode = \"group\"\n",
    "profilesCreation = False\n",
    "cluster = False"
   ]
  },
  {
   "cell_type": "markdown",
   "id": "9a8e3497",
   "metadata": {},
   "source": [
    "## Demand profiles creation\n",
    "Do not run if demand profiles already exist"
   ]
  },
  {
   "cell_type": "code",
   "execution_count": 3,
   "id": "9f9c5cb9",
   "metadata": {},
   "outputs": [],
   "source": [
    "inputFilePath = \"..\\data\\excels\\\\\"\n",
    "inputfileName = \"scenario\" + str(numberOfBuildings) + \".xls\"\n",
    "Run.createProfiles(profilesCreation, inputFilePath, inputfileName)"
   ]
  },
  {
   "cell_type": "markdown",
   "id": "c20ea7f4",
   "metadata": {},
   "source": [
    "## Optimization"
   ]
  },
  {
   "cell_type": "code",
   "execution_count": null,
   "id": "c9a1296d",
   "metadata": {},
   "outputs": [
    {
     "name": "stdout",
     "output_type": "stream",
     "text": [
      "******************\n",
      "OPTIMIZATION 1\n",
      "******************\n",
      "16:55:52-INFO-Path for logging: C:\\Users\\vincent.jacquot\\PycharmProjects\\OptimEase\\src\\oemof.log\n",
      "16:55:52-INFO-Initializing the energy network\n",
      "16:55:52-INFO-Defining the energy network from the excel file: ..\\data\\excels\\scenario4.xls\n",
      "16:55:54-INFO-Data from Excel file ..\\data\\excels\\scenario4.xls imported.\n"
     ]
    },
    {
     "name": "stderr",
     "output_type": "stream",
     "text": [
      "C:\\Users\\vincent.jacquot\\Miniconda3\\envs\\OptimEase\\lib\\site-packages\\oemof\\thermal\\solar_thermal_collector.py:184: FutureWarning: The default dtype for empty Series will be 'object' instead of 'float64' in a future version. Specify a dtype explicitly to silence this warning.\n",
      "  eta_c = pd.Series()\n",
      "C:\\Users\\vincent.jacquot\\Miniconda3\\envs\\OptimEase\\lib\\site-packages\\oemof\\thermal\\solar_thermal_collector.py:184: FutureWarning: The default dtype for empty Series will be 'object' instead of 'float64' in a future version. Specify a dtype explicitly to silence this warning.\n",
      "  eta_c = pd.Series()\n",
      "C:\\Users\\vincent.jacquot\\Miniconda3\\envs\\OptimEase\\lib\\site-packages\\oemof\\thermal\\solar_thermal_collector.py:184: FutureWarning: The default dtype for empty Series will be 'object' instead of 'float64' in a future version. Specify a dtype explicitly to silence this warning.\n",
      "  eta_c = pd.Series()\n",
      "C:\\Users\\vincent.jacquot\\Miniconda3\\envs\\OptimEase\\lib\\site-packages\\oemof\\thermal\\solar_thermal_collector.py:184: FutureWarning: The default dtype for empty Series will be 'object' instead of 'float64' in a future version. Specify a dtype explicitly to silence this warning.\n",
      "  eta_c = pd.Series()\n"
     ]
    },
    {
     "name": "stdout",
     "output_type": "stream",
     "text": [
      "16:56:12-INFO-Nodes from Excel file ..\\data\\excels\\scenario4.xls successfully converted\n",
      "16:56:12-INFO-Nodes successfully added to the energy network\n",
      "16:56:12-INFO-Initiating optimization using gurobi solver\n",
      "18:19:15-INFO-Optimization successful...\n",
      "18:19:46-INFO-Optimization successful and results collected\n",
      "************** Optimized Capacities for Building1 **************\n",
      "Invested in 32.384700451964484 kW HP.\n",
      "Invested in 0.0 kW CHP.\n",
      "Invested in 0.0 kW  SolarCollector.\n",
      "Invested in 0.0 kW  GasBoiler.\n",
      "Invested in 48.1826253463394 kW  PV.\n",
      "Invested in 0.0 kWh Electrical Storage.\n",
      "Invested in 140.85756683007185 kWh DHW Storage Tank.\n",
      "Invested in 51.31122623973789 kWh SH Storage Tank.\n",
      "\n",
      "************** Optimized Capacities for Building2 **************\n",
      "Invested in 33.35200748306647 kW HP.\n",
      "Invested in 0.0 kW CHP.\n",
      "Invested in 0.0 kW  SolarCollector.\n",
      "Invested in 30.577081115817595 kW  GasBoiler.\n",
      "Invested in 0.0 kW  PV.\n",
      "Invested in 0.0 kWh Electrical Storage.\n",
      "Invested in 410.36380865226613 kWh DHW Storage Tank.\n",
      "Invested in 180.34379033987773 kWh SH Storage Tank.\n",
      "\n",
      "************** Optimized Capacities for Building3 **************\n",
      "Invested in 62.78654176167617 kW HP.\n",
      "Invested in 0.0 kW CHP.\n",
      "Invested in 0.0 kW  SolarCollector.\n",
      "Invested in 50.28951487714327 kW  GasBoiler.\n",
      "Invested in 0.0 kW  PV.\n",
      "Invested in 0.0 kWh Electrical Storage.\n",
      "Invested in 1085.824945071365 kWh DHW Storage Tank.\n",
      "Invested in 351.811932700006 kWh SH Storage Tank.\n",
      "\n",
      "************** Optimized Capacities for Building4 **************\n",
      "Invested in 32.76804424695811 kW HP.\n",
      "Invested in 0.0 kW CHP.\n",
      "Invested in 0.0 kW  SolarCollector.\n",
      "Invested in 11.143844024465242 kW  GasBoiler.\n",
      "Invested in 0.0 kW  PV.\n",
      "Invested in 0.0 kWh Electrical Storage.\n",
      "Invested in 759.2747550300244 kWh DHW Storage Tank.\n",
      "Invested in 79.09302309884258 kWh SH Storage Tank.\n",
      "\n",
      "Investment Costs for the system: 75098.6483428848 CHF\n",
      "Operation Costs for the system: 55265.16710795524 CHF\n",
      "Feed In Costs for the system: -795.428286142744 CHF\n",
      "Total Costs for the system: 129568.38716469728 CHF\n",
      "Environmental impact from input resources for the system: 42224.506467404935 kg CO2 eq\n",
      "Environmental impact from energy conversion technologies for the system: 10393.562742363438 kg CO2 eq\n",
      "Total: 52618.06920976837 kg CO2 eq\n",
      "\n",
      "\n",
      "\n",
      "\n",
      "Meta Results:\n",
      "{'objective': 83568.51359825084,\n",
      " 'problem': {'Lower bound': 82782.96845377916,\n",
      "             'Name': 'x1611941',\n",
      "             'Number of binary variables': 32,\n",
      "             'Number of constraints': 1542602,\n",
      "             'Number of continuous variables': 1506789,\n",
      "             'Number of integer variables': 32,\n",
      "             'Number of nonzeros': 4050237,\n",
      "             'Number of objectives': 1,\n",
      "             'Number of variables': 1506821,\n",
      "             'Sense': <ProblemSense.minimize: 'minimize'>,\n",
      "             'Upper bound': 83568.51359825078},\n",
      " 'solver': {'Error rc': 0,\n",
      "            'Message': 'Model was solved to optimality (subject to '\n",
      "                       'tolerances), and an optimal solution is available.',\n",
      "            'Return code': '0',\n",
      "            'Status': <SolverStatus.ok: 'ok'>,\n",
      "            'Termination condition': <TerminationCondition.optimal: 'optimal'>,\n",
      "            'Termination message': 'Model was solved to optimality (subject to '\n",
      "                                   'tolerances), and an optimal solution is '\n",
      "                                   'available.',\n",
      "            'Time': 4813.3003034591675,\n",
      "            'Wall time': '4798.645082473755'}}\n",
      "\n",
      "45284.35568826723\n",
      "******************\n",
      "OPTIMIZATION 2\n",
      "******************\n",
      "18:21:35-INFO-Path for logging: C:\\Users\\vincent.jacquot\\PycharmProjects\\OptimEase\\src\\oemof.log\n",
      "18:21:35-INFO-Initializing the energy network\n",
      "18:21:35-INFO-Defining the energy network from the excel file: ..\\data\\excels\\scenario4.xls\n",
      "18:21:37-INFO-Data from Excel file ..\\data\\excels\\scenario4.xls imported.\n"
     ]
    },
    {
     "name": "stderr",
     "output_type": "stream",
     "text": [
      "C:\\Users\\vincent.jacquot\\Miniconda3\\envs\\OptimEase\\lib\\site-packages\\oemof\\thermal\\solar_thermal_collector.py:184: FutureWarning: The default dtype for empty Series will be 'object' instead of 'float64' in a future version. Specify a dtype explicitly to silence this warning.\n",
      "  eta_c = pd.Series()\n",
      "C:\\Users\\vincent.jacquot\\Miniconda3\\envs\\OptimEase\\lib\\site-packages\\oemof\\thermal\\solar_thermal_collector.py:184: FutureWarning: The default dtype for empty Series will be 'object' instead of 'float64' in a future version. Specify a dtype explicitly to silence this warning.\n",
      "  eta_c = pd.Series()\n",
      "C:\\Users\\vincent.jacquot\\Miniconda3\\envs\\OptimEase\\lib\\site-packages\\oemof\\thermal\\solar_thermal_collector.py:184: FutureWarning: The default dtype for empty Series will be 'object' instead of 'float64' in a future version. Specify a dtype explicitly to silence this warning.\n",
      "  eta_c = pd.Series()\n",
      "C:\\Users\\vincent.jacquot\\Miniconda3\\envs\\OptimEase\\lib\\site-packages\\oemof\\thermal\\solar_thermal_collector.py:184: FutureWarning: The default dtype for empty Series will be 'object' instead of 'float64' in a future version. Specify a dtype explicitly to silence this warning.\n",
      "  eta_c = pd.Series()\n"
     ]
    },
    {
     "name": "stdout",
     "output_type": "stream",
     "text": [
      "18:21:55-INFO-Nodes from Excel file ..\\data\\excels\\scenario4.xls successfully converted\n",
      "18:21:55-INFO-Nodes successfully added to the energy network\n",
      "18:21:55-INFO-Initiating optimization using gurobi solver\n",
      "18:27:52-INFO-Optimization successful...\n",
      "18:28:23-INFO-Optimization successful and results collected\n",
      "************** Optimized Capacities for Building1 **************\n",
      "Invested in 22.521105900159952 kW HP.\n",
      "Invested in 0.0 kW CHP.\n",
      "Invested in 100.0 kW  SolarCollector.\n",
      "Invested in 6.768358471666269 kW  GasBoiler.\n",
      "Invested in 100.0 kW  PV.\n",
      "Invested in 96.08051672666281 kWh Electrical Storage.\n",
      "Invested in 4500.0 kWh DHW Storage Tank.\n",
      "Invested in 239.47287198283482 kWh SH Storage Tank.\n",
      "\n",
      "************** Optimized Capacities for Building2 **************\n",
      "Invested in 56.07417878493406 kW HP.\n",
      "Invested in 0.0 kW CHP.\n",
      "Invested in 100.0 kW  SolarCollector.\n",
      "Invested in 15.034350526958631 kW  GasBoiler.\n",
      "Invested in 100.0 kW  PV.\n",
      "Invested in 85.62343002339767 kWh Electrical Storage.\n",
      "Invested in 4500.0 kWh DHW Storage Tank.\n",
      "Invested in 400.0 kWh SH Storage Tank.\n",
      "\n",
      "************** Optimized Capacities for Building3 **************\n",
      "Invested in 97.19392757904943 kW HP.\n",
      "Invested in 0.0 kW CHP.\n",
      "Invested in 100.0 kW  SolarCollector.\n",
      "Invested in 26.747352645333187 kW  GasBoiler.\n",
      "Invested in 100.0 kW  PV.\n",
      "Invested in 85.62343002339767 kWh Electrical Storage.\n",
      "Invested in 4500.0 kWh DHW Storage Tank.\n",
      "Invested in 600.0 kWh SH Storage Tank.\n",
      "\n",
      "************** Optimized Capacities for Building4 **************\n",
      "Invested in 27.6801630026444 kW HP.\n",
      "Invested in 0.0 kW CHP.\n",
      "Invested in 100.0 kW  SolarCollector.\n",
      "Invested in 8.22209925462562 kW  GasBoiler.\n",
      "Invested in 100.0 kW  PV.\n",
      "Invested in 85.62343002339767 kWh Electrical Storage.\n",
      "Invested in 4500.0 kWh DHW Storage Tank.\n",
      "Invested in 292.3655363802335 kWh SH Storage Tank.\n",
      "\n",
      "Investment Costs for the system: 201556.16097355535 CHF\n",
      "Operation Costs for the system: 24479.435851138223 CHF\n",
      "Feed In Costs for the system: -21813.489361066026 CHF\n",
      "Total Costs for the system: 204222.10746362756 CHF\n",
      "Environmental impact from input resources for the system: 17679.124599962175 kg CO2 eq\n",
      "Environmental impact from energy conversion technologies for the system: 17937.707373725825 kg CO2 eq\n",
      "Total: 35616.831973688 kg CO2 eq\n",
      "\n",
      "\n",
      "\n",
      "\n",
      "Meta Results:\n",
      "{'objective': 26365.333817026145,\n",
      " 'problem': {'Lower bound': 26365.333817026152,\n",
      "             'Name': 'x1611941',\n",
      "             'Number of binary variables': 32,\n",
      "             'Number of constraints': 1542602,\n",
      "             'Number of continuous variables': 1506789,\n",
      "             'Number of integer variables': 32,\n",
      "             'Number of nonzeros': 4050237,\n",
      "             'Number of objectives': 1,\n",
      "             'Number of variables': 1506821,\n",
      "             'Sense': <ProblemSense.minimize: 'minimize'>,\n",
      "             'Upper bound': 26365.33381702624},\n",
      " 'solver': {'Error rc': 0,\n",
      "            'Message': 'Model was solved to optimality (subject to '\n",
      "                       'tolerances), and an optimal solution is available.',\n",
      "            'Return code': '0',\n",
      "            'Status': <SolverStatus.ok: 'ok'>,\n",
      "            'Termination condition': <TerminationCondition.optimal: 'optimal'>,\n",
      "            'Termination message': 'Model was solved to optimality (subject to '\n",
      "                                   'tolerances), and an optimal solution is '\n",
      "                                   'available.',\n",
      "            'Time': 190.95952939987183,\n",
      "            'Wall time': '177.71293449401855'}}\n",
      "\n",
      "26365.33381702624\n",
      "Each iteration will keep emissions lower than some values between femissions_min and femissions_max, so [26365.33381702624, 45284.35568826723]\n",
      "******************\n",
      "OPTIMIZATION 3\n",
      "******************\n",
      "18:30:13-INFO-Path for logging: C:\\Users\\vincent.jacquot\\PycharmProjects\\OptimEase\\src\\oemof.log\n",
      "18:30:13-INFO-Initializing the energy network\n",
      "18:30:13-INFO-Defining the energy network from the excel file: ..\\data\\excels\\scenario4.xls\n",
      "18:30:15-INFO-Data from Excel file ..\\data\\excels\\scenario4.xls imported.\n"
     ]
    },
    {
     "name": "stderr",
     "output_type": "stream",
     "text": [
      "C:\\Users\\vincent.jacquot\\Miniconda3\\envs\\OptimEase\\lib\\site-packages\\oemof\\thermal\\solar_thermal_collector.py:184: FutureWarning: The default dtype for empty Series will be 'object' instead of 'float64' in a future version. Specify a dtype explicitly to silence this warning.\n",
      "  eta_c = pd.Series()\n",
      "C:\\Users\\vincent.jacquot\\Miniconda3\\envs\\OptimEase\\lib\\site-packages\\oemof\\thermal\\solar_thermal_collector.py:184: FutureWarning: The default dtype for empty Series will be 'object' instead of 'float64' in a future version. Specify a dtype explicitly to silence this warning.\n",
      "  eta_c = pd.Series()\n",
      "C:\\Users\\vincent.jacquot\\Miniconda3\\envs\\OptimEase\\lib\\site-packages\\oemof\\thermal\\solar_thermal_collector.py:184: FutureWarning: The default dtype for empty Series will be 'object' instead of 'float64' in a future version. Specify a dtype explicitly to silence this warning.\n",
      "  eta_c = pd.Series()\n",
      "C:\\Users\\vincent.jacquot\\Miniconda3\\envs\\OptimEase\\lib\\site-packages\\oemof\\thermal\\solar_thermal_collector.py:184: FutureWarning: The default dtype for empty Series will be 'object' instead of 'float64' in a future version. Specify a dtype explicitly to silence this warning.\n",
      "  eta_c = pd.Series()\n"
     ]
    },
    {
     "name": "stdout",
     "output_type": "stream",
     "text": [
      "18:30:33-INFO-Nodes from Excel file ..\\data\\excels\\scenario4.xls successfully converted\n",
      "18:30:33-INFO-Nodes successfully added to the energy network\n",
      "18:30:33-INFO-Initiating optimization using gurobi solver\n",
      "22:55:43-INFO-Optimization successful...\n",
      "22:56:14-INFO-Optimization successful and results collected\n",
      "************** Optimized Capacities for Building1 **************\n",
      "Invested in 20.740441417155896 kW HP.\n",
      "Invested in 0.0 kW CHP.\n",
      "Invested in 50.10163578754682 kW  SolarCollector.\n",
      "Invested in 7.983665505107792 kW  GasBoiler.\n",
      "Invested in 27.29775516921064 kW  PV.\n",
      "Invested in 17.033856465979444 kWh Electrical Storage.\n",
      "Invested in 4500.0 kWh DHW Storage Tank.\n",
      "Invested in 186.00219163926346 kWh SH Storage Tank.\n",
      "\n",
      "************** Optimized Capacities for Building2 **************\n",
      "Invested in 51.573094902378784 kW HP.\n",
      "Invested in 0.0 kW CHP.\n",
      "Invested in 44.41839713871483 kW  SolarCollector.\n",
      "Invested in 18.116516764585047 kW  GasBoiler.\n",
      "Invested in 100.0 kW  PV.\n",
      "Invested in 62.40020968900795 kWh Electrical Storage.\n",
      "Invested in 4500.0 kWh DHW Storage Tank.\n",
      "Invested in 400.0 kWh SH Storage Tank.\n",
      "\n",
      "************** Optimized Capacities for Building3 **************\n",
      "Invested in 91.6594551356444 kW HP.\n",
      "Invested in 0.0 kW CHP.\n",
      "Invested in 83.81134589852955 kW  SolarCollector.\n",
      "Invested in 30.53714296100552 kW  GasBoiler.\n",
      "Invested in 100.0 kW  PV.\n",
      "Invested in 63.60397795901305 kWh Electrical Storage.\n",
      "Invested in 4500.0 kWh DHW Storage Tank.\n",
      "Invested in 600.0 kWh SH Storage Tank.\n",
      "\n",
      "************** Optimized Capacities for Building4 **************\n",
      "Invested in 25.471459388222105 kW HP.\n",
      "Invested in 0.0 kW CHP.\n",
      "Invested in 62.488652319483236 kW  SolarCollector.\n",
      "Invested in 9.72978931312534 kW  GasBoiler.\n",
      "Invested in 100.0 kW  PV.\n",
      "Invested in 66.58666812667471 kWh Electrical Storage.\n",
      "Invested in 4500.0 kWh DHW Storage Tank.\n",
      "Invested in 229.30460305754082 kWh SH Storage Tank.\n",
      "\n",
      "Investment Costs for the system: 165734.75411924126 CHF\n",
      "Operation Costs for the system: 30488.02439097128 CHF\n",
      "Feed In Costs for the system: -18223.920806607064 CHF\n",
      "Total Costs for the system: 177998.8577036055 CHF\n",
      "Environmental impact from input resources for the system: 22000.96499749113 kg CO2 eq\n",
      "Environmental impact from energy conversion technologies for the system: 15080.837376794767 kg CO2 eq\n",
      "Total: 37081.80237428589 kg CO2 eq\n",
      "\n",
      "\n",
      "\n",
      "\n",
      "Meta Results:\n",
      "{'objective': 125858.16349416025,\n",
      " 'problem': {'Lower bound': 124616.0409427158,\n",
      "             'Name': 'x1611941',\n",
      "             'Number of binary variables': 32,\n",
      "             'Number of constraints': 1542602,\n",
      "             'Number of continuous variables': 1506789,\n",
      "             'Number of integer variables': 32,\n",
      "             'Number of nonzeros': 4050237,\n",
      "             'Number of objectives': 1,\n",
      "             'Number of variables': 1506821,\n",
      "             'Sense': <ProblemSense.minimize: 'minimize'>,\n",
      "             'Upper bound': 125858.16349416005},\n",
      " 'solver': {'Error rc': 0,\n",
      "            'Message': 'Model was solved to optimality (subject to '\n",
      "                       'tolerances), and an optimal solution is available.',\n",
      "            'Return code': '0',\n",
      "            'Status': <SolverStatus.ok: 'ok'>,\n",
      "            'Termination condition': <TerminationCondition.optimal: 'optimal'>,\n",
      "            'Termination message': 'Model was solved to optimality (subject to '\n",
      "                                   'tolerances), and an optimal solution is '\n",
      "                                   'available.',\n",
      "            'Time': 15744.63567996025,\n",
      "            'Wall time': '15728.692447662354'}}\n",
      "\n",
      "28468.000000000087\n",
      "******************\n",
      "OPTIMIZATION 4\n",
      "******************\n",
      "22:58:05-INFO-Path for logging: C:\\Users\\vincent.jacquot\\PycharmProjects\\OptimEase\\src\\oemof.log\n",
      "22:58:05-INFO-Initializing the energy network\n",
      "22:58:05-INFO-Defining the energy network from the excel file: ..\\data\\excels\\scenario4.xls\n",
      "22:58:07-INFO-Data from Excel file ..\\data\\excels\\scenario4.xls imported.\n"
     ]
    },
    {
     "name": "stderr",
     "output_type": "stream",
     "text": [
      "C:\\Users\\vincent.jacquot\\Miniconda3\\envs\\OptimEase\\lib\\site-packages\\oemof\\thermal\\solar_thermal_collector.py:184: FutureWarning: The default dtype for empty Series will be 'object' instead of 'float64' in a future version. Specify a dtype explicitly to silence this warning.\n",
      "  eta_c = pd.Series()\n",
      "C:\\Users\\vincent.jacquot\\Miniconda3\\envs\\OptimEase\\lib\\site-packages\\oemof\\thermal\\solar_thermal_collector.py:184: FutureWarning: The default dtype for empty Series will be 'object' instead of 'float64' in a future version. Specify a dtype explicitly to silence this warning.\n",
      "  eta_c = pd.Series()\n",
      "C:\\Users\\vincent.jacquot\\Miniconda3\\envs\\OptimEase\\lib\\site-packages\\oemof\\thermal\\solar_thermal_collector.py:184: FutureWarning: The default dtype for empty Series will be 'object' instead of 'float64' in a future version. Specify a dtype explicitly to silence this warning.\n",
      "  eta_c = pd.Series()\n",
      "C:\\Users\\vincent.jacquot\\Miniconda3\\envs\\OptimEase\\lib\\site-packages\\oemof\\thermal\\solar_thermal_collector.py:184: FutureWarning: The default dtype for empty Series will be 'object' instead of 'float64' in a future version. Specify a dtype explicitly to silence this warning.\n",
      "  eta_c = pd.Series()\n"
     ]
    },
    {
     "name": "stdout",
     "output_type": "stream",
     "text": [
      "22:58:25-INFO-Nodes from Excel file ..\\data\\excels\\scenario4.xls successfully converted\n",
      "22:58:25-INFO-Nodes successfully added to the energy network\n",
      "22:58:25-INFO-Initiating optimization using gurobi solver\n",
      "04:15:36-INFO-Optimization successful...\n",
      "04:16:07-INFO-Optimization successful and results collected\n",
      "************** Optimized Capacities for Building1 **************\n",
      "Invested in 20.48583963866271 kW HP.\n",
      "Invested in 0.0 kW CHP.\n",
      "Invested in 50.0098402123803 kW  SolarCollector.\n",
      "Invested in 8.157795627380535 kW  GasBoiler.\n",
      "Invested in 99.99999999999997 kW  PV.\n",
      "Invested in 57.89143751688856 kWh Electrical Storage.\n",
      "Invested in 4500.0 kWh DHW Storage Tank.\n",
      "Invested in 183.1943790723343 kWh SH Storage Tank.\n",
      "\n",
      "************** Optimized Capacities for Building2 **************\n",
      "Invested in 53.38407300599273 kW HP.\n",
      "Invested in 0.0 kW CHP.\n",
      "Invested in 0.0 kW  SolarCollector.\n",
      "Invested in 16.876429773611026 kW  GasBoiler.\n",
      "Invested in 59.671116158788394 kW  PV.\n",
      "Invested in 34.64199024424499 kWh Electrical Storage.\n",
      "Invested in 652.2132975520977 kWh DHW Storage Tank.\n",
      "Invested in 400.0 kWh SH Storage Tank.\n",
      "\n",
      "************** Optimized Capacities for Building3 **************\n",
      "Invested in 87.98722673677344 kW HP.\n",
      "Invested in 0.0 kW CHP.\n",
      "Invested in 77.56102011411961 kW  SolarCollector.\n",
      "Invested in 33.05174137400541 kW  GasBoiler.\n",
      "Invested in 99.99999999999979 kW  PV.\n",
      "Invested in 57.83482086756176 kWh Electrical Storage.\n",
      "Invested in 4500.0 kWh DHW Storage Tank.\n",
      "Invested in 600.0 kWh SH Storage Tank.\n",
      "\n",
      "************** Optimized Capacities for Building4 **************\n",
      "Invested in 24.772992654226847 kW HP.\n",
      "Invested in 0.0 kW CHP.\n",
      "Invested in 58.885187453432586 kW  SolarCollector.\n",
      "Invested in 10.207492566079209 kW  GasBoiler.\n",
      "Invested in 0.0 kW  PV.\n",
      "Invested in 0.0 kWh Electrical Storage.\n",
      "Invested in 4500.0 kWh DHW Storage Tank.\n",
      "Invested in 221.60173591772488 kWh SH Storage Tank.\n",
      "\n",
      "Investment Costs for the system: 144589.90181694378 CHF\n",
      "Operation Costs for the system: 35027.98724093328 CHF\n",
      "Feed In Costs for the system: -13456.759271855168 CHF\n",
      "Total Costs for the system: 166161.12978602192 CHF\n",
      "Environmental impact from input resources for the system: 24977.11067547938 kg CO2 eq\n",
      "Environmental impact from energy conversion technologies for the system: 14078.728140516772 kg CO2 eq\n",
      "Total: 39055.838815996154 kg CO2 eq\n",
      "\n",
      "\n",
      "\n",
      "\n",
      "Meta Results:\n",
      "{'objective': 114634.30019901144,\n",
      " 'problem': {'Lower bound': 113672.01008598598,\n",
      "             'Name': 'x1611941',\n",
      "             'Number of binary variables': 32,\n",
      "             'Number of constraints': 1542602,\n",
      "             'Number of continuous variables': 1506789,\n",
      "             'Number of integer variables': 32,\n",
      "             'Number of nonzeros': 4050237,\n",
      "             'Number of objectives': 1,\n",
      "             'Number of variables': 1506821,\n",
      "             'Sense': <ProblemSense.minimize: 'minimize'>,\n",
      "             'Upper bound': 114634.30019901058},\n",
      " 'solver': {'Error rc': 0,\n",
      "            'Message': 'Model was solved to optimality (subject to '\n",
      "                       'tolerances), and an optimal solution is available.',\n",
      "            'Return code': '0',\n",
      "            'Status': <SolverStatus.ok: 'ok'>,\n",
      "            'Termination condition': <TerminationCondition.optimal: 'optimal'>,\n",
      "            'Termination message': 'Model was solved to optimality (subject to '\n",
      "                                   'tolerances), and an optimal solution is '\n",
      "                                   'available.',\n",
      "            'Time': 18864.549778938293,\n",
      "            'Wall time': '18849.61834526062'}}\n",
      "\n",
      "30570.000000000004\n",
      "******************\n",
      "OPTIMIZATION 5\n",
      "******************\n",
      "04:17:57-INFO-Path for logging: C:\\Users\\vincent.jacquot\\PycharmProjects\\OptimEase\\src\\oemof.log\n",
      "04:17:57-INFO-Initializing the energy network\n",
      "04:17:57-INFO-Defining the energy network from the excel file: ..\\data\\excels\\scenario4.xls\n",
      "04:17:59-INFO-Data from Excel file ..\\data\\excels\\scenario4.xls imported.\n"
     ]
    },
    {
     "name": "stderr",
     "output_type": "stream",
     "text": [
      "C:\\Users\\vincent.jacquot\\Miniconda3\\envs\\OptimEase\\lib\\site-packages\\oemof\\thermal\\solar_thermal_collector.py:184: FutureWarning: The default dtype for empty Series will be 'object' instead of 'float64' in a future version. Specify a dtype explicitly to silence this warning.\n",
      "  eta_c = pd.Series()\n",
      "C:\\Users\\vincent.jacquot\\Miniconda3\\envs\\OptimEase\\lib\\site-packages\\oemof\\thermal\\solar_thermal_collector.py:184: FutureWarning: The default dtype for empty Series will be 'object' instead of 'float64' in a future version. Specify a dtype explicitly to silence this warning.\n",
      "  eta_c = pd.Series()\n",
      "C:\\Users\\vincent.jacquot\\Miniconda3\\envs\\OptimEase\\lib\\site-packages\\oemof\\thermal\\solar_thermal_collector.py:184: FutureWarning: The default dtype for empty Series will be 'object' instead of 'float64' in a future version. Specify a dtype explicitly to silence this warning.\n",
      "  eta_c = pd.Series()\n",
      "C:\\Users\\vincent.jacquot\\Miniconda3\\envs\\OptimEase\\lib\\site-packages\\oemof\\thermal\\solar_thermal_collector.py:184: FutureWarning: The default dtype for empty Series will be 'object' instead of 'float64' in a future version. Specify a dtype explicitly to silence this warning.\n",
      "  eta_c = pd.Series()\n"
     ]
    },
    {
     "name": "stdout",
     "output_type": "stream",
     "text": [
      "04:18:17-INFO-Nodes from Excel file ..\\data\\excels\\scenario4.xls successfully converted\n",
      "04:18:17-INFO-Nodes successfully added to the energy network\n",
      "04:18:17-INFO-Initiating optimization using gurobi solver\n"
     ]
    }
   ],
   "source": [
    "(costsList, envList) = Run.optimization(numberOfBuildings, numberOfOptimizations, optMode, cluster)"
   ]
  },
  {
   "cell_type": "markdown",
   "id": "76c92cb8",
   "metadata": {},
   "source": [
    "## Plot pareto front"
   ]
  },
  {
   "cell_type": "code",
   "execution_count": 10,
   "id": "37f037d2",
   "metadata": {},
   "outputs": [
    {
     "name": "stdout",
     "output_type": "stream",
     "text": [
      "Costs : (CHF)\n",
      "[204222.10746362756, 931442.5579564683, 118416.86929370713, 107863.31202005428, 99734.8437401319, 92851.41499386454, 87782.46704439874, 85112.54374765464, 83965.67734367965, 83470.57797986425]\n",
      "Emissions : (kgCO2)\n",
      "[26365.33381702624, 28452.999999999953, 30539.999999999996, 32626.999999999978, 34713.92972103535, 36800.99999999975, 38887.99999999942, 40974.999999999665, 43061.99999999971, 45156.99699182233]\n"
     ]
    },
    {
     "data": {
      "image/png": "[encoded data removed]",
      "text/plain": [
       "<Figure size 432x288 with 1 Axes>"
      ]
     },
     "metadata": {
      "needs_background": "light"
     },
     "output_type": "display_data"
    }
   ],
   "source": [
    "Run.plotParetoFront(costsList, envList)"
   ]
  },
  {
   "cell_type": "markdown",
   "id": "e4f4f37e",
   "metadata": {},
   "source": [
    "## Plot Sankey diagram"
   ]
  },
  {
   "cell_type": "code",
   "execution_count": 8,
   "id": "c3ef1441",
   "metadata": {},
   "outputs": [],
   "source": [
    "plotOptim = 4  # defines the number of the optimization to plot\n",
    "UseLabelDict = True\n",
    "optMode = \"group\"\n",
    "numberOfBuildings = 4"
   ]
  },
  {
   "cell_type": "code",
   "execution_count": 9,
   "id": "7582937c",
   "metadata": {},
   "outputs": [
    {
     "data": {
      "application/vnd.plotly.v1+json": {
       "config": {
        "plotlyServerURL": "https://plot.ly"
       },
       "data": [
        {
         "arrangement": "perpendicular",
         "link": {
          "color": [
           "rgba(0.6627450980392157, 0.6627450980392157, 0.6627450980392157, 0.6)",
           "rgba(0.5294117647058824, 0.807843137254902, 0.9215686274509803, 0.6)",
           "rgba(0.5294117647058824, 0.807843137254902, 0.9215686274509803, 0.6)",
           "rgba(0.5294117647058824, 0.807843137254902, 0.9215686274509803, 0.6)",
           "rgba(0.5294117647058824, 0.807843137254902, 0.9215686274509803, 0.6)",
           "rgba(0.5294117647058824, 0.807843137254902, 0.9215686274509803, 0.6)",
           "rgba(0.5294117647058824, 0.807843137254902, 0.9215686274509803, 0.6)",
           "rgba(0.5294117647058824, 0.807843137254902, 0.9215686274509803, 0.6)",
           "rgba(0.5294117647058824, 0.807843137254902, 0.9215686274509803, 0.6)",
           "rgba(0.5294117647058824, 0.807843137254902, 0.9215686274509803, 0.6)",
           "rgba(0.5294117647058824, 0.807843137254902, 0.9215686274509803, 0.6)",
           "rgba(0.5294117647058824, 0.807843137254902, 0.9215686274509803, 0.6)",
           "rgba(0.5294117647058824, 0.807843137254902, 0.9215686274509803, 0.6)",
           "rgba(0.5294117647058824, 0.807843137254902, 0.9215686274509803, 0.6)",
           "rgba(0.5294117647058824, 0.807843137254902, 0.9215686274509803, 0.6)",
           "rgba(0.5294117647058824, 0.807843137254902, 0.9215686274509803, 0.6)",
           "rgba(1.0, 0.0, 1.0, 0.6)",
           "rgba(1.0, 0.0, 1.0, 0.6)",
           "rgba(1.0, 0.0, 1.0, 0.6)",
           "rgba(1.0, 0.0, 1.0, 0.6)",
           "rgba(1.0, 0.0, 1.0, 0.6)",
           "rgba(1.0, 0.0, 1.0, 0.6)",
           "rgba(1.0, 0.0, 0.0, 0.6)",
           "rgba(1.0, 0.0, 0.0, 0.6)",
           "rgba(0.6627450980392157, 0.6627450980392157, 0.6627450980392157, 0.6)",
           "rgba(0.5294117647058824, 0.807843137254902, 0.9215686274509803, 0.6)",
           "rgba(0.5294117647058824, 0.807843137254902, 0.9215686274509803, 0.6)",
           "rgba(0.5294117647058824, 0.807843137254902, 0.9215686274509803, 0.6)",
           "rgba(0.5294117647058824, 0.807843137254902, 0.9215686274509803, 0.6)",
           "rgba(0.5294117647058824, 0.807843137254902, 0.9215686274509803, 0.6)",
           "rgba(0.5294117647058824, 0.807843137254902, 0.9215686274509803, 0.6)",
           "rgba(0.5294117647058824, 0.807843137254902, 0.9215686274509803, 0.6)",
           "rgba(0.5294117647058824, 0.807843137254902, 0.9215686274509803, 0.6)",
           "rgba(0.5294117647058824, 0.807843137254902, 0.9215686274509803, 0.6)",
           "rgba(0.5294117647058824, 0.807843137254902, 0.9215686274509803, 0.6)",
           "rgba(0.5294117647058824, 0.807843137254902, 0.9215686274509803, 0.6)",
           "rgba(0.5294117647058824, 0.807843137254902, 0.9215686274509803, 0.6)",
           "rgba(0.5294117647058824, 0.807843137254902, 0.9215686274509803, 0.6)",
           "rgba(0.5294117647058824, 0.807843137254902, 0.9215686274509803, 0.6)",
           "rgba(0.5294117647058824, 0.807843137254902, 0.9215686274509803, 0.6)",
           "rgba(1.0, 0.0, 1.0, 0.6)",
           "rgba(1.0, 0.0, 1.0, 0.6)",
           "rgba(1.0, 0.0, 1.0, 0.6)",
           "rgba(1.0, 0.0, 1.0, 0.6)",
           "rgba(1.0, 0.0, 1.0, 0.6)",
           "rgba(1.0, 0.0, 1.0, 0.6)",
           "rgba(1.0, 0.0, 0.0, 0.6)",
           "rgba(1.0, 0.0, 0.0, 0.6)",
           "rgba(0.6627450980392157, 0.6627450980392157, 0.6627450980392157, 0.6)",
           "rgba(0.5294117647058824, 0.807843137254902, 0.9215686274509803, 0.6)",
           "rgba(0.5294117647058824, 0.807843137254902, 0.9215686274509803, 0.6)",
           "rgba(0.5294117647058824, 0.807843137254902, 0.9215686274509803, 0.6)",
           "rgba(0.5294117647058824, 0.807843137254902, 0.9215686274509803, 0.6)",
           "rgba(0.5294117647058824, 0.807843137254902, 0.9215686274509803, 0.6)",
           "rgba(0.5294117647058824, 0.807843137254902, 0.9215686274509803, 0.6)",
           "rgba(0.5294117647058824, 0.807843137254902, 0.9215686274509803, 0.6)",
           "rgba(0.5294117647058824, 0.807843137254902, 0.9215686274509803, 0.6)",
           "rgba(0.5294117647058824, 0.807843137254902, 0.9215686274509803, 0.6)",
           "rgba(0.5294117647058824, 0.807843137254902, 0.9215686274509803, 0.6)",
           "rgba(0.5294117647058824, 0.807843137254902, 0.9215686274509803, 0.6)",
           "rgba(0.5294117647058824, 0.807843137254902, 0.9215686274509803, 0.6)",
           "rgba(0.5294117647058824, 0.807843137254902, 0.9215686274509803, 0.6)",
           "rgba(0.5294117647058824, 0.807843137254902, 0.9215686274509803, 0.6)",
           "rgba(0.5294117647058824, 0.807843137254902, 0.9215686274509803, 0.6)",
           "rgba(1.0, 0.0, 1.0, 0.6)",
           "rgba(1.0, 0.0, 1.0, 0.6)",
           "rgba(1.0, 0.0, 1.0, 0.6)",
           "rgba(1.0, 0.0, 1.0, 0.6)",
           "rgba(1.0, 0.0, 1.0, 0.6)",
           "rgba(1.0, 0.0, 1.0, 0.6)",
           "rgba(1.0, 0.0, 0.0, 0.6)",
           "rgba(1.0, 0.0, 0.0, 0.6)",
           "rgba(0.6627450980392157, 0.6627450980392157, 0.6627450980392157, 0.6)",
           "rgba(0.5294117647058824, 0.807843137254902, 0.9215686274509803, 0.6)",
           "rgba(0.5294117647058824, 0.807843137254902, 0.9215686274509803, 0.6)",
           "rgba(0.5294117647058824, 0.807843137254902, 0.9215686274509803, 0.6)",
           "rgba(0.5294117647058824, 0.807843137254902, 0.9215686274509803, 0.6)",
           "rgba(0.5294117647058824, 0.807843137254902, 0.9215686274509803, 0.6)",
           "rgba(0.5294117647058824, 0.807843137254902, 0.9215686274509803, 0.6)",
           "rgba(0.5294117647058824, 0.807843137254902, 0.9215686274509803, 0.6)",
           "rgba(0.5294117647058824, 0.807843137254902, 0.9215686274509803, 0.6)",
           "rgba(0.5294117647058824, 0.807843137254902, 0.9215686274509803, 0.6)",
           "rgba(0.5294117647058824, 0.807843137254902, 0.9215686274509803, 0.6)",
           "rgba(0.5294117647058824, 0.807843137254902, 0.9215686274509803, 0.6)",
           "rgba(0.5294117647058824, 0.807843137254902, 0.9215686274509803, 0.6)",
           "rgba(0.5294117647058824, 0.807843137254902, 0.9215686274509803, 0.6)",
           "rgba(0.5294117647058824, 0.807843137254902, 0.9215686274509803, 0.6)",
           "rgba(0.5294117647058824, 0.807843137254902, 0.9215686274509803, 0.6)",
           "rgba(1.0, 0.0, 1.0, 0.6)",
           "rgba(1.0, 0.0, 1.0, 0.6)",
           "rgba(1.0, 0.0, 1.0, 0.6)",
           "rgba(1.0, 0.0, 1.0, 0.6)",
           "rgba(1.0, 0.0, 1.0, 0.6)",
           "rgba(1.0, 0.0, 1.0, 0.6)",
           "rgba(1.0, 0.0, 0.0, 0.6)",
           "rgba(1.0, 0.0, 0.0, 0.6)"
          ],
          "source": [
           0,
           2,
           3,
           3,
           3,
           3,
           6,
           6,
           7,
           8,
           8,
           4,
           4,
           4,
           11,
           3,
           1,
           9,
           12,
           12,
           13,
           14,
           16,
           9,
           18,
           20,
           21,
           21,
           21,
           21,
           23,
           23,
           24,
           25,
           25,
           4,
           4,
           4,
           28,
           21,
           19,
           26,
           29,
           29,
           30,
           31,
           33,
           26,
           35,
           37,
           38,
           38,
           38,
           38,
           40,
           40,
           41,
           42,
           42,
           4,
           4,
           4,
           45,
           38,
           36,
           43,
           46,
           46,
           47,
           48,
           50,
           43,
           52,
           54,
           55,
           55,
           55,
           55,
           57,
           57,
           58,
           59,
           59,
           4,
           4,
           4,
           62,
           55,
           53,
           60,
           63,
           63,
           64,
           65,
           67,
           60
          ],
          "target": [
           1,
           3,
           4,
           4,
           4,
           5,
           2,
           3,
           6,
           9,
           10,
           8,
           8,
           8,
           8,
           8,
           12,
           12,
           13,
           14,
           14,
           15,
           17,
           16,
           19,
           21,
           4,
           4,
           4,
           22,
           20,
           21,
           23,
           26,
           27,
           25,
           25,
           25,
           25,
           25,
           29,
           29,
           30,
           31,
           31,
           32,
           34,
           33,
           36,
           38,
           4,
           4,
           4,
           39,
           37,
           38,
           40,
           43,
           44,
           42,
           42,
           42,
           42,
           42,
           46,
           46,
           47,
           48,
           48,
           49,
           51,
           50,
           53,
           55,
           4,
           4,
           4,
           56,
           54,
           55,
           57,
           60,
           61,
           59,
           59,
           59,
           59,
           59,
           63,
           63,
           64,
           65,
           65,
           66,
           68,
           67
          ],
          "value": [
           127.4667110643668,
           9325.044625553293,
           6996.097672090819,
           11094.112484118086,
           4861.006601430125,
           36142.925808898115,
           12047.86127332454,
           53454.01093340636,
           65501.8722067309,
           17571.89276462848,
           21097.227299999973,
           4874.697917375707,
           4728.385047410856,
           4944.946898919853,
           20436.177208499743,
           3684.912992422476,
           114.72003995793001,
           40180.60907891743,
           19651.81416118606,
           20643.51495769064,
           15762.177603187949,
           36405.69256087865,
           25528.697334839944,
           33072.53448224471,
           648.1459732170699,
           15499.197633911406,
           4874.697917375707,
           20013.897851701946,
           5451.640362099126,
           63317.44618781606,
           20024.803144588288,
           87105.47247355604,
           107130.27561814449,
           41219.9912467444,
           31237.775342857134,
           6996.097672090819,
           9027.274579808036,
           9338.203485067015,
           38149.20306416025,
           8946.98778847475,
           583.3313758953627,
           155130.76930527354,
           70405.84143110237,
           85308.25925052226,
           56731.69777445295,
           142039.95702497524,
           31601.122087079853,
           39940.09955414422,
           794.191468171664,
           19242.55873177689,
           4728.385047410856,
           9027.274579808036,
           5937.450183380806,
           59871.64412343944,
           24861.18699195964,
           82269.08862618475,
           107130.27561814449,
           78816.45279701821,
           75230.58862857145,
           11094.112484118086,
           20013.897851701946,
           23397.15159014957,
           77594.9860756979,
           21946.893423922604,
           714.7723213544974,
           304939.6883519235,
           132556.9132665663,
           173097.54740671115,
           106913.8615530028,
           280011.40895971406,
           59057.83538904624,
           74996.07324853772,
           155.3040500942946,
           19270.155996274647,
           4944.946898919853,
           9338.203485067015,
           23397.15159014957,
           57247.668360953445,
           24896.842372447678,
           82233.43324569667,
           107130.27561814449,
           21565.224997227662,
           26031.481199999933,
           4861.006601430125,
           5451.640362099126,
           5937.450183380806,
           24770.990143436433,
           6575.618906881438,
           139.77364508486508,
           48644.763542313114,
           23738.407936034033,
           25046.129251364233,
           19041.422425564415,
           44087.551676928575,
           31601.122087079853,
           40999.3771261734
          ]
         },
         "node": {
          "color": [
           "rgba(0.6627450980392157, 0.6627450980392157, 0.6627450980392157, 0.6)",
           "rgba(1.0, 0.0, 0.0, 0.6)",
           "rgba(0.5294117647058824, 0.807843137254902, 0.9215686274509803, 0.6)",
           "rgba(0.5294117647058824, 0.807843137254902, 0.9215686274509803, 0.6)",
           "rgba(0.5294117647058824, 0.807843137254902, 0.9215686274509803, 0.6)",
           "rgba(0.5294117647058824, 0.807843137254902, 0.9215686274509803, 0.6)",
           "rgba(0.5294117647058824, 0.807843137254902, 0.9215686274509803, 0.6)",
           "rgba(0.5294117647058824, 0.807843137254902, 0.9215686274509803, 0.6)",
           "rgba(0.5294117647058824, 0.807843137254902, 0.9215686274509803, 0.6)",
           "rgba(1.0, 0.0, 0.0, 0.6)",
           "rgba(0.5294117647058824, 0.807843137254902, 0.9215686274509803, 0.6)",
           "rgba(0.5294117647058824, 0.807843137254902, 0.9215686274509803, 0.6)",
           "rgba(1.0, 0.0, 1.0, 0.6)",
           "rgba(1.0, 0.0, 1.0, 0.6)",
           "rgba(1.0, 0.0, 1.0, 0.6)",
           "rgba(1.0, 0.0, 1.0, 0.6)",
           "rgba(1.0, 0.0, 0.0, 0.6)",
           "rgba(1.0, 0.0, 0.0, 0.6)",
           "rgba(0.6627450980392157, 0.6627450980392157, 0.6627450980392157, 0.6)",
           "rgba(1.0, 0.0, 0.0, 0.6)",
           "rgba(0.5294117647058824, 0.807843137254902, 0.9215686274509803, 0.6)",
           "rgba(0.5294117647058824, 0.807843137254902, 0.9215686274509803, 0.6)",
           "rgba(0.5294117647058824, 0.807843137254902, 0.9215686274509803, 0.6)",
           "rgba(0.5294117647058824, 0.807843137254902, 0.9215686274509803, 0.6)",
           "rgba(0.5294117647058824, 0.807843137254902, 0.9215686274509803, 0.6)",
           "rgba(0.5294117647058824, 0.807843137254902, 0.9215686274509803, 0.6)",
           "rgba(1.0, 0.0, 0.0, 0.6)",
           "rgba(0.5294117647058824, 0.807843137254902, 0.9215686274509803, 0.6)",
           "rgba(0.5294117647058824, 0.807843137254902, 0.9215686274509803, 0.6)",
           "rgba(1.0, 0.0, 1.0, 0.6)",
           "rgba(1.0, 0.0, 1.0, 0.6)",
           "rgba(1.0, 0.0, 1.0, 0.6)",
           "rgba(1.0, 0.0, 1.0, 0.6)",
           "rgba(1.0, 0.0, 0.0, 0.6)",
           "rgba(1.0, 0.0, 0.0, 0.6)",
           "rgba(0.6627450980392157, 0.6627450980392157, 0.6627450980392157, 0.6)",
           "rgba(1.0, 0.0, 0.0, 0.6)",
           "rgba(0.5294117647058824, 0.807843137254902, 0.9215686274509803, 0.6)",
           "rgba(0.5294117647058824, 0.807843137254902, 0.9215686274509803, 0.6)",
           "rgba(0.5294117647058824, 0.807843137254902, 0.9215686274509803, 0.6)",
           "rgba(0.5294117647058824, 0.807843137254902, 0.9215686274509803, 0.6)",
           "rgba(0.5294117647058824, 0.807843137254902, 0.9215686274509803, 0.6)",
           "rgba(0.5294117647058824, 0.807843137254902, 0.9215686274509803, 0.6)",
           "rgba(1.0, 0.0, 0.0, 0.6)",
           "rgba(0.5294117647058824, 0.807843137254902, 0.9215686274509803, 0.6)",
           "rgba(0.5294117647058824, 0.807843137254902, 0.9215686274509803, 0.6)",
           "rgba(1.0, 0.0, 1.0, 0.6)",
           "rgba(1.0, 0.0, 1.0, 0.6)",
           "rgba(1.0, 0.0, 1.0, 0.6)",
           "rgba(1.0, 0.0, 1.0, 0.6)",
           "rgba(1.0, 0.0, 0.0, 0.6)",
           "rgba(1.0, 0.0, 0.0, 0.6)",
           "rgba(0.6627450980392157, 0.6627450980392157, 0.6627450980392157, 0.6)",
           "rgba(1.0, 0.0, 0.0, 0.6)",
           "rgba(0.5294117647058824, 0.807843137254902, 0.9215686274509803, 0.6)",
           "rgba(0.5294117647058824, 0.807843137254902, 0.9215686274509803, 0.6)",
           "rgba(0.5294117647058824, 0.807843137254902, 0.9215686274509803, 0.6)",
           "rgba(0.5294117647058824, 0.807843137254902, 0.9215686274509803, 0.6)",
           "rgba(0.5294117647058824, 0.807843137254902, 0.9215686274509803, 0.6)",
           "rgba(0.5294117647058824, 0.807843137254902, 0.9215686274509803, 0.6)",
           "rgba(1.0, 0.0, 0.0, 0.6)",
           "rgba(0.5294117647058824, 0.807843137254902, 0.9215686274509803, 0.6)",
           "rgba(0.5294117647058824, 0.807843137254902, 0.9215686274509803, 0.6)",
           "rgba(1.0, 0.0, 1.0, 0.6)",
           "rgba(1.0, 0.0, 1.0, 0.6)",
           "rgba(1.0, 0.0, 1.0, 0.6)",
           "rgba(1.0, 0.0, 1.0, 0.6)",
           "rgba(1.0, 0.0, 0.0, 0.6)",
           "rgba(1.0, 0.0, 0.0, 0.6)"
          ],
          "customdata": [
           "sufficient",
           "5.3 kW",
           "40.7 kWh",
           "sufficient",
           "sufficient",
           "sufficient",
           "sufficient",
           "61.1 kW",
           "sufficient",
           "24.7 kW",
           "sufficient",
           "sufficient",
           "sufficient",
           "225.2 kWh",
           "sufficient",
           "sufficient",
           "2607.6 kWh",
           "sufficient",
           "sufficient",
           "17.9 kW",
           "66.6 kWh",
           "sufficient",
           "sufficient",
           "sufficient",
           "100.0 kW",
           "sufficient",
           "51.8 kW",
           "sufficient",
           "sufficient",
           "sufficient",
           "400.0 kWh",
           "sufficient",
           "sufficient",
           "1623.9 kWh",
           "sufficient",
           "sufficient",
           "29.2 kW",
           "85.6 kWh",
           "sufficient",
           "sufficient",
           "sufficient",
           "100.0 kW",
           "sufficient",
           "93.6 kW",
           "sufficient",
           "sufficient",
           "sufficient",
           "600.0 kWh",
           "sufficient",
           "sufficient",
           "3767.1 kWh",
           "sufficient",
           "sufficient",
           "6.4 kW",
           "85.4 kWh",
           "sufficient",
           "sufficient",
           "sufficient",
           "100.0 kW",
           "sufficient",
           "30.3 kW",
           "sufficient",
           "sufficient",
           "sufficient",
           "272.5 kWh",
           "sufficient",
           "sufficient",
           "3320.9 kWh",
           "sufficient"
          ],
          "hovertemplate": "%{label} has %{customdata} capacity installed",
          "label": [
           "natGas_B1",
           "gasBoiler_B1",
           "Bat_B1",
           "prodEl_B1",
           "elLink",
           "exEl_B1",
           "localEl_B1",
           "pv_B1",
           "usedEl_B1",
           "HP_B1",
           "Q_el_B1",
           "grid_B1",
           "prodSH_B1",
           "shStor_B1",
           "usedSH_B1",
           "Q_sh_B1",
           "dhwStor_B1",
           "Q_dhw_B1",
           "natGas_B2",
           "gasBoiler_B2",
           "Bat_B2",
           "prodEl_B2",
           "exEl_B2",
           "localEl_B2",
           "pv_B2",
           "usedEl_B2",
           "HP_B2",
           "Q_el_B2",
           "grid_B2",
           "prodSH_B2",
           "shStor_B2",
           "usedSH_B2",
           "Q_sh_B2",
           "dhwStor_B2",
           "Q_dhw_B2",
           "natGas_B3",
           "gasBoiler_B3",
           "Bat_B3",
           "prodEl_B3",
           "exEl_B3",
           "localEl_B3",
           "pv_B3",
           "usedEl_B3",
           "HP_B3",
           "Q_el_B3",
           "grid_B3",
           "prodSH_B3",
           "shStor_B3",
           "usedSH_B3",
           "Q_sh_B3",
           "dhwStor_B3",
           "Q_dhw_B3",
           "natGas_B4",
           "gasBoiler_B4",
           "Bat_B4",
           "prodEl_B4",
           "exEl_B4",
           "localEl_B4",
           "pv_B4",
           "usedEl_B4",
           "HP_B4",
           "Q_el_B4",
           "grid_B4",
           "prodSH_B4",
           "shStor_B4",
           "usedSH_B4",
           "Q_sh_B4",
           "dhwStor_B4",
           "Q_dhw_B4"
          ],
          "line": {
           "color": "black",
           "width": 0.5
          },
          "pad": 25,
          "thickness": 15,
          "x": [
           0.001,
           0.1,
           0.2,
           0.3,
           0.4,
           0.999,
           0.15,
           0.001,
           0.5,
           0.6,
           0.999,
           0.001,
           0.65,
           0.68,
           0.75,
           0.999,
           0.8,
           0.999,
           0.001,
           0.1,
           0.2,
           0.3,
           0.999,
           0.15,
           0.001,
           0.5,
           0.6,
           0.999,
           0.001,
           0.65,
           0.68,
           0.75,
           0.999,
           0.8,
           0.999,
           0.001,
           0.1,
           0.2,
           0.3,
           0.999,
           0.15,
           0.001,
           0.5,
           0.6,
           0.999,
           0.001,
           0.65,
           0.68,
           0.75,
           0.999,
           0.8,
           0.999,
           0.001,
           0.1,
           0.2,
           0.3,
           0.999,
           0.15,
           0.001,
           0.5,
           0.6,
           0.999,
           0.001,
           0.65,
           0.68,
           0.75,
           0.999,
           0.8,
           0.999
          ],
          "y": [
           0.1625,
           0.175,
           0.0625,
           0.075,
           0.037500000000000006,
           0.0625,
           0.075,
           0.075,
           0.05,
           0.125,
           0.0375,
           0.0375,
           0.145,
           0.0925,
           0.145,
           0.15,
           0.2125,
           0.2125,
           0.4125,
           0.425,
           0.3125,
           0.325,
           0.3125,
           0.325,
           0.325,
           0.3,
           0.375,
           0.2875,
           0.2875,
           0.395,
           0.3425,
           0.395,
           0.4,
           0.4625,
           0.4625,
           0.6625,
           0.675,
           0.5625,
           0.575,
           0.5625,
           0.575,
           0.575,
           0.55,
           0.625,
           0.5375,
           0.5375,
           0.645,
           0.5925,
           0.645,
           0.65,
           0.7125,
           0.7125,
           0.9125,
           0.925,
           0.8125,
           0.825,
           0.8125,
           0.825,
           0.825,
           0.8,
           0.875,
           0.7875,
           0.7875,
           0.895,
           0.8425,
           0.895,
           0.9,
           0.9625,
           0.9625
          ]
         },
         "type": "sankey"
        }
       ],
       "layout": {
        "font": {
         "color": "black",
         "size": 10
        },
        "paper_bgcolor": "rgba(0,0,0,0)",
        "plot_bgcolor": "rgba(0,0,0,0)",
        "shapes": [
         {
          "line": {
           "color": "rgba(0,0,0,0)"
          },
          "type": "line",
          "x0": 0,
          "x1": 1,
          "xref": "x domain",
          "y0": 0,
          "y1": 0,
          "yref": "y"
         },
         {
          "line": {
           "dash": "dash"
          },
          "type": "line",
          "x0": 0,
          "x1": 1,
          "xref": "x domain",
          "y0": 0.5,
          "y1": 0.5,
          "yref": "y"
         },
         {
          "line": {
           "dash": "dash"
          },
          "type": "line",
          "x0": 0,
          "x1": 1,
          "xref": "x domain",
          "y0": 0.25,
          "y1": 0.25,
          "yref": "y"
         },
         {
          "line": {
           "dash": "dash"
          },
          "type": "line",
          "x0": 0,
          "x1": 1,
          "xref": "x domain",
          "y0": 0.75,
          "y1": 0.75,
          "yref": "y"
         },
         {
          "line": {
           "color": "rgba(0,0,0,0)"
          },
          "type": "line",
          "x0": 0,
          "x1": 1,
          "xref": "x domain",
          "y0": 1,
          "y1": 1,
          "yref": "y"
         }
        ],
        "template": {
         "data": {
          "bar": [
           {
            "error_x": {
             "color": "#2a3f5f"
            },
            "error_y": {
             "color": "#2a3f5f"
            },
            "marker": {
             "line": {
              "color": "#E5ECF6",
              "width": 0.5
             },
             "pattern": {
              "fillmode": "overlay",
              "size": 10,
              "solidity": 0.2
             }
            },
            "type": "bar"
           }
          ],
          "barpolar": [
           {
            "marker": {
             "line": {
              "color": "#E5ECF6",
              "width": 0.5
             },
             "pattern": {
              "fillmode": "overlay",
              "size": 10,
              "solidity": 0.2
             }
            },
            "type": "barpolar"
           }
          ],
          "carpet": [
           {
            "aaxis": {
             "endlinecolor": "#2a3f5f",
             "gridcolor": "white",
             "linecolor": "white",
             "minorgridcolor": "white",
             "startlinecolor": "#2a3f5f"
            },
            "baxis": {
             "endlinecolor": "#2a3f5f",
             "gridcolor": "white",
             "linecolor": "white",
             "minorgridcolor": "white",
             "startlinecolor": "#2a3f5f"
            },
            "type": "carpet"
           }
          ],
          "choropleth": [
           {
            "colorbar": {
             "outlinewidth": 0,
             "ticks": ""
            },
            "type": "choropleth"
           }
          ],
          "contour": [
           {
            "colorbar": {
             "outlinewidth": 0,
             "ticks": ""
            },
            "colorscale": [
             [
              0,
              "#0d0887"
             ],
             [
              0.1111111111111111,
              "#46039f"
             ],
             [
              0.2222222222222222,
              "#7201a8"
             ],
             [
              0.3333333333333333,
              "#9c179e"
             ],
             [
              0.4444444444444444,
              "#bd3786"
             ],
             [
              0.5555555555555556,
              "#d8576b"
             ],
             [
              0.6666666666666666,
              "#ed7953"
             ],
             [
              0.7777777777777778,
              "#fb9f3a"
             ],
             [
              0.8888888888888888,
              "#fdca26"
             ],
             [
              1,
              "#f0f921"
             ]
            ],
            "type": "contour"
           }
          ],
          "contourcarpet": [
           {
            "colorbar": {
             "outlinewidth": 0,
             "ticks": ""
            },
            "type": "contourcarpet"
           }
          ],
          "heatmap": [
           {
            "colorbar": {
             "outlinewidth": 0,
             "ticks": ""
            },
            "colorscale": [
             [
              0,
              "#0d0887"
             ],
             [
              0.1111111111111111,
              "#46039f"
             ],
             [
              0.2222222222222222,
              "#7201a8"
             ],
             [
              0.3333333333333333,
              "#9c179e"
             ],
             [
              0.4444444444444444,
              "#bd3786"
             ],
             [
              0.5555555555555556,
              "#d8576b"
             ],
             [
              0.6666666666666666,
              "#ed7953"
             ],
             [
              0.7777777777777778,
              "#fb9f3a"
             ],
             [
              0.8888888888888888,
              "#fdca26"
             ],
             [
              1,
              "#f0f921"
             ]
            ],
            "type": "heatmap"
           }
          ],
          "heatmapgl": [
           {
            "colorbar": {
             "outlinewidth": 0,
             "ticks": ""
            },
            "colorscale": [
             [
              0,
              "#0d0887"
             ],
             [
              0.1111111111111111,
              "#46039f"
             ],
             [
              0.2222222222222222,
              "#7201a8"
             ],
             [
              0.3333333333333333,
              "#9c179e"
             ],
             [
              0.4444444444444444,
              "#bd3786"
             ],
             [
              0.5555555555555556,
              "#d8576b"
             ],
             [
              0.6666666666666666,
              "#ed7953"
             ],
             [
              0.7777777777777778,
              "#fb9f3a"
             ],
             [
              0.8888888888888888,
              "#fdca26"
             ],
             [
              1,
              "#f0f921"
             ]
            ],
            "type": "heatmapgl"
           }
          ],
          "histogram": [
           {
            "marker": {
             "pattern": {
              "fillmode": "overlay",
              "size": 10,
              "solidity": 0.2
             }
            },
            "type": "histogram"
           }
          ],
          "histogram2d": [
           {
            "colorbar": {
             "outlinewidth": 0,
             "ticks": ""
            },
            "colorscale": [
             [
              0,
              "#0d0887"
             ],
             [
              0.1111111111111111,
              "#46039f"
             ],
             [
              0.2222222222222222,
              "#7201a8"
             ],
             [
              0.3333333333333333,
              "#9c179e"
             ],
             [
              0.4444444444444444,
              "#bd3786"
             ],
             [
              0.5555555555555556,
              "#d8576b"
             ],
             [
              0.6666666666666666,
              "#ed7953"
             ],
             [
              0.7777777777777778,
              "#fb9f3a"
             ],
             [
              0.8888888888888888,
              "#fdca26"
             ],
             [
              1,
              "#f0f921"
             ]
            ],
            "type": "histogram2d"
           }
          ],
          "histogram2dcontour": [
           {
            "colorbar": {
             "outlinewidth": 0,
             "ticks": ""
            },
            "colorscale": [
             [
              0,
              "#0d0887"
             ],
             [
              0.1111111111111111,
              "#46039f"
             ],
             [
              0.2222222222222222,
              "#7201a8"
             ],
             [
              0.3333333333333333,
              "#9c179e"
             ],
             [
              0.4444444444444444,
              "#bd3786"
             ],
             [
              0.5555555555555556,
              "#d8576b"
             ],
             [
              0.6666666666666666,
              "#ed7953"
             ],
             [
              0.7777777777777778,
              "#fb9f3a"
             ],
             [
              0.8888888888888888,
              "#fdca26"
             ],
             [
              1,
              "#f0f921"
             ]
            ],
            "type": "histogram2dcontour"
           }
          ],
          "mesh3d": [
           {
            "colorbar": {
             "outlinewidth": 0,
             "ticks": ""
            },
            "type": "mesh3d"
           }
          ],
          "parcoords": [
           {
            "line": {
             "colorbar": {
              "outlinewidth": 0,
              "ticks": ""
             }
            },
            "type": "parcoords"
           }
          ],
          "pie": [
           {
            "automargin": true,
            "type": "pie"
           }
          ],
          "scatter": [
           {
            "marker": {
             "colorbar": {
              "outlinewidth": 0,
              "ticks": ""
             }
            },
            "type": "scatter"
           }
          ],
          "scatter3d": [
           {
            "line": {
             "colorbar": {
              "outlinewidth": 0,
              "ticks": ""
             }
            },
            "marker": {
             "colorbar": {
              "outlinewidth": 0,
              "ticks": ""
             }
            },
            "type": "scatter3d"
           }
          ],
          "scattercarpet": [
           {
            "marker": {
             "colorbar": {
              "outlinewidth": 0,
              "ticks": ""
             }
            },
            "type": "scattercarpet"
           }
          ],
          "scattergeo": [
           {
            "marker": {
             "colorbar": {
              "outlinewidth": 0,
              "ticks": ""
             }
            },
            "type": "scattergeo"
           }
          ],
          "scattergl": [
           {
            "marker": {
             "colorbar": {
              "outlinewidth": 0,
              "ticks": ""
             }
            },
            "type": "scattergl"
           }
          ],
          "scattermapbox": [
           {
            "marker": {
             "colorbar": {
              "outlinewidth": 0,
              "ticks": ""
             }
            },
            "type": "scattermapbox"
           }
          ],
          "scatterpolar": [
           {
            "marker": {
             "colorbar": {
              "outlinewidth": 0,
              "ticks": ""
             }
            },
            "type": "scatterpolar"
           }
          ],
          "scatterpolargl": [
           {
            "marker": {
             "colorbar": {
              "outlinewidth": 0,
              "ticks": ""
             }
            },
            "type": "scatterpolargl"
           }
          ],
          "scatterternary": [
           {
            "marker": {
             "colorbar": {
              "outlinewidth": 0,
              "ticks": ""
             }
            },
            "type": "scatterternary"
           }
          ],
          "surface": [
           {
            "colorbar": {
             "outlinewidth": 0,
             "ticks": ""
            },
            "colorscale": [
             [
              0,
              "#0d0887"
             ],
             [
              0.1111111111111111,
              "#46039f"
             ],
             [
              0.2222222222222222,
              "#7201a8"
             ],
             [
              0.3333333333333333,
              "#9c179e"
             ],
             [
              0.4444444444444444,
              "#bd3786"
             ],
             [
              0.5555555555555556,
              "#d8576b"
             ],
             [
              0.6666666666666666,
              "#ed7953"
             ],
             [
              0.7777777777777778,
              "#fb9f3a"
             ],
             [
              0.8888888888888888,
              "#fdca26"
             ],
             [
              1,
              "#f0f921"
             ]
            ],
            "type": "surface"
           }
          ],
          "table": [
           {
            "cells": {
             "fill": {
              "color": "#EBF0F8"
             },
             "line": {
              "color": "white"
             }
            },
            "header": {
             "fill": {
              "color": "#C8D4E3"
             },
             "line": {
              "color": "white"
             }
            },
            "type": "table"
           }
          ]
         },
         "layout": {
          "annotationdefaults": {
           "arrowcolor": "#2a3f5f",
           "arrowhead": 0,
           "arrowwidth": 1
          },
          "autotypenumbers": "strict",
          "coloraxis": {
           "colorbar": {
            "outlinewidth": 0,
            "ticks": ""
           }
          },
          "colorscale": {
           "diverging": [
            [
             0,
             "#8e0152"
            ],
            [
             0.1,
             "#c51b7d"
            ],
            [
             0.2,
             "#de77ae"
            ],
            [
             0.3,
             "#f1b6da"
            ],
            [
             0.4,
             "#fde0ef"
            ],
            [
             0.5,
             "#f7f7f7"
            ],
            [
             0.6,
             "#e6f5d0"
            ],
            [
             0.7,
             "#b8e186"
            ],
            [
             0.8,
             "#7fbc41"
            ],
            [
             0.9,
             "#4d9221"
            ],
            [
             1,
             "#276419"
            ]
           ],
           "sequential": [
            [
             0,
             "#0d0887"
            ],
            [
             0.1111111111111111,
             "#46039f"
            ],
            [
             0.2222222222222222,
             "#7201a8"
            ],
            [
             0.3333333333333333,
             "#9c179e"
            ],
            [
             0.4444444444444444,
             "#bd3786"
            ],
            [
             0.5555555555555556,
             "#d8576b"
            ],
            [
             0.6666666666666666,
             "#ed7953"
            ],
            [
             0.7777777777777778,
             "#fb9f3a"
            ],
            [
             0.8888888888888888,
             "#fdca26"
            ],
            [
             1,
             "#f0f921"
            ]
           ],
           "sequentialminus": [
            [
             0,
             "#0d0887"
            ],
            [
             0.1111111111111111,
             "#46039f"
            ],
            [
             0.2222222222222222,
             "#7201a8"
            ],
            [
             0.3333333333333333,
             "#9c179e"
            ],
            [
             0.4444444444444444,
             "#bd3786"
            ],
            [
             0.5555555555555556,
             "#d8576b"
            ],
            [
             0.6666666666666666,
             "#ed7953"
            ],
            [
             0.7777777777777778,
             "#fb9f3a"
            ],
            [
             0.8888888888888888,
             "#fdca26"
            ],
            [
             1,
             "#f0f921"
            ]
           ]
          },
          "colorway": [
           "#636efa",
           "#EF553B",
           "#00cc96",
           "#ab63fa",
           "#FFA15A",
           "#19d3f3",
           "#FF6692",
           "#B6E880",
           "#FF97FF",
           "#FECB52"
          ],
          "font": {
           "color": "#2a3f5f"
          },
          "geo": {
           "bgcolor": "white",
           "lakecolor": "white",
           "landcolor": "#E5ECF6",
           "showlakes": true,
           "showland": true,
           "subunitcolor": "white"
          },
          "hoverlabel": {
           "align": "left"
          },
          "hovermode": "closest",
          "mapbox": {
           "style": "light"
          },
          "paper_bgcolor": "white",
          "plot_bgcolor": "#E5ECF6",
          "polar": {
           "angularaxis": {
            "gridcolor": "white",
            "linecolor": "white",
            "ticks": ""
           },
           "bgcolor": "#E5ECF6",
           "radialaxis": {
            "gridcolor": "white",
            "linecolor": "white",
            "ticks": ""
           }
          },
          "scene": {
           "xaxis": {
            "backgroundcolor": "#E5ECF6",
            "gridcolor": "white",
            "gridwidth": 2,
            "linecolor": "white",
            "showbackground": true,
            "ticks": "",
            "zerolinecolor": "white"
           },
           "yaxis": {
            "backgroundcolor": "#E5ECF6",
            "gridcolor": "white",
            "gridwidth": 2,
            "linecolor": "white",
            "showbackground": true,
            "ticks": "",
            "zerolinecolor": "white"
           },
           "zaxis": {
            "backgroundcolor": "#E5ECF6",
            "gridcolor": "white",
            "gridwidth": 2,
            "linecolor": "white",
            "showbackground": true,
            "ticks": "",
            "zerolinecolor": "white"
           }
          },
          "shapedefaults": {
           "line": {
            "color": "#2a3f5f"
           }
          },
          "ternary": {
           "aaxis": {
            "gridcolor": "white",
            "linecolor": "white",
            "ticks": ""
           },
           "baxis": {
            "gridcolor": "white",
            "linecolor": "white",
            "ticks": ""
           },
           "bgcolor": "#E5ECF6",
           "caxis": {
            "gridcolor": "white",
            "linecolor": "white",
            "ticks": ""
           }
          },
          "title": {
           "x": 0.05
          },
          "xaxis": {
           "automargin": true,
           "gridcolor": "white",
           "linecolor": "white",
           "ticks": "",
           "title": {
            "standoff": 15
           },
           "zerolinecolor": "white",
           "zerolinewidth": 2
          },
          "yaxis": {
           "automargin": true,
           "gridcolor": "white",
           "linecolor": "white",
           "ticks": "",
           "title": {
            "standoff": 15
           },
           "zerolinecolor": "white",
           "zerolinewidth": 2
          }
         }
        },
        "title": {
         "text": "..\\data\\Results\\results4_4_group.xlsx for buildings [1, 2, 3, 4]"
        },
        "xaxis": {
         "visible": false
        },
        "yaxis": {
         "visible": false
        }
       }
      },
      "text/html": [
       "<div>                            <div id=\"8e08c1fb-768b-4c24-aa5a-d71477761eff\" class=\"plotly-graph-div\" style=\"height:525px; width:100%;\"></div>            <script type=\"text/javascript\">                require([\"plotly\"], function(Plotly) {                    window.PLOTLYENV=window.PLOTLYENV || {};                                    if (document.getElementById(\"8e08c1fb-768b-4c24-aa5a-d71477761eff\")) {                    Plotly.newPlot(                        \"8e08c1fb-768b-4c24-aa5a-d71477761eff\",                        [{\"arrangement\":\"perpendicular\",\"link\":{\"color\":[\"rgba(0.6627450980392157, 0.6627450980392157, 0.6627450980392157, 0.6)\",\"rgba(0.5294117647058824, 0.807843137254902, 0.9215686274509803, 0.6)\",\"rgba(0.5294117647058824, 0.807843137254902, 0.9215686274509803, 0.6)\",\"rgba(0.5294117647058824, 0.807843137254902, 0.9215686274509803, 0.6)\",\"rgba(0.5294117647058824, 0.807843137254902, 0.9215686274509803, 0.6)\",\"rgba(0.5294117647058824, 0.807843137254902, 0.9215686274509803, 0.6)\",\"rgba(0.5294117647058824, 0.807843137254902, 0.9215686274509803, 0.6)\",\"rgba(0.5294117647058824, 0.807843137254902, 0.9215686274509803, 0.6)\",\"rgba(0.5294117647058824, 0.807843137254902, 0.9215686274509803, 0.6)\",\"rgba(0.5294117647058824, 0.807843137254902, 0.9215686274509803, 0.6)\",\"rgba(0.5294117647058824, 0.807843137254902, 0.9215686274509803, 0.6)\",\"rgba(0.5294117647058824, 0.807843137254902, 0.9215686274509803, 0.6)\",\"rgba(0.5294117647058824, 0.807843137254902, 0.9215686274509803, 0.6)\",\"rgba(0.5294117647058824, 0.807843137254902, 0.9215686274509803, 0.6)\",\"rgba(0.5294117647058824, 0.807843137254902, 0.9215686274509803, 0.6)\",\"rgba(0.5294117647058824, 0.807843137254902, 0.9215686274509803, 0.6)\",\"rgba(1.0, 0.0, 1.0, 0.6)\",\"rgba(1.0, 0.0, 1.0, 0.6)\",\"rgba(1.0, 0.0, 1.0, 0.6)\",\"rgba(1.0, 0.0, 1.0, 0.6)\",\"rgba(1.0, 0.0, 1.0, 0.6)\",\"rgba(1.0, 0.0, 1.0, 0.6)\",\"rgba(1.0, 0.0, 0.0, 0.6)\",\"rgba(1.0, 0.0, 0.0, 0.6)\",\"rgba(0.6627450980392157, 0.6627450980392157, 0.6627450980392157, 0.6)\",\"rgba(0.5294117647058824, 0.807843137254902, 0.9215686274509803, 0.6)\",\"rgba(0.5294117647058824, 0.807843137254902, 0.9215686274509803, 0.6)\",\"rgba(0.5294117647058824, 0.807843137254902, 0.9215686274509803, 0.6)\",\"rgba(0.5294117647058824, 0.807843137254902, 0.9215686274509803, 0.6)\",\"rgba(0.5294117647058824, 0.807843137254902, 0.9215686274509803, 0.6)\",\"rgba(0.5294117647058824, 0.807843137254902, 0.9215686274509803, 0.6)\",\"rgba(0.5294117647058824, 0.807843137254902, 0.9215686274509803, 0.6)\",\"rgba(0.5294117647058824, 0.807843137254902, 0.9215686274509803, 0.6)\",\"rgba(0.5294117647058824, 0.807843137254902, 0.9215686274509803, 0.6)\",\"rgba(0.5294117647058824, 0.807843137254902, 0.9215686274509803, 0.6)\",\"rgba(0.5294117647058824, 0.807843137254902, 0.9215686274509803, 0.6)\",\"rgba(0.5294117647058824, 0.807843137254902, 0.9215686274509803, 0.6)\",\"rgba(0.5294117647058824, 0.807843137254902, 0.9215686274509803, 0.6)\",\"rgba(0.5294117647058824, 0.807843137254902, 0.9215686274509803, 0.6)\",\"rgba(0.5294117647058824, 0.807843137254902, 0.9215686274509803, 0.6)\",\"rgba(1.0, 0.0, 1.0, 0.6)\",\"rgba(1.0, 0.0, 1.0, 0.6)\",\"rgba(1.0, 0.0, 1.0, 0.6)\",\"rgba(1.0, 0.0, 1.0, 0.6)\",\"rgba(1.0, 0.0, 1.0, 0.6)\",\"rgba(1.0, 0.0, 1.0, 0.6)\",\"rgba(1.0, 0.0, 0.0, 0.6)\",\"rgba(1.0, 0.0, 0.0, 0.6)\",\"rgba(0.6627450980392157, 0.6627450980392157, 0.6627450980392157, 0.6)\",\"rgba(0.5294117647058824, 0.807843137254902, 0.9215686274509803, 0.6)\",\"rgba(0.5294117647058824, 0.807843137254902, 0.9215686274509803, 0.6)\",\"rgba(0.5294117647058824, 0.807843137254902, 0.9215686274509803, 0.6)\",\"rgba(0.5294117647058824, 0.807843137254902, 0.9215686274509803, 0.6)\",\"rgba(0.5294117647058824, 0.807843137254902, 0.9215686274509803, 0.6)\",\"rgba(0.5294117647058824, 0.807843137254902, 0.9215686274509803, 0.6)\",\"rgba(0.5294117647058824, 0.807843137254902, 0.9215686274509803, 0.6)\",\"rgba(0.5294117647058824, 0.807843137254902, 0.9215686274509803, 0.6)\",\"rgba(0.5294117647058824, 0.807843137254902, 0.9215686274509803, 0.6)\",\"rgba(0.5294117647058824, 0.807843137254902, 0.9215686274509803, 0.6)\",\"rgba(0.5294117647058824, 0.807843137254902, 0.9215686274509803, 0.6)\",\"rgba(0.5294117647058824, 0.807843137254902, 0.9215686274509803, 0.6)\",\"rgba(0.5294117647058824, 0.807843137254902, 0.9215686274509803, 0.6)\",\"rgba(0.5294117647058824, 0.807843137254902, 0.9215686274509803, 0.6)\",\"rgba(0.5294117647058824, 0.807843137254902, 0.9215686274509803, 0.6)\",\"rgba(1.0, 0.0, 1.0, 0.6)\",\"rgba(1.0, 0.0, 1.0, 0.6)\",\"rgba(1.0, 0.0, 1.0, 0.6)\",\"rgba(1.0, 0.0, 1.0, 0.6)\",\"rgba(1.0, 0.0, 1.0, 0.6)\",\"rgba(1.0, 0.0, 1.0, 0.6)\",\"rgba(1.0, 0.0, 0.0, 0.6)\",\"rgba(1.0, 0.0, 0.0, 0.6)\",\"rgba(0.6627450980392157, 0.6627450980392157, 0.6627450980392157, 0.6)\",\"rgba(0.5294117647058824, 0.807843137254902, 0.9215686274509803, 0.6)\",\"rgba(0.5294117647058824, 0.807843137254902, 0.9215686274509803, 0.6)\",\"rgba(0.5294117647058824, 0.807843137254902, 0.9215686274509803, 0.6)\",\"rgba(0.5294117647058824, 0.807843137254902, 0.9215686274509803, 0.6)\",\"rgba(0.5294117647058824, 0.807843137254902, 0.9215686274509803, 0.6)\",\"rgba(0.5294117647058824, 0.807843137254902, 0.9215686274509803, 0.6)\",\"rgba(0.5294117647058824, 0.807843137254902, 0.9215686274509803, 0.6)\",\"rgba(0.5294117647058824, 0.807843137254902, 0.9215686274509803, 0.6)\",\"rgba(0.5294117647058824, 0.807843137254902, 0.9215686274509803, 0.6)\",\"rgba(0.5294117647058824, 0.807843137254902, 0.9215686274509803, 0.6)\",\"rgba(0.5294117647058824, 0.807843137254902, 0.9215686274509803, 0.6)\",\"rgba(0.5294117647058824, 0.807843137254902, 0.9215686274509803, 0.6)\",\"rgba(0.5294117647058824, 0.807843137254902, 0.9215686274509803, 0.6)\",\"rgba(0.5294117647058824, 0.807843137254902, 0.9215686274509803, 0.6)\",\"rgba(0.5294117647058824, 0.807843137254902, 0.9215686274509803, 0.6)\",\"rgba(1.0, 0.0, 1.0, 0.6)\",\"rgba(1.0, 0.0, 1.0, 0.6)\",\"rgba(1.0, 0.0, 1.0, 0.6)\",\"rgba(1.0, 0.0, 1.0, 0.6)\",\"rgba(1.0, 0.0, 1.0, 0.6)\",\"rgba(1.0, 0.0, 1.0, 0.6)\",\"rgba(1.0, 0.0, 0.0, 0.6)\",\"rgba(1.0, 0.0, 0.0, 0.6)\"],\"source\":[0,2,3,3,3,3,6,6,7,8,8,4,4,4,11,3,1,9,12,12,13,14,16,9,18,20,21,21,21,21,23,23,24,25,25,4,4,4,28,21,19,26,29,29,30,31,33,26,35,37,38,38,38,38,40,40,41,42,42,4,4,4,45,38,36,43,46,46,47,48,50,43,52,54,55,55,55,55,57,57,58,59,59,4,4,4,62,55,53,60,63,63,64,65,67,60],\"target\":[1,3,4,4,4,5,2,3,6,9,10,8,8,8,8,8,12,12,13,14,14,15,17,16,19,21,4,4,4,22,20,21,23,26,27,25,25,25,25,25,29,29,30,31,31,32,34,33,36,38,4,4,4,39,37,38,40,43,44,42,42,42,42,42,46,46,47,48,48,49,51,50,53,55,4,4,4,56,54,55,57,60,61,59,59,59,59,59,63,63,64,65,65,66,68,67],\"value\":[127.4667110643668,9325.044625553293,6996.097672090819,11094.112484118086,4861.006601430125,36142.925808898115,12047.86127332454,53454.01093340636,65501.8722067309,17571.89276462848,21097.227299999973,4874.697917375707,4728.385047410856,4944.946898919853,20436.177208499743,3684.912992422476,114.72003995793001,40180.60907891743,19651.81416118606,20643.51495769064,15762.177603187949,36405.69256087865,25528.697334839944,33072.53448224471,648.1459732170699,15499.197633911406,4874.697917375707,20013.897851701946,5451.640362099126,63317.44618781606,20024.803144588288,87105.47247355604,107130.27561814449,41219.9912467444,31237.775342857134,6996.097672090819,9027.274579808036,9338.203485067015,38149.20306416025,8946.98778847475,583.3313758953627,155130.76930527354,70405.84143110237,85308.25925052226,56731.69777445295,142039.95702497524,31601.122087079853,39940.09955414422,794.191468171664,19242.55873177689,4728.385047410856,9027.274579808036,5937.450183380806,59871.64412343944,24861.18699195964,82269.08862618475,107130.27561814449,78816.45279701821,75230.58862857145,11094.112484118086,20013.897851701946,23397.15159014957,77594.9860756979,21946.893423922604,714.7723213544974,304939.6883519235,132556.9132665663,173097.54740671115,106913.8615530028,280011.40895971406,59057.83538904624,74996.07324853772,155.3040500942946,19270.155996274647,4944.946898919853,9338.203485067015,23397.15159014957,57247.668360953445,24896.842372447678,82233.43324569667,107130.27561814449,21565.224997227662,26031.481199999933,4861.006601430125,5451.640362099126,5937.450183380806,24770.990143436433,6575.618906881438,139.77364508486508,48644.763542313114,23738.407936034033,25046.129251364233,19041.422425564415,44087.551676928575,31601.122087079853,40999.3771261734]},\"node\":{\"color\":[\"rgba(0.6627450980392157, 0.6627450980392157, 0.6627450980392157, 0.6)\",\"rgba(1.0, 0.0, 0.0, 0.6)\",\"rgba(0.5294117647058824, 0.807843137254902, 0.9215686274509803, 0.6)\",\"rgba(0.5294117647058824, 0.807843137254902, 0.9215686274509803, 0.6)\",\"rgba(0.5294117647058824, 0.807843137254902, 0.9215686274509803, 0.6)\",\"rgba(0.5294117647058824, 0.807843137254902, 0.9215686274509803, 0.6)\",\"rgba(0.5294117647058824, 0.807843137254902, 0.9215686274509803, 0.6)\",\"rgba(0.5294117647058824, 0.807843137254902, 0.9215686274509803, 0.6)\",\"rgba(0.5294117647058824, 0.807843137254902, 0.9215686274509803, 0.6)\",\"rgba(1.0, 0.0, 0.0, 0.6)\",\"rgba(0.5294117647058824, 0.807843137254902, 0.9215686274509803, 0.6)\",\"rgba(0.5294117647058824, 0.807843137254902, 0.9215686274509803, 0.6)\",\"rgba(1.0, 0.0, 1.0, 0.6)\",\"rgba(1.0, 0.0, 1.0, 0.6)\",\"rgba(1.0, 0.0, 1.0, 0.6)\",\"rgba(1.0, 0.0, 1.0, 0.6)\",\"rgba(1.0, 0.0, 0.0, 0.6)\",\"rgba(1.0, 0.0, 0.0, 0.6)\",\"rgba(0.6627450980392157, 0.6627450980392157, 0.6627450980392157, 0.6)\",\"rgba(1.0, 0.0, 0.0, 0.6)\",\"rgba(0.5294117647058824, 0.807843137254902, 0.9215686274509803, 0.6)\",\"rgba(0.5294117647058824, 0.807843137254902, 0.9215686274509803, 0.6)\",\"rgba(0.5294117647058824, 0.807843137254902, 0.9215686274509803, 0.6)\",\"rgba(0.5294117647058824, 0.807843137254902, 0.9215686274509803, 0.6)\",\"rgba(0.5294117647058824, 0.807843137254902, 0.9215686274509803, 0.6)\",\"rgba(0.5294117647058824, 0.807843137254902, 0.9215686274509803, 0.6)\",\"rgba(1.0, 0.0, 0.0, 0.6)\",\"rgba(0.5294117647058824, 0.807843137254902, 0.9215686274509803, 0.6)\",\"rgba(0.5294117647058824, 0.807843137254902, 0.9215686274509803, 0.6)\",\"rgba(1.0, 0.0, 1.0, 0.6)\",\"rgba(1.0, 0.0, 1.0, 0.6)\",\"rgba(1.0, 0.0, 1.0, 0.6)\",\"rgba(1.0, 0.0, 1.0, 0.6)\",\"rgba(1.0, 0.0, 0.0, 0.6)\",\"rgba(1.0, 0.0, 0.0, 0.6)\",\"rgba(0.6627450980392157, 0.6627450980392157, 0.6627450980392157, 0.6)\",\"rgba(1.0, 0.0, 0.0, 0.6)\",\"rgba(0.5294117647058824, 0.807843137254902, 0.9215686274509803, 0.6)\",\"rgba(0.5294117647058824, 0.807843137254902, 0.9215686274509803, 0.6)\",\"rgba(0.5294117647058824, 0.807843137254902, 0.9215686274509803, 0.6)\",\"rgba(0.5294117647058824, 0.807843137254902, 0.9215686274509803, 0.6)\",\"rgba(0.5294117647058824, 0.807843137254902, 0.9215686274509803, 0.6)\",\"rgba(0.5294117647058824, 0.807843137254902, 0.9215686274509803, 0.6)\",\"rgba(1.0, 0.0, 0.0, 0.6)\",\"rgba(0.5294117647058824, 0.807843137254902, 0.9215686274509803, 0.6)\",\"rgba(0.5294117647058824, 0.807843137254902, 0.9215686274509803, 0.6)\",\"rgba(1.0, 0.0, 1.0, 0.6)\",\"rgba(1.0, 0.0, 1.0, 0.6)\",\"rgba(1.0, 0.0, 1.0, 0.6)\",\"rgba(1.0, 0.0, 1.0, 0.6)\",\"rgba(1.0, 0.0, 0.0, 0.6)\",\"rgba(1.0, 0.0, 0.0, 0.6)\",\"rgba(0.6627450980392157, 0.6627450980392157, 0.6627450980392157, 0.6)\",\"rgba(1.0, 0.0, 0.0, 0.6)\",\"rgba(0.5294117647058824, 0.807843137254902, 0.9215686274509803, 0.6)\",\"rgba(0.5294117647058824, 0.807843137254902, 0.9215686274509803, 0.6)\",\"rgba(0.5294117647058824, 0.807843137254902, 0.9215686274509803, 0.6)\",\"rgba(0.5294117647058824, 0.807843137254902, 0.9215686274509803, 0.6)\",\"rgba(0.5294117647058824, 0.807843137254902, 0.9215686274509803, 0.6)\",\"rgba(0.5294117647058824, 0.807843137254902, 0.9215686274509803, 0.6)\",\"rgba(1.0, 0.0, 0.0, 0.6)\",\"rgba(0.5294117647058824, 0.807843137254902, 0.9215686274509803, 0.6)\",\"rgba(0.5294117647058824, 0.807843137254902, 0.9215686274509803, 0.6)\",\"rgba(1.0, 0.0, 1.0, 0.6)\",\"rgba(1.0, 0.0, 1.0, 0.6)\",\"rgba(1.0, 0.0, 1.0, 0.6)\",\"rgba(1.0, 0.0, 1.0, 0.6)\",\"rgba(1.0, 0.0, 0.0, 0.6)\",\"rgba(1.0, 0.0, 0.0, 0.6)\"],\"customdata\":[\"sufficient\",\"5.3 kW\",\"40.7 kWh\",\"sufficient\",\"sufficient\",\"sufficient\",\"sufficient\",\"61.1 kW\",\"sufficient\",\"24.7 kW\",\"sufficient\",\"sufficient\",\"sufficient\",\"225.2 kWh\",\"sufficient\",\"sufficient\",\"2607.6 kWh\",\"sufficient\",\"sufficient\",\"17.9 kW\",\"66.6 kWh\",\"sufficient\",\"sufficient\",\"sufficient\",\"100.0 kW\",\"sufficient\",\"51.8 kW\",\"sufficient\",\"sufficient\",\"sufficient\",\"400.0 kWh\",\"sufficient\",\"sufficient\",\"1623.9 kWh\",\"sufficient\",\"sufficient\",\"29.2 kW\",\"85.6 kWh\",\"sufficient\",\"sufficient\",\"sufficient\",\"100.0 kW\",\"sufficient\",\"93.6 kW\",\"sufficient\",\"sufficient\",\"sufficient\",\"600.0 kWh\",\"sufficient\",\"sufficient\",\"3767.1 kWh\",\"sufficient\",\"sufficient\",\"6.4 kW\",\"85.4 kWh\",\"sufficient\",\"sufficient\",\"sufficient\",\"100.0 kW\",\"sufficient\",\"30.3 kW\",\"sufficient\",\"sufficient\",\"sufficient\",\"272.5 kWh\",\"sufficient\",\"sufficient\",\"3320.9 kWh\",\"sufficient\"],\"hovertemplate\":\"%{label} has %{customdata} capacity installed\",\"label\":[\"natGas_B1\",\"gasBoiler_B1\",\"Bat_B1\",\"prodEl_B1\",\"elLink\",\"exEl_B1\",\"localEl_B1\",\"pv_B1\",\"usedEl_B1\",\"HP_B1\",\"Q_el_B1\",\"grid_B1\",\"prodSH_B1\",\"shStor_B1\",\"usedSH_B1\",\"Q_sh_B1\",\"dhwStor_B1\",\"Q_dhw_B1\",\"natGas_B2\",\"gasBoiler_B2\",\"Bat_B2\",\"prodEl_B2\",\"exEl_B2\",\"localEl_B2\",\"pv_B2\",\"usedEl_B2\",\"HP_B2\",\"Q_el_B2\",\"grid_B2\",\"prodSH_B2\",\"shStor_B2\",\"usedSH_B2\",\"Q_sh_B2\",\"dhwStor_B2\",\"Q_dhw_B2\",\"natGas_B3\",\"gasBoiler_B3\",\"Bat_B3\",\"prodEl_B3\",\"exEl_B3\",\"localEl_B3\",\"pv_B3\",\"usedEl_B3\",\"HP_B3\",\"Q_el_B3\",\"grid_B3\",\"prodSH_B3\",\"shStor_B3\",\"usedSH_B3\",\"Q_sh_B3\",\"dhwStor_B3\",\"Q_dhw_B3\",\"natGas_B4\",\"gasBoiler_B4\",\"Bat_B4\",\"prodEl_B4\",\"exEl_B4\",\"localEl_B4\",\"pv_B4\",\"usedEl_B4\",\"HP_B4\",\"Q_el_B4\",\"grid_B4\",\"prodSH_B4\",\"shStor_B4\",\"usedSH_B4\",\"Q_sh_B4\",\"dhwStor_B4\",\"Q_dhw_B4\"],\"line\":{\"color\":\"black\",\"width\":0.5},\"pad\":25,\"thickness\":15,\"x\":[0.001,0.1,0.2,0.3,0.4,0.999,0.15,0.001,0.5,0.6,0.999,0.001,0.65,0.68,0.75,0.999,0.8,0.999,0.001,0.1,0.2,0.3,0.999,0.15,0.001,0.5,0.6,0.999,0.001,0.65,0.68,0.75,0.999,0.8,0.999,0.001,0.1,0.2,0.3,0.999,0.15,0.001,0.5,0.6,0.999,0.001,0.65,0.68,0.75,0.999,0.8,0.999,0.001,0.1,0.2,0.3,0.999,0.15,0.001,0.5,0.6,0.999,0.001,0.65,0.68,0.75,0.999,0.8,0.999],\"y\":[0.1625,0.175,0.0625,0.075,0.037500000000000006,0.0625,0.075,0.075,0.05,0.125,0.0375,0.0375,0.145,0.0925,0.145,0.15,0.2125,0.2125,0.4125,0.425,0.3125,0.325,0.3125,0.325,0.325,0.3,0.375,0.2875,0.2875,0.395,0.3425,0.395,0.4,0.4625,0.4625,0.6625,0.675,0.5625,0.575,0.5625,0.575,0.575,0.55,0.625,0.5375,0.5375,0.645,0.5925,0.645,0.65,0.7125,0.7125,0.9125,0.925,0.8125,0.825,0.8125,0.825,0.825,0.8,0.875,0.7875,0.7875,0.895,0.8425,0.895,0.9,0.9625,0.9625]},\"type\":\"sankey\"}],                        {\"template\":{\"data\":{\"bar\":[{\"error_x\":{\"color\":\"#2a3f5f\"},\"error_y\":{\"color\":\"#2a3f5f\"},\"marker\":{\"line\":{\"color\":\"#E5ECF6\",\"width\":0.5},\"pattern\":{\"fillmode\":\"overlay\",\"size\":10,\"solidity\":0.2}},\"type\":\"bar\"}],\"barpolar\":[{\"marker\":{\"line\":{\"color\":\"#E5ECF6\",\"width\":0.5},\"pattern\":{\"fillmode\":\"overlay\",\"size\":10,\"solidity\":0.2}},\"type\":\"barpolar\"}],\"carpet\":[{\"aaxis\":{\"endlinecolor\":\"#2a3f5f\",\"gridcolor\":\"white\",\"linecolor\":\"white\",\"minorgridcolor\":\"white\",\"startlinecolor\":\"#2a3f5f\"},\"baxis\":{\"endlinecolor\":\"#2a3f5f\",\"gridcolor\":\"white\",\"linecolor\":\"white\",\"minorgridcolor\":\"white\",\"startlinecolor\":\"#2a3f5f\"},\"type\":\"carpet\"}],\"choropleth\":[{\"colorbar\":{\"outlinewidth\":0,\"ticks\":\"\"},\"type\":\"choropleth\"}],\"contour\":[{\"colorbar\":{\"outlinewidth\":0,\"ticks\":\"\"},\"colorscale\":[[0.0,\"#0d0887\"],[0.1111111111111111,\"#46039f\"],[0.2222222222222222,\"#7201a8\"],[0.3333333333333333,\"#9c179e\"],[0.4444444444444444,\"#bd3786\"],[0.5555555555555556,\"#d8576b\"],[0.6666666666666666,\"#ed7953\"],[0.7777777777777778,\"#fb9f3a\"],[0.8888888888888888,\"#fdca26\"],[1.0,\"#f0f921\"]],\"type\":\"contour\"}],\"contourcarpet\":[{\"colorbar\":{\"outlinewidth\":0,\"ticks\":\"\"},\"type\":\"contourcarpet\"}],\"heatmap\":[{\"colorbar\":{\"outlinewidth\":0,\"ticks\":\"\"},\"colorscale\":[[0.0,\"#0d0887\"],[0.1111111111111111,\"#46039f\"],[0.2222222222222222,\"#7201a8\"],[0.3333333333333333,\"#9c179e\"],[0.4444444444444444,\"#bd3786\"],[0.5555555555555556,\"#d8576b\"],[0.6666666666666666,\"#ed7953\"],[0.7777777777777778,\"#fb9f3a\"],[0.8888888888888888,\"#fdca26\"],[1.0,\"#f0f921\"]],\"type\":\"heatmap\"}],\"heatmapgl\":[{\"colorbar\":{\"outlinewidth\":0,\"ticks\":\"\"},\"colorscale\":[[0.0,\"#0d0887\"],[0.1111111111111111,\"#46039f\"],[0.2222222222222222,\"#7201a8\"],[0.3333333333333333,\"#9c179e\"],[0.4444444444444444,\"#bd3786\"],[0.5555555555555556,\"#d8576b\"],[0.6666666666666666,\"#ed7953\"],[0.7777777777777778,\"#fb9f3a\"],[0.8888888888888888,\"#fdca26\"],[1.0,\"#f0f921\"]],\"type\":\"heatmapgl\"}],\"histogram\":[{\"marker\":{\"pattern\":{\"fillmode\":\"overlay\",\"size\":10,\"solidity\":0.2}},\"type\":\"histogram\"}],\"histogram2d\":[{\"colorbar\":{\"outlinewidth\":0,\"ticks\":\"\"},\"colorscale\":[[0.0,\"#0d0887\"],[0.1111111111111111,\"#46039f\"],[0.2222222222222222,\"#7201a8\"],[0.3333333333333333,\"#9c179e\"],[0.4444444444444444,\"#bd3786\"],[0.5555555555555556,\"#d8576b\"],[0.6666666666666666,\"#ed7953\"],[0.7777777777777778,\"#fb9f3a\"],[0.8888888888888888,\"#fdca26\"],[1.0,\"#f0f921\"]],\"type\":\"histogram2d\"}],\"histogram2dcontour\":[{\"colorbar\":{\"outlinewidth\":0,\"ticks\":\"\"},\"colorscale\":[[0.0,\"#0d0887\"],[0.1111111111111111,\"#46039f\"],[0.2222222222222222,\"#7201a8\"],[0.3333333333333333,\"#9c179e\"],[0.4444444444444444,\"#bd3786\"],[0.5555555555555556,\"#d8576b\"],[0.6666666666666666,\"#ed7953\"],[0.7777777777777778,\"#fb9f3a\"],[0.8888888888888888,\"#fdca26\"],[1.0,\"#f0f921\"]],\"type\":\"histogram2dcontour\"}],\"mesh3d\":[{\"colorbar\":{\"outlinewidth\":0,\"ticks\":\"\"},\"type\":\"mesh3d\"}],\"parcoords\":[{\"line\":{\"colorbar\":{\"outlinewidth\":0,\"ticks\":\"\"}},\"type\":\"parcoords\"}],\"pie\":[{\"automargin\":true,\"type\":\"pie\"}],\"scatter\":[{\"marker\":{\"colorbar\":{\"outlinewidth\":0,\"ticks\":\"\"}},\"type\":\"scatter\"}],\"scatter3d\":[{\"line\":{\"colorbar\":{\"outlinewidth\":0,\"ticks\":\"\"}},\"marker\":{\"colorbar\":{\"outlinewidth\":0,\"ticks\":\"\"}},\"type\":\"scatter3d\"}],\"scattercarpet\":[{\"marker\":{\"colorbar\":{\"outlinewidth\":0,\"ticks\":\"\"}},\"type\":\"scattercarpet\"}],\"scattergeo\":[{\"marker\":{\"colorbar\":{\"outlinewidth\":0,\"ticks\":\"\"}},\"type\":\"scattergeo\"}],\"scattergl\":[{\"marker\":{\"colorbar\":{\"outlinewidth\":0,\"ticks\":\"\"}},\"type\":\"scattergl\"}],\"scattermapbox\":[{\"marker\":{\"colorbar\":{\"outlinewidth\":0,\"ticks\":\"\"}},\"type\":\"scattermapbox\"}],\"scatterpolar\":[{\"marker\":{\"colorbar\":{\"outlinewidth\":0,\"ticks\":\"\"}},\"type\":\"scatterpolar\"}],\"scatterpolargl\":[{\"marker\":{\"colorbar\":{\"outlinewidth\":0,\"ticks\":\"\"}},\"type\":\"scatterpolargl\"}],\"scatterternary\":[{\"marker\":{\"colorbar\":{\"outlinewidth\":0,\"ticks\":\"\"}},\"type\":\"scatterternary\"}],\"surface\":[{\"colorbar\":{\"outlinewidth\":0,\"ticks\":\"\"},\"colorscale\":[[0.0,\"#0d0887\"],[0.1111111111111111,\"#46039f\"],[0.2222222222222222,\"#7201a8\"],[0.3333333333333333,\"#9c179e\"],[0.4444444444444444,\"#bd3786\"],[0.5555555555555556,\"#d8576b\"],[0.6666666666666666,\"#ed7953\"],[0.7777777777777778,\"#fb9f3a\"],[0.8888888888888888,\"#fdca26\"],[1.0,\"#f0f921\"]],\"type\":\"surface\"}],\"table\":[{\"cells\":{\"fill\":{\"color\":\"#EBF0F8\"},\"line\":{\"color\":\"white\"}},\"header\":{\"fill\":{\"color\":\"#C8D4E3\"},\"line\":{\"color\":\"white\"}},\"type\":\"table\"}]},\"layout\":{\"annotationdefaults\":{\"arrowcolor\":\"#2a3f5f\",\"arrowhead\":0,\"arrowwidth\":1},\"autotypenumbers\":\"strict\",\"coloraxis\":{\"colorbar\":{\"outlinewidth\":0,\"ticks\":\"\"}},\"colorscale\":{\"diverging\":[[0,\"#8e0152\"],[0.1,\"#c51b7d\"],[0.2,\"#de77ae\"],[0.3,\"#f1b6da\"],[0.4,\"#fde0ef\"],[0.5,\"#f7f7f7\"],[0.6,\"#e6f5d0\"],[0.7,\"#b8e186\"],[0.8,\"#7fbc41\"],[0.9,\"#4d9221\"],[1,\"#276419\"]],\"sequential\":[[0.0,\"#0d0887\"],[0.1111111111111111,\"#46039f\"],[0.2222222222222222,\"#7201a8\"],[0.3333333333333333,\"#9c179e\"],[0.4444444444444444,\"#bd3786\"],[0.5555555555555556,\"#d8576b\"],[0.6666666666666666,\"#ed7953\"],[0.7777777777777778,\"#fb9f3a\"],[0.8888888888888888,\"#fdca26\"],[1.0,\"#f0f921\"]],\"sequentialminus\":[[0.0,\"#0d0887\"],[0.1111111111111111,\"#46039f\"],[0.2222222222222222,\"#7201a8\"],[0.3333333333333333,\"#9c179e\"],[0.4444444444444444,\"#bd3786\"],[0.5555555555555556,\"#d8576b\"],[0.6666666666666666,\"#ed7953\"],[0.7777777777777778,\"#fb9f3a\"],[0.8888888888888888,\"#fdca26\"],[1.0,\"#f0f921\"]]},\"colorway\":[\"#636efa\",\"#EF553B\",\"#00cc96\",\"#ab63fa\",\"#FFA15A\",\"#19d3f3\",\"#FF6692\",\"#B6E880\",\"#FF97FF\",\"#FECB52\"],\"font\":{\"color\":\"#2a3f5f\"},\"geo\":{\"bgcolor\":\"white\",\"lakecolor\":\"white\",\"landcolor\":\"#E5ECF6\",\"showlakes\":true,\"showland\":true,\"subunitcolor\":\"white\"},\"hoverlabel\":{\"align\":\"left\"},\"hovermode\":\"closest\",\"mapbox\":{\"style\":\"light\"},\"paper_bgcolor\":\"white\",\"plot_bgcolor\":\"#E5ECF6\",\"polar\":{\"angularaxis\":{\"gridcolor\":\"white\",\"linecolor\":\"white\",\"ticks\":\"\"},\"bgcolor\":\"#E5ECF6\",\"radialaxis\":{\"gridcolor\":\"white\",\"linecolor\":\"white\",\"ticks\":\"\"}},\"scene\":{\"xaxis\":{\"backgroundcolor\":\"#E5ECF6\",\"gridcolor\":\"white\",\"gridwidth\":2,\"linecolor\":\"white\",\"showbackground\":true,\"ticks\":\"\",\"zerolinecolor\":\"white\"},\"yaxis\":{\"backgroundcolor\":\"#E5ECF6\",\"gridcolor\":\"white\",\"gridwidth\":2,\"linecolor\":\"white\",\"showbackground\":true,\"ticks\":\"\",\"zerolinecolor\":\"white\"},\"zaxis\":{\"backgroundcolor\":\"#E5ECF6\",\"gridcolor\":\"white\",\"gridwidth\":2,\"linecolor\":\"white\",\"showbackground\":true,\"ticks\":\"\",\"zerolinecolor\":\"white\"}},\"shapedefaults\":{\"line\":{\"color\":\"#2a3f5f\"}},\"ternary\":{\"aaxis\":{\"gridcolor\":\"white\",\"linecolor\":\"white\",\"ticks\":\"\"},\"baxis\":{\"gridcolor\":\"white\",\"linecolor\":\"white\",\"ticks\":\"\"},\"bgcolor\":\"#E5ECF6\",\"caxis\":{\"gridcolor\":\"white\",\"linecolor\":\"white\",\"ticks\":\"\"}},\"title\":{\"x\":0.05},\"xaxis\":{\"automargin\":true,\"gridcolor\":\"white\",\"linecolor\":\"white\",\"ticks\":\"\",\"title\":{\"standoff\":15},\"zerolinecolor\":\"white\",\"zerolinewidth\":2},\"yaxis\":{\"automargin\":true,\"gridcolor\":\"white\",\"linecolor\":\"white\",\"ticks\":\"\",\"title\":{\"standoff\":15},\"zerolinecolor\":\"white\",\"zerolinewidth\":2}}},\"font\":{\"size\":10,\"color\":\"black\"},\"title\":{\"text\":\"..\\\\data\\\\Results\\\\results4_4_group.xlsx for buildings [1, 2, 3, 4]\"},\"paper_bgcolor\":\"rgba(0,0,0,0)\",\"plot_bgcolor\":\"rgba(0,0,0,0)\",\"shapes\":[{\"line\":{\"color\":\"rgba(0,0,0,0)\"},\"type\":\"line\",\"x0\":0,\"x1\":1,\"xref\":\"x domain\",\"y0\":0,\"y1\":0,\"yref\":\"y\"},{\"line\":{\"dash\":\"dash\"},\"type\":\"line\",\"x0\":0,\"x1\":1,\"xref\":\"x domain\",\"y0\":0.5,\"y1\":0.5,\"yref\":\"y\"},{\"line\":{\"dash\":\"dash\"},\"type\":\"line\",\"x0\":0,\"x1\":1,\"xref\":\"x domain\",\"y0\":0.25,\"y1\":0.25,\"yref\":\"y\"},{\"line\":{\"dash\":\"dash\"},\"type\":\"line\",\"x0\":0,\"x1\":1,\"xref\":\"x domain\",\"y0\":0.75,\"y1\":0.75,\"yref\":\"y\"},{\"line\":{\"color\":\"rgba(0,0,0,0)\"},\"type\":\"line\",\"x0\":0,\"x1\":1,\"xref\":\"x domain\",\"y0\":1.0,\"y1\":1.0,\"yref\":\"y\"}],\"xaxis\":{\"visible\":false},\"yaxis\":{\"visible\":false}},                        {\"responsive\": true}                    ).then(function(){\n",
       "                            \n",
       "var gd = document.getElementById('8e08c1fb-768b-4c24-aa5a-d71477761eff');\n",
       "var x = new MutationObserver(function (mutations, observer) {{\n",
       "        var display = window.getComputedStyle(gd).display;\n",
       "        if (!display || display === 'none') {{\n",
       "            console.log([gd, 'removed!']);\n",
       "            Plotly.purge(gd);\n",
       "            observer.disconnect();\n",
       "        }}\n",
       "}});\n",
       "\n",
       "// Listen for the removal of the full notebook cells\n",
       "var notebookContainer = gd.closest('#notebook-container');\n",
       "if (notebookContainer) {{\n",
       "    x.observe(notebookContainer, {childList: true});\n",
       "}}\n",
       "\n",
       "// Listen for the clearing of the current output cell\n",
       "var outputEl = gd.closest('.output');\n",
       "if (outputEl) {{\n",
       "    x.observe(outputEl, {childList: true});\n",
       "}}\n",
       "\n",
       "                        })                };                });            </script>        </div>"
      ]
     },
     "metadata": {},
     "output_type": "display_data"
    },
    {
     "ename": "SystemExit",
     "evalue": "",
     "output_type": "error",
     "traceback": [
      "An exception has occurred, use %tb to see the full traceback.\n",
      "\u001b[1;31mSystemExit\u001b[0m\n"
     ]
    },
    {
     "name": "stderr",
     "output_type": "stream",
     "text": [
      "C:\\Users\\vincent.jacquot\\Miniconda3\\envs\\OptimEase\\lib\\site-packages\\IPython\\core\\interactiveshell.py:3377: UserWarning:\n",
      "\n",
      "To exit: use 'exit', 'quit', or Ctrl-D.\n",
      "\n"
     ]
    }
   ],
   "source": [
    "snk.main(numberOfBuildings, plotOptim, optMode, UseLabelDict)"
   ]
  },
  {
   "cell_type": "markdown",
   "id": "73fdca06",
   "metadata": {},
   "source": [
    "## Plot functions"
   ]
  },
  {
   "cell_type": "code",
   "execution_count": 8,
   "id": "61af4c83",
   "metadata": {},
   "outputs": [],
   "source": [
    "optMode = \"group\"  # parameter defining whether the results file corresponds to \"indiv\" or \"group\" optimization\n",
    "numberOfBuildings = 4\n",
    "plotOptim = 1  # defines the number of the optimization to plot\n",
    "plotLevel = \"allMonths\"  # permissible values (for energy balance plot): \"allMonths\" {for all months}\n",
    "# or specific month {\"Jan\", \"Feb\", \"Mar\", etc. three letter abbreviation of the month name}\n",
    "# or specific date {format: YYYY-MM-DD}\n",
    "plotType = \"bokeh\"  # permissible values: \"energy balance\", \"bokeh\"\n",
    "flowType = \"electricity\"  # permissible values: \"all\", \"electricity\", \"space heat\", \"domestic hot water\"\n",
    "plotAnnualHorizontalBar = False  # determines whether the annual horizontal bar is plot or not"
   ]
  },
  {
   "cell_type": "code",
   "execution_count": 9,
   "id": "b31df28f",
   "metadata": {},
   "outputs": [
    {
     "name": "stderr",
     "output_type": "stream",
     "text": [
      "C:\\Users\\vincent.jacquot\\PycharmProjects\\OptimEase\\src\\plot_functions.py:115: SettingWithCopyWarning:\n",
      "\n",
      "\n",
      "A value is trying to be set on a copy of a slice from a DataFrame.\n",
      "Try using .loc[row_indexer,col_indexer] = value instead\n",
      "\n",
      "See the caveats in the documentation: https://pandas.pydata.org/pandas-docs/stable/user_guide/indexing.html#returning-a-view-versus-a-copy\n",
      "\n",
      "C:\\Users\\vincent.jacquot\\PycharmProjects\\OptimEase\\src\\plot_functions.py:116: SettingWithCopyWarning:\n",
      "\n",
      "\n",
      "A value is trying to be set on a copy of a slice from a DataFrame.\n",
      "Try using .loc[row_indexer,col_indexer] = value instead\n",
      "\n",
      "See the caveats in the documentation: https://pandas.pydata.org/pandas-docs/stable/user_guide/indexing.html#returning-a-view-versus-a-copy\n",
      "\n",
      "C:\\Users\\vincent.jacquot\\PycharmProjects\\OptimEase\\src\\plot_functions.py:115: SettingWithCopyWarning:\n",
      "\n",
      "\n",
      "A value is trying to be set on a copy of a slice from a DataFrame.\n",
      "Try using .loc[row_indexer,col_indexer] = value instead\n",
      "\n",
      "See the caveats in the documentation: https://pandas.pydata.org/pandas-docs/stable/user_guide/indexing.html#returning-a-view-versus-a-copy\n",
      "\n",
      "C:\\Users\\vincent.jacquot\\PycharmProjects\\OptimEase\\src\\plot_functions.py:116: SettingWithCopyWarning:\n",
      "\n",
      "\n",
      "A value is trying to be set on a copy of a slice from a DataFrame.\n",
      "Try using .loc[row_indexer,col_indexer] = value instead\n",
      "\n",
      "See the caveats in the documentation: https://pandas.pydata.org/pandas-docs/stable/user_guide/indexing.html#returning-a-view-versus-a-copy\n",
      "\n",
      "C:\\Users\\vincent.jacquot\\PycharmProjects\\OptimEase\\src\\plot_functions.py:115: SettingWithCopyWarning:\n",
      "\n",
      "\n",
      "A value is trying to be set on a copy of a slice from a DataFrame.\n",
      "Try using .loc[row_indexer,col_indexer] = value instead\n",
      "\n",
      "See the caveats in the documentation: https://pandas.pydata.org/pandas-docs/stable/user_guide/indexing.html#returning-a-view-versus-a-copy\n",
      "\n",
      "C:\\Users\\vincent.jacquot\\PycharmProjects\\OptimEase\\src\\plot_functions.py:116: SettingWithCopyWarning:\n",
      "\n",
      "\n",
      "A value is trying to be set on a copy of a slice from a DataFrame.\n",
      "Try using .loc[row_indexer,col_indexer] = value instead\n",
      "\n",
      "See the caveats in the documentation: https://pandas.pydata.org/pandas-docs/stable/user_guide/indexing.html#returning-a-view-versus-a-copy\n",
      "\n",
      "C:\\Users\\vincent.jacquot\\PycharmProjects\\OptimEase\\src\\plot_functions.py:115: SettingWithCopyWarning:\n",
      "\n",
      "\n",
      "A value is trying to be set on a copy of a slice from a DataFrame.\n",
      "Try using .loc[row_indexer,col_indexer] = value instead\n",
      "\n",
      "See the caveats in the documentation: https://pandas.pydata.org/pandas-docs/stable/user_guide/indexing.html#returning-a-view-versus-a-copy\n",
      "\n",
      "C:\\Users\\vincent.jacquot\\PycharmProjects\\OptimEase\\src\\plot_functions.py:116: SettingWithCopyWarning:\n",
      "\n",
      "\n",
      "A value is trying to be set on a copy of a slice from a DataFrame.\n",
      "Try using .loc[row_indexer,col_indexer] = value instead\n",
      "\n",
      "See the caveats in the documentation: https://pandas.pydata.org/pandas-docs/stable/user_guide/indexing.html#returning-a-view-versus-a-copy\n",
      "\n",
      "C:\\Users\\vincent.jacquot\\Miniconda3\\envs\\OptimEase\\lib\\site-packages\\bokeh\\util\\deprecation.py:75: BokehDeprecationWarning:\n",
      "\n",
      "plot_width and plot_height was deprecated in Bokeh 2.4.0 and will be removed, use width or height instead.\n",
      "\n",
      "WARNING:bokeh.core.validation.check:W-1005 (FIXED_SIZING_MODE): 'fixed' sizing mode requires width and height to be set: Column(id='4805', ...)\n",
      "C:\\Users\\vincent.jacquot\\Miniconda3\\envs\\OptimEase\\lib\\site-packages\\bokeh\\util\\deprecation.py:75: BokehDeprecationWarning:\n",
      "\n",
      "plot_width and plot_height was deprecated in Bokeh 2.4.0 and will be removed, use width or height instead.\n",
      "\n",
      "WARNING:bokeh.core.validation.check:W-1005 (FIXED_SIZING_MODE): 'fixed' sizing mode requires width and height to be set: Column(id='6774', ...)\n"
     ]
    }
   ],
   "source": [
    "fnc.main(optMode, numberOfBuildings, plotOptim, plotLevel, plotType, flowType, plotAnnualHorizontalBar)"
   ]
  },
  {
   "cell_type": "code",
   "execution_count": null,
   "id": "69f43a6c",
   "metadata": {},
   "outputs": [],
   "source": []
  }
 ],
 "metadata": {
  "hide_input": false,
  "kernelspec": {
   "display_name": "Python 3 (ipykernel)",
   "language": "python",
   "name": "python3"
  },
  "language_info": {
   "codemirror_mode": {
    "name": "ipython",
    "version": 3
   },
   "file_extension": ".py",
   "mimetype": "text/x-python",
   "name": "python",
   "nbconvert_exporter": "python",
   "pygments_lexer": "ipython3",
   "version": "3.9.11"
  },
  "toc": {
   "base_numbering": 1,
   "nav_menu": {},
   "number_sections": true,
   "sideBar": true,
   "skip_h1_title": true,
   "title_cell": "Table of Contents",
   "title_sidebar": "Contents",
   "toc_cell": true,
   "toc_position": {
    "height": "calc(100% - 180px)",
    "left": "10px",
    "top": "150px",
    "width": "208px"
   },
   "toc_section_display": true,
   "toc_window_display": true
  },
  "varInspector": {
   "cols": {
    "lenName": 16,
    "lenType": 16,
    "lenVar": 40
   },
   "kernels_config": {
    "python": {
     "delete_cmd_postfix": "",
     "delete_cmd_prefix": "del ",
     "library": "var_list.py",
     "varRefreshCmd": "print(var_dic_list())"
    },
    "r": {
     "delete_cmd_postfix": ") ",
     "delete_cmd_prefix": "rm(",
     "library": "var_list.r",
     "varRefreshCmd": "cat(var_dic_list()) "
    }
   },
   "types_to_exclude": [
    "module",
    "function",
    "builtin_function_or_method",
    "instance",
    "_Feature"
   ],
   "window_display": false
  }
 },
 "nbformat": 4,
 "nbformat_minor": 5
}
