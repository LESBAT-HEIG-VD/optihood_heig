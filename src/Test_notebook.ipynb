{
 "cells": [
  {
   "cell_type": "markdown",
   "id": "8cb97c5b",
   "metadata": {},
   "source": [
    "# Test notebook of OPTIM-EASE"
   ]
  },
  {
   "cell_type": "markdown",
   "id": "8345bc9b",
   "metadata": {},
   "source": [
    "## Import"
   ]
  },
  {
   "cell_type": "code",
   "execution_count": 1,
   "id": "bca448bf",
   "metadata": {},
   "outputs": [],
   "source": [
    "import Run\n",
    "import plot_sankey as snk\n",
    "import plot_functions as fnc"
   ]
  },
  {
   "cell_type": "markdown",
   "id": "b8d5cbc7",
   "metadata": {},
   "source": [
    "## Parameters"
   ]
  },
  {
   "cell_type": "code",
   "execution_count": 2,
   "id": "759efd65",
   "metadata": {},
   "outputs": [],
   "source": [
    "numberOfBuildings = 4\n",
    "numberOfOptimizations = 5\n",
    "optMode = \"group\"\n",
    "profilesCreation = False\n",
    "cluster = True"
   ]
  },
  {
   "cell_type": "markdown",
   "id": "9a8e3497",
   "metadata": {},
   "source": [
    "## Demand profiles creation\n",
    "Do not run if demand profiles already exist"
   ]
  },
  {
   "cell_type": "code",
   "execution_count": 6,
   "id": "9f9c5cb9",
   "metadata": {},
   "outputs": [],
   "source": [
    "Run.createProfiles(profilesCreation, inputFilePath, inputfileName)"
   ]
  },
  {
   "cell_type": "markdown",
   "id": "c20ea7f4",
   "metadata": {},
   "source": [
    "## Optimization"
   ]
  },
  {
   "cell_type": "code",
   "execution_count": 9,
   "id": "c9a1296d",
   "metadata": {
    "collapsed": true
   },
   "outputs": [
    {
     "name": "stdout",
     "output_type": "stream",
     "text": [
      "******************\n",
      "OPTIMIZATION 1\n",
      "******************\n",
      "10:02:43-INFO-Path for logging: C:\\Users\\vincent.jacquot\\PycharmProjects\\OptimEase-main\\src\\oemof.log\n",
      "10:02:43-INFO-Initializing the energy network\n",
      "10:02:43-INFO-Defining the energy network from the excel file: ..\\data\\excels\\scenario4.xls\n",
      "10:02:45-INFO-Data from Excel file ..\\data\\excels\\scenario4.xls imported.\n"
     ]
    },
    {
     "name": "stderr",
     "output_type": "stream",
     "text": [
      "C:\\Users\\vincent.jacquot\\PycharmProjects\\OptimEase-main\\src\\energy_network.py:453: UserWarning: Boolean Series key will be reindexed to match DataFrame index.\n",
      "  weatherData = pd.concat([nodesData['weather_data'][\n",
      "C:\\Users\\vincent.jacquot\\PycharmProjects\\OptimEase-main\\src\\energy_network.py:453: UserWarning: Boolean Series key will be reindexed to match DataFrame index.\n",
      "  weatherData = pd.concat([nodesData['weather_data'][\n",
      "C:\\Users\\vincent.jacquot\\PycharmProjects\\OptimEase-main\\src\\energy_network.py:453: UserWarning: Boolean Series key will be reindexed to match DataFrame index.\n",
      "  weatherData = pd.concat([nodesData['weather_data'][\n",
      "C:\\Users\\vincent.jacquot\\PycharmProjects\\OptimEase-main\\src\\energy_network.py:453: UserWarning: Boolean Series key will be reindexed to match DataFrame index.\n",
      "  weatherData = pd.concat([nodesData['weather_data'][\n",
      "C:\\Users\\vincent.jacquot\\PycharmProjects\\OptimEase-main\\src\\energy_network.py:453: UserWarning: Boolean Series key will be reindexed to match DataFrame index.\n",
      "  weatherData = pd.concat([nodesData['weather_data'][\n",
      "C:\\Users\\vincent.jacquot\\PycharmProjects\\OptimEase-main\\src\\energy_network.py:453: UserWarning: Boolean Series key will be reindexed to match DataFrame index.\n",
      "  weatherData = pd.concat([nodesData['weather_data'][\n",
      "C:\\Users\\vincent.jacquot\\PycharmProjects\\OptimEase-main\\src\\energy_network.py:453: UserWarning: Boolean Series key will be reindexed to match DataFrame index.\n",
      "  weatherData = pd.concat([nodesData['weather_data'][\n",
      "C:\\Users\\vincent.jacquot\\PycharmProjects\\OptimEase-main\\src\\energy_network.py:453: UserWarning: Boolean Series key will be reindexed to match DataFrame index.\n",
      "  weatherData = pd.concat([nodesData['weather_data'][\n",
      "C:\\Users\\vincent.jacquot\\PycharmProjects\\OptimEase-main\\src\\energy_network.py:453: UserWarning: Boolean Series key will be reindexed to match DataFrame index.\n",
      "  weatherData = pd.concat([nodesData['weather_data'][\n",
      "C:\\Users\\vincent.jacquot\\PycharmProjects\\OptimEase-main\\src\\energy_network.py:453: UserWarning: Boolean Series key will be reindexed to match DataFrame index.\n",
      "  weatherData = pd.concat([nodesData['weather_data'][\n",
      "C:\\Users\\vincent.jacquot\\PycharmProjects\\OptimEase-main\\src\\energy_network.py:453: UserWarning: Boolean Series key will be reindexed to match DataFrame index.\n",
      "  weatherData = pd.concat([nodesData['weather_data'][\n",
      "C:\\Users\\vincent.jacquot\\PycharmProjects\\OptimEase-main\\src\\energy_network.py:453: UserWarning: Boolean Series key will be reindexed to match DataFrame index.\n",
      "  weatherData = pd.concat([nodesData['weather_data'][\n",
      "C:\\Users\\vincent.jacquot\\Miniconda3\\envs\\OptimEase\\lib\\site-packages\\oemof\\thermal\\solar_thermal_collector.py:184: FutureWarning: The default dtype for empty Series will be 'object' instead of 'float64' in a future version. Specify a dtype explicitly to silence this warning.\n",
      "  eta_c = pd.Series()\n",
      "C:\\Users\\vincent.jacquot\\Miniconda3\\envs\\OptimEase\\lib\\site-packages\\oemof\\thermal\\solar_thermal_collector.py:184: FutureWarning: The default dtype for empty Series will be 'object' instead of 'float64' in a future version. Specify a dtype explicitly to silence this warning.\n",
      "  eta_c = pd.Series()\n",
      "C:\\Users\\vincent.jacquot\\Miniconda3\\envs\\OptimEase\\lib\\site-packages\\oemof\\thermal\\solar_thermal_collector.py:184: FutureWarning: The default dtype for empty Series will be 'object' instead of 'float64' in a future version. Specify a dtype explicitly to silence this warning.\n",
      "  eta_c = pd.Series()\n"
     ]
    },
    {
     "name": "stdout",
     "output_type": "stream",
     "text": [
      "10:02:46-INFO-Nodes from Excel file ..\\data\\excels\\scenario4.xls successfully converted\n",
      "10:02:46-INFO-Nodes successfully added to the energy network\n",
      "10:02:46-INFO-Initiating optimization using gurobi solver\n"
     ]
    },
    {
     "name": "stderr",
     "output_type": "stream",
     "text": [
      "C:\\Users\\vincent.jacquot\\Miniconda3\\envs\\OptimEase\\lib\\site-packages\\oemof\\thermal\\solar_thermal_collector.py:184: FutureWarning: The default dtype for empty Series will be 'object' instead of 'float64' in a future version. Specify a dtype explicitly to silence this warning.\n",
      "  eta_c = pd.Series()\n"
     ]
    },
    {
     "name": "stdout",
     "output_type": "stream",
     "text": [
      "10:02:54-INFO-Optimization successful...\n",
      "10:02:56-INFO-Optimization successful and results collected\n",
      "************** Optimized Capacities for Building1 **************\n",
      "Invested in 21.08354347984013 kW HP.\n",
      "Invested in 0.0 kW CHP.\n",
      "Invested in 0.0 kW  SolarCollector.\n",
      "Invested in 0.0 kW  GasBoiler.\n",
      "Invested in 0.0 kW  PV.\n",
      "Invested in 0.0 kWh Electrical Storage.\n",
      "Invested in 203.26942727593524 kWh DHW Storage Tank.\n",
      "Invested in 38.49899409366973 kWh SH Storage Tank.\n",
      "\n",
      "************** Optimized Capacities for Building2 **************\n",
      "Invested in 26.037632661852548 kW HP.\n",
      "Invested in 0.0 kW CHP.\n",
      "Invested in 0.0 kW  SolarCollector.\n",
      "Invested in 19.56212048264048 kW  GasBoiler.\n",
      "Invested in 0.0 kW  PV.\n",
      "Invested in 0.0 kWh Electrical Storage.\n",
      "Invested in 259.3154872069806 kWh DHW Storage Tank.\n",
      "Invested in 81.13100837834806 kWh SH Storage Tank.\n",
      "\n",
      "************** Optimized Capacities for Building3 **************\n",
      "Invested in 48.958331878192645 kW HP.\n",
      "Invested in 0.0 kW CHP.\n",
      "Invested in 0.0 kW  SolarCollector.\n",
      "Invested in 27.939687340352958 kW  GasBoiler.\n",
      "Invested in 0.0 kW  PV.\n",
      "Invested in 0.0 kWh Electrical Storage.\n",
      "Invested in 280.97965070709665 kWh DHW Storage Tank.\n",
      "Invested in 130.853190154157 kWh SH Storage Tank.\n",
      "\n",
      "************** Optimized Capacities for Building4 **************\n",
      "Invested in 26.03763266185254 kW HP.\n",
      "Invested in 0.0 kW CHP.\n",
      "Invested in 0.0 kW  SolarCollector.\n",
      "Invested in 0.0 kW  GasBoiler.\n",
      "Invested in 0.0 kW  PV.\n",
      "Invested in 0.0 kWh Electrical Storage.\n",
      "Invested in 259.31548720698123 kWh DHW Storage Tank.\n",
      "Invested in 47.37810386120397 kWh SH Storage Tank.\n",
      "\n",
      "Investment Costs for the system: 54172.80990639774 CHF\n",
      "Operation Costs for the system: 61861.81780511566 CHF\n",
      "Feed In Costs for the system: 0.0 CHF\n",
      "Total Costs for the system: 116034.6277115134 CHF\n",
      "Environmental impact from input resources for the system: 44060.45619074285 kg CO2 eq\n",
      "Environmental impact from energy conversion technologies for the system: 7838.019030747889 kg CO2 eq\n",
      "Total: 51898.47522149074 kg CO2 eq\n",
      "\n",
      "\n",
      "\n",
      "\n",
      "Meta Results:\n",
      "{'objective': 18727.479428956824,\n",
      " 'problem': {'Lower bound': 18725.88868166132,\n",
      "             'Name': 'x53093',\n",
      "             'Number of binary variables': 32,\n",
      "             'Number of constraints': 50822,\n",
      "             'Number of continuous variables': 49605,\n",
      "             'Number of integer variables': 32,\n",
      "             'Number of nonzeros': 133469,\n",
      "             'Number of objectives': 1,\n",
      "             'Number of variables': 49637,\n",
      "             'Sense': <ProblemSense.minimize: 'minimize'>,\n",
      "             'Upper bound': 18727.479428956765},\n",
      " 'solver': {'Error rc': 0,\n",
      "            'Message': 'Model was solved to optimality (subject to '\n",
      "                       'tolerances), and an optimal solution is available.',\n",
      "            'Return code': '0',\n",
      "            'Status': <SolverStatus.ok: 'ok'>,\n",
      "            'Termination condition': <TerminationCondition.optimal: 'optimal'>,\n",
      "            'Termination message': 'Model was solved to optimality (subject to '\n",
      "                                   'tolerances), and an optimal solution is '\n",
      "                                   'available.',\n",
      "            'Time': 1.8231146335601807,\n",
      "            'Wall time': '1.3131217956542969'}}\n",
      "\n",
      "3730.223894090265\n",
      "******************\n",
      "OPTIMIZATION 2\n",
      "******************\n",
      "10:03:01-INFO-Path for logging: C:\\Users\\vincent.jacquot\\PycharmProjects\\OptimEase-main\\src\\oemof.log\n",
      "10:03:01-INFO-Initializing the energy network\n",
      "10:03:01-INFO-Defining the energy network from the excel file: ..\\data\\excels\\scenario4.xls\n",
      "10:03:02-INFO-Data from Excel file ..\\data\\excels\\scenario4.xls imported.\n"
     ]
    },
    {
     "name": "stderr",
     "output_type": "stream",
     "text": [
      "C:\\Users\\vincent.jacquot\\PycharmProjects\\OptimEase-main\\src\\energy_network.py:453: UserWarning: Boolean Series key will be reindexed to match DataFrame index.\n",
      "  weatherData = pd.concat([nodesData['weather_data'][\n",
      "C:\\Users\\vincent.jacquot\\PycharmProjects\\OptimEase-main\\src\\energy_network.py:453: UserWarning: Boolean Series key will be reindexed to match DataFrame index.\n",
      "  weatherData = pd.concat([nodesData['weather_data'][\n",
      "C:\\Users\\vincent.jacquot\\PycharmProjects\\OptimEase-main\\src\\energy_network.py:453: UserWarning: Boolean Series key will be reindexed to match DataFrame index.\n",
      "  weatherData = pd.concat([nodesData['weather_data'][\n",
      "C:\\Users\\vincent.jacquot\\PycharmProjects\\OptimEase-main\\src\\energy_network.py:453: UserWarning: Boolean Series key will be reindexed to match DataFrame index.\n",
      "  weatherData = pd.concat([nodesData['weather_data'][\n",
      "C:\\Users\\vincent.jacquot\\PycharmProjects\\OptimEase-main\\src\\energy_network.py:453: UserWarning: Boolean Series key will be reindexed to match DataFrame index.\n",
      "  weatherData = pd.concat([nodesData['weather_data'][\n",
      "C:\\Users\\vincent.jacquot\\PycharmProjects\\OptimEase-main\\src\\energy_network.py:453: UserWarning: Boolean Series key will be reindexed to match DataFrame index.\n",
      "  weatherData = pd.concat([nodesData['weather_data'][\n",
      "C:\\Users\\vincent.jacquot\\PycharmProjects\\OptimEase-main\\src\\energy_network.py:453: UserWarning: Boolean Series key will be reindexed to match DataFrame index.\n",
      "  weatherData = pd.concat([nodesData['weather_data'][\n",
      "C:\\Users\\vincent.jacquot\\PycharmProjects\\OptimEase-main\\src\\energy_network.py:453: UserWarning: Boolean Series key will be reindexed to match DataFrame index.\n",
      "  weatherData = pd.concat([nodesData['weather_data'][\n",
      "C:\\Users\\vincent.jacquot\\PycharmProjects\\OptimEase-main\\src\\energy_network.py:453: UserWarning: Boolean Series key will be reindexed to match DataFrame index.\n",
      "  weatherData = pd.concat([nodesData['weather_data'][\n",
      "C:\\Users\\vincent.jacquot\\PycharmProjects\\OptimEase-main\\src\\energy_network.py:453: UserWarning: Boolean Series key will be reindexed to match DataFrame index.\n",
      "  weatherData = pd.concat([nodesData['weather_data'][\n",
      "C:\\Users\\vincent.jacquot\\PycharmProjects\\OptimEase-main\\src\\energy_network.py:453: UserWarning: Boolean Series key will be reindexed to match DataFrame index.\n",
      "  weatherData = pd.concat([nodesData['weather_data'][\n",
      "C:\\Users\\vincent.jacquot\\PycharmProjects\\OptimEase-main\\src\\energy_network.py:453: UserWarning: Boolean Series key will be reindexed to match DataFrame index.\n",
      "  weatherData = pd.concat([nodesData['weather_data'][\n",
      "C:\\Users\\vincent.jacquot\\Miniconda3\\envs\\OptimEase\\lib\\site-packages\\oemof\\thermal\\solar_thermal_collector.py:184: FutureWarning: The default dtype for empty Series will be 'object' instead of 'float64' in a future version. Specify a dtype explicitly to silence this warning.\n",
      "  eta_c = pd.Series()\n",
      "C:\\Users\\vincent.jacquot\\Miniconda3\\envs\\OptimEase\\lib\\site-packages\\oemof\\thermal\\solar_thermal_collector.py:184: FutureWarning: The default dtype for empty Series will be 'object' instead of 'float64' in a future version. Specify a dtype explicitly to silence this warning.\n",
      "  eta_c = pd.Series()\n",
      "C:\\Users\\vincent.jacquot\\Miniconda3\\envs\\OptimEase\\lib\\site-packages\\oemof\\thermal\\solar_thermal_collector.py:184: FutureWarning: The default dtype for empty Series will be 'object' instead of 'float64' in a future version. Specify a dtype explicitly to silence this warning.\n",
      "  eta_c = pd.Series()\n"
     ]
    },
    {
     "name": "stdout",
     "output_type": "stream",
     "text": [
      "10:03:03-INFO-Nodes from Excel file ..\\data\\excels\\scenario4.xls successfully converted\n",
      "10:03:03-INFO-Nodes successfully added to the energy network\n",
      "10:03:03-INFO-Initiating optimization using gurobi solver\n"
     ]
    },
    {
     "name": "stderr",
     "output_type": "stream",
     "text": [
      "C:\\Users\\vincent.jacquot\\Miniconda3\\envs\\OptimEase\\lib\\site-packages\\oemof\\thermal\\solar_thermal_collector.py:184: FutureWarning: The default dtype for empty Series will be 'object' instead of 'float64' in a future version. Specify a dtype explicitly to silence this warning.\n",
      "  eta_c = pd.Series()\n"
     ]
    },
    {
     "name": "stdout",
     "output_type": "stream",
     "text": [
      "10:03:11-INFO-Optimization successful...\n",
      "10:03:12-INFO-Optimization successful and results collected\n",
      "************** Optimized Capacities for Building1 **************\n",
      "Invested in 6.669622345067659 kW HP.\n",
      "Invested in 0.0 kW CHP.\n",
      "Invested in 100.0 kW  SolarCollector.\n",
      "Invested in 12.221651979025582 kW  GasBoiler.\n",
      "Invested in 100.0 kW  PV.\n",
      "Invested in 0.0 kWh Electrical Storage.\n",
      "Invested in 304.4961247187532 kWh DHW Storage Tank.\n",
      "Invested in 198.1078253134234 kWh SH Storage Tank.\n",
      "\n",
      "************** Optimized Capacities for Building2 **************\n",
      "Invested in 19.496434436769217 kW HP.\n",
      "Invested in 0.0 kW CHP.\n",
      "Invested in 100.0 kW  SolarCollector.\n",
      "Invested in 25.28088564011201 kW  GasBoiler.\n",
      "Invested in 100.0 kW  PV.\n",
      "Invested in 0.0 kWh Electrical Storage.\n",
      "Invested in 375.6178390735791 kWh DHW Storage Tank.\n",
      "Invested in 400.0 kWh SH Storage Tank.\n",
      "\n",
      "************** Optimized Capacities for Building3 **************\n",
      "Invested in 39.68934193972788 kW HP.\n",
      "Invested in 0.0 kW CHP.\n",
      "Invested in 100.0 kW  SolarCollector.\n",
      "Invested in 36.0445772398517 kW  GasBoiler.\n",
      "Invested in 100.0 kW  PV.\n",
      "Invested in 0.0 kWh Electrical Storage.\n",
      "Invested in 755.3517659164091 kWh DHW Storage Tank.\n",
      "Invested in 600.0 kWh SH Storage Tank.\n",
      "\n",
      "************** Optimized Capacities for Building4 **************\n",
      "Invested in 7.986603095762673 kW HP.\n",
      "Invested in 0.0 kW CHP.\n",
      "Invested in 100.0 kW  SolarCollector.\n",
      "Invested in 15.187489341934661 kW  GasBoiler.\n",
      "Invested in 100.0 kW  PV.\n",
      "Invested in 0.0 kWh Electrical Storage.\n",
      "Invested in 375.6178390735791 kWh DHW Storage Tank.\n",
      "Invested in 237.23096183620507 kWh SH Storage Tank.\n",
      "\n",
      "Investment Costs for the system: 135962.9229779371 CHF\n",
      "Operation Costs for the system: 36489.44308971158 CHF\n",
      "Feed In Costs for the system: -33690.30277212453 CHF\n",
      "Total Costs for the system: 138762.06329552413 CHF\n",
      "Environmental impact from input resources for the system: 30262.75018751619 kg CO2 eq\n",
      "Environmental impact from energy conversion technologies for the system: 4825.224938367543 kg CO2 eq\n",
      "Total: 35087.975125883735 kg CO2 eq\n",
      "\n",
      "\n",
      "\n",
      "\n",
      "Meta Results:\n",
      "{'objective': 2560.494917253337,\n",
      " 'problem': {'Lower bound': 2560.4949172533397,\n",
      "             'Name': 'x53093',\n",
      "             'Number of binary variables': 32,\n",
      "             'Number of constraints': 50822,\n",
      "             'Number of continuous variables': 49605,\n",
      "             'Number of integer variables': 32,\n",
      "             'Number of nonzeros': 133469,\n",
      "             'Number of objectives': 1,\n",
      "             'Number of variables': 49637,\n",
      "             'Sense': <ProblemSense.minimize: 'minimize'>,\n",
      "             'Upper bound': 2560.49491725334},\n",
      " 'solver': {'Error rc': 0,\n",
      "            'Message': 'Model was solved to optimality (subject to '\n",
      "                       'tolerances), and an optimal solution is available.',\n",
      "            'Return code': '0',\n",
      "            'Status': <SolverStatus.ok: 'ok'>,\n",
      "            'Termination condition': <TerminationCondition.optimal: 'optimal'>,\n",
      "            'Termination message': 'Model was solved to optimality (subject to '\n",
      "                                   'tolerances), and an optimal solution is '\n",
      "                                   'available.',\n",
      "            'Time': 1.562366247177124,\n",
      "            'Wall time': '1.0764636993408203'}}\n",
      "\n",
      "2560.49491725334\n",
      "Each iteration will keep emissions lower than some values between femissions_min and femissions_max, so [2560.49491725334, 3730.223894090265]\n",
      "******************\n",
      "OPTIMIZATION 3\n",
      "******************\n",
      "10:03:17-INFO-Path for logging: C:\\Users\\vincent.jacquot\\PycharmProjects\\OptimEase-main\\src\\oemof.log\n",
      "10:03:17-INFO-Initializing the energy network\n",
      "10:03:17-INFO-Defining the energy network from the excel file: ..\\data\\excels\\scenario4.xls\n",
      "10:03:19-INFO-Data from Excel file ..\\data\\excels\\scenario4.xls imported.\n"
     ]
    },
    {
     "name": "stderr",
     "output_type": "stream",
     "text": [
      "C:\\Users\\vincent.jacquot\\PycharmProjects\\OptimEase-main\\src\\energy_network.py:453: UserWarning: Boolean Series key will be reindexed to match DataFrame index.\n",
      "  weatherData = pd.concat([nodesData['weather_data'][\n",
      "C:\\Users\\vincent.jacquot\\PycharmProjects\\OptimEase-main\\src\\energy_network.py:453: UserWarning: Boolean Series key will be reindexed to match DataFrame index.\n",
      "  weatherData = pd.concat([nodesData['weather_data'][\n",
      "C:\\Users\\vincent.jacquot\\PycharmProjects\\OptimEase-main\\src\\energy_network.py:453: UserWarning: Boolean Series key will be reindexed to match DataFrame index.\n",
      "  weatherData = pd.concat([nodesData['weather_data'][\n",
      "C:\\Users\\vincent.jacquot\\PycharmProjects\\OptimEase-main\\src\\energy_network.py:453: UserWarning: Boolean Series key will be reindexed to match DataFrame index.\n",
      "  weatherData = pd.concat([nodesData['weather_data'][\n",
      "C:\\Users\\vincent.jacquot\\PycharmProjects\\OptimEase-main\\src\\energy_network.py:453: UserWarning: Boolean Series key will be reindexed to match DataFrame index.\n",
      "  weatherData = pd.concat([nodesData['weather_data'][\n",
      "C:\\Users\\vincent.jacquot\\PycharmProjects\\OptimEase-main\\src\\energy_network.py:453: UserWarning: Boolean Series key will be reindexed to match DataFrame index.\n",
      "  weatherData = pd.concat([nodesData['weather_data'][\n",
      "C:\\Users\\vincent.jacquot\\PycharmProjects\\OptimEase-main\\src\\energy_network.py:453: UserWarning: Boolean Series key will be reindexed to match DataFrame index.\n",
      "  weatherData = pd.concat([nodesData['weather_data'][\n",
      "C:\\Users\\vincent.jacquot\\PycharmProjects\\OptimEase-main\\src\\energy_network.py:453: UserWarning: Boolean Series key will be reindexed to match DataFrame index.\n",
      "  weatherData = pd.concat([nodesData['weather_data'][\n",
      "C:\\Users\\vincent.jacquot\\PycharmProjects\\OptimEase-main\\src\\energy_network.py:453: UserWarning: Boolean Series key will be reindexed to match DataFrame index.\n",
      "  weatherData = pd.concat([nodesData['weather_data'][\n",
      "C:\\Users\\vincent.jacquot\\PycharmProjects\\OptimEase-main\\src\\energy_network.py:453: UserWarning: Boolean Series key will be reindexed to match DataFrame index.\n",
      "  weatherData = pd.concat([nodesData['weather_data'][\n",
      "C:\\Users\\vincent.jacquot\\PycharmProjects\\OptimEase-main\\src\\energy_network.py:453: UserWarning: Boolean Series key will be reindexed to match DataFrame index.\n",
      "  weatherData = pd.concat([nodesData['weather_data'][\n",
      "C:\\Users\\vincent.jacquot\\PycharmProjects\\OptimEase-main\\src\\energy_network.py:453: UserWarning: Boolean Series key will be reindexed to match DataFrame index.\n",
      "  weatherData = pd.concat([nodesData['weather_data'][\n",
      "C:\\Users\\vincent.jacquot\\Miniconda3\\envs\\OptimEase\\lib\\site-packages\\oemof\\thermal\\solar_thermal_collector.py:184: FutureWarning: The default dtype for empty Series will be 'object' instead of 'float64' in a future version. Specify a dtype explicitly to silence this warning.\n",
      "  eta_c = pd.Series()\n",
      "C:\\Users\\vincent.jacquot\\Miniconda3\\envs\\OptimEase\\lib\\site-packages\\oemof\\thermal\\solar_thermal_collector.py:184: FutureWarning: The default dtype for empty Series will be 'object' instead of 'float64' in a future version. Specify a dtype explicitly to silence this warning.\n",
      "  eta_c = pd.Series()\n",
      "C:\\Users\\vincent.jacquot\\Miniconda3\\envs\\OptimEase\\lib\\site-packages\\oemof\\thermal\\solar_thermal_collector.py:184: FutureWarning: The default dtype for empty Series will be 'object' instead of 'float64' in a future version. Specify a dtype explicitly to silence this warning.\n",
      "  eta_c = pd.Series()\n",
      "C:\\Users\\vincent.jacquot\\Miniconda3\\envs\\OptimEase\\lib\\site-packages\\oemof\\thermal\\solar_thermal_collector.py:184: FutureWarning: The default dtype for empty Series will be 'object' instead of 'float64' in a future version. Specify a dtype explicitly to silence this warning.\n",
      "  eta_c = pd.Series()\n"
     ]
    },
    {
     "name": "stdout",
     "output_type": "stream",
     "text": [
      "10:03:20-INFO-Nodes from Excel file ..\\data\\excels\\scenario4.xls successfully converted\n",
      "10:03:20-INFO-Nodes successfully added to the energy network\n",
      "10:03:20-INFO-Initiating optimization using gurobi solver\n",
      "10:03:36-INFO-Optimization successful...\n",
      "10:03:37-INFO-Optimization successful and results collected\n",
      "************** Optimized Capacities for Building1 **************\n",
      "Invested in 8.58769680369029 kW HP.\n",
      "Invested in 0.0 kW CHP.\n",
      "Invested in 29.119029163631186 kW  SolarCollector.\n",
      "Invested in 10.557505452498154 kW  GasBoiler.\n",
      "Invested in 0.0 kW  PV.\n",
      "Invested in 0.0 kWh Electrical Storage.\n",
      "Invested in 269.93952852274384 kWh DHW Storage Tank.\n",
      "Invested in 274.3085943932986 kWh SH Storage Tank.\n",
      "\n",
      "************** Optimized Capacities for Building2 **************\n",
      "Invested in 26.037632661852527 kW HP.\n",
      "Invested in 0.0 kW CHP.\n",
      "Invested in 0.0 kW  SolarCollector.\n",
      "Invested in 19.586107662293852 kW  GasBoiler.\n",
      "Invested in 0.0 kW  PV.\n",
      "Invested in 0.0 kWh Electrical Storage.\n",
      "Invested in 259.3154872069809 kWh DHW Storage Tank.\n",
      "Invested in 400.0 kWh SH Storage Tank.\n",
      "\n",
      "************** Optimized Capacities for Building3 **************\n",
      "Invested in 43.776337831499724 kW HP.\n",
      "Invested in 0.0 kW CHP.\n",
      "Invested in 12.054415063757876 kW  SolarCollector.\n",
      "Invested in 32.48643186663162 kW  GasBoiler.\n",
      "Invested in 0.0 kW  PV.\n",
      "Invested in 0.0 kWh Electrical Storage.\n",
      "Invested in 291.3855610155541 kWh DHW Storage Tank.\n",
      "Invested in 600.0 kWh SH Storage Tank.\n",
      "\n",
      "************** Optimized Capacities for Building4 **************\n",
      "Invested in 10.425566314331071 kW HP.\n",
      "Invested in 0.0 kW CHP.\n",
      "Invested in 36.385614260014044 kW  SolarCollector.\n",
      "Invested in 13.07123336634458 kW  GasBoiler.\n",
      "Invested in 58.99081561554735 kW  PV.\n",
      "Invested in 0.0 kWh Electrical Storage.\n",
      "Invested in 346.5777061228852 kWh DHW Storage Tank.\n",
      "Invested in 331.7388190138969 kWh SH Storage Tank.\n",
      "\n",
      "Investment Costs for the system: 62698.303958248245 CHF\n",
      "Operation Costs for the system: 46840.6794004058 CHF\n",
      "Feed In Costs for the system: -1721.757387235707 CHF\n",
      "Total Costs for the system: 107817.22597141835 CHF\n",
      "Environmental impact from input resources for the system: 31174.14614047348 kg CO2 eq\n",
      "Environmental impact from energy conversion technologies for the system: 5761.8718490274505 kg CO2 eq\n",
      "Total: 36936.01798950093 kg CO2 eq\n",
      "\n",
      "\n",
      "\n",
      "\n",
      "Meta Results:\n",
      "{'objective': 80975.13951277744,\n",
      " 'problem': {'Lower bound': 80974.60127881859,\n",
      "             'Name': 'x53093',\n",
      "             'Number of binary variables': 32,\n",
      "             'Number of constraints': 50822,\n",
      "             'Number of continuous variables': 49605,\n",
      "             'Number of integer variables': 32,\n",
      "             'Number of nonzeros': 133469,\n",
      "             'Number of objectives': 1,\n",
      "             'Number of variables': 49637,\n",
      "             'Sense': <ProblemSense.minimize: 'minimize'>,\n",
      "             'Upper bound': 80975.13951277756},\n",
      " 'solver': {'Error rc': 0,\n",
      "            'Message': 'Model was solved to optimality (subject to '\n",
      "                       'tolerances), and an optimal solution is available.',\n",
      "            'Return code': '0',\n",
      "            'Status': <SolverStatus.ok: 'ok'>,\n",
      "            'Termination condition': <TerminationCondition.optimal: 'optimal'>,\n",
      "            'Termination message': 'Model was solved to optimality (subject to '\n",
      "                                   'tolerances), and an optimal solution is '\n",
      "                                   'available.',\n",
      "            'Time': 9.69411563873291,\n",
      "            'Wall time': '9.115427017211914'}}\n",
      "\n",
      "2852.9999999999936\n",
      "******************\n",
      "OPTIMIZATION 4\n",
      "******************\n",
      "10:03:42-INFO-Path for logging: C:\\Users\\vincent.jacquot\\PycharmProjects\\OptimEase-main\\src\\oemof.log\n",
      "10:03:42-INFO-Initializing the energy network\n",
      "10:03:42-INFO-Defining the energy network from the excel file: ..\\data\\excels\\scenario4.xls\n",
      "10:03:43-INFO-Data from Excel file ..\\data\\excels\\scenario4.xls imported.\n"
     ]
    },
    {
     "name": "stderr",
     "output_type": "stream",
     "text": [
      "C:\\Users\\vincent.jacquot\\PycharmProjects\\OptimEase-main\\src\\energy_network.py:453: UserWarning: Boolean Series key will be reindexed to match DataFrame index.\n",
      "  weatherData = pd.concat([nodesData['weather_data'][\n",
      "C:\\Users\\vincent.jacquot\\PycharmProjects\\OptimEase-main\\src\\energy_network.py:453: UserWarning: Boolean Series key will be reindexed to match DataFrame index.\n",
      "  weatherData = pd.concat([nodesData['weather_data'][\n",
      "C:\\Users\\vincent.jacquot\\PycharmProjects\\OptimEase-main\\src\\energy_network.py:453: UserWarning: Boolean Series key will be reindexed to match DataFrame index.\n",
      "  weatherData = pd.concat([nodesData['weather_data'][\n",
      "C:\\Users\\vincent.jacquot\\PycharmProjects\\OptimEase-main\\src\\energy_network.py:453: UserWarning: Boolean Series key will be reindexed to match DataFrame index.\n",
      "  weatherData = pd.concat([nodesData['weather_data'][\n",
      "C:\\Users\\vincent.jacquot\\PycharmProjects\\OptimEase-main\\src\\energy_network.py:453: UserWarning: Boolean Series key will be reindexed to match DataFrame index.\n",
      "  weatherData = pd.concat([nodesData['weather_data'][\n",
      "C:\\Users\\vincent.jacquot\\PycharmProjects\\OptimEase-main\\src\\energy_network.py:453: UserWarning: Boolean Series key will be reindexed to match DataFrame index.\n",
      "  weatherData = pd.concat([nodesData['weather_data'][\n",
      "C:\\Users\\vincent.jacquot\\PycharmProjects\\OptimEase-main\\src\\energy_network.py:453: UserWarning: Boolean Series key will be reindexed to match DataFrame index.\n",
      "  weatherData = pd.concat([nodesData['weather_data'][\n",
      "C:\\Users\\vincent.jacquot\\PycharmProjects\\OptimEase-main\\src\\energy_network.py:453: UserWarning: Boolean Series key will be reindexed to match DataFrame index.\n",
      "  weatherData = pd.concat([nodesData['weather_data'][\n",
      "C:\\Users\\vincent.jacquot\\PycharmProjects\\OptimEase-main\\src\\energy_network.py:453: UserWarning: Boolean Series key will be reindexed to match DataFrame index.\n",
      "  weatherData = pd.concat([nodesData['weather_data'][\n",
      "C:\\Users\\vincent.jacquot\\PycharmProjects\\OptimEase-main\\src\\energy_network.py:453: UserWarning: Boolean Series key will be reindexed to match DataFrame index.\n",
      "  weatherData = pd.concat([nodesData['weather_data'][\n",
      "C:\\Users\\vincent.jacquot\\PycharmProjects\\OptimEase-main\\src\\energy_network.py:453: UserWarning: Boolean Series key will be reindexed to match DataFrame index.\n",
      "  weatherData = pd.concat([nodesData['weather_data'][\n",
      "C:\\Users\\vincent.jacquot\\PycharmProjects\\OptimEase-main\\src\\energy_network.py:453: UserWarning: Boolean Series key will be reindexed to match DataFrame index.\n",
      "  weatherData = pd.concat([nodesData['weather_data'][\n",
      "C:\\Users\\vincent.jacquot\\Miniconda3\\envs\\OptimEase\\lib\\site-packages\\oemof\\thermal\\solar_thermal_collector.py:184: FutureWarning: The default dtype for empty Series will be 'object' instead of 'float64' in a future version. Specify a dtype explicitly to silence this warning.\n",
      "  eta_c = pd.Series()\n",
      "C:\\Users\\vincent.jacquot\\Miniconda3\\envs\\OptimEase\\lib\\site-packages\\oemof\\thermal\\solar_thermal_collector.py:184: FutureWarning: The default dtype for empty Series will be 'object' instead of 'float64' in a future version. Specify a dtype explicitly to silence this warning.\n",
      "  eta_c = pd.Series()\n",
      "C:\\Users\\vincent.jacquot\\Miniconda3\\envs\\OptimEase\\lib\\site-packages\\oemof\\thermal\\solar_thermal_collector.py:184: FutureWarning: The default dtype for empty Series will be 'object' instead of 'float64' in a future version. Specify a dtype explicitly to silence this warning.\n",
      "  eta_c = pd.Series()\n"
     ]
    },
    {
     "name": "stdout",
     "output_type": "stream",
     "text": [
      "10:03:44-INFO-Nodes from Excel file ..\\data\\excels\\scenario4.xls successfully converted\n",
      "10:03:44-INFO-Nodes successfully added to the energy network\n",
      "10:03:44-INFO-Initiating optimization using gurobi solver\n"
     ]
    },
    {
     "name": "stderr",
     "output_type": "stream",
     "text": [
      "C:\\Users\\vincent.jacquot\\Miniconda3\\envs\\OptimEase\\lib\\site-packages\\oemof\\thermal\\solar_thermal_collector.py:184: FutureWarning: The default dtype for empty Series will be 'object' instead of 'float64' in a future version. Specify a dtype explicitly to silence this warning.\n",
      "  eta_c = pd.Series()\n"
     ]
    },
    {
     "name": "stdout",
     "output_type": "stream",
     "text": [
      "10:03:56-INFO-Optimization successful...\n",
      "10:03:58-INFO-Optimization successful and results collected\n",
      "************** Optimized Capacities for Building1 **************\n",
      "Invested in 21.083543479840124 kW HP.\n",
      "Invested in 0.0 kW CHP.\n",
      "Invested in 0.0 kW  SolarCollector.\n",
      "Invested in 0.0 kW  GasBoiler.\n",
      "Invested in 0.0 kW  PV.\n",
      "Invested in 0.0 kWh Electrical Storage.\n",
      "Invested in 203.26942727593607 kWh DHW Storage Tank.\n",
      "Invested in 291.53571874710303 kWh SH Storage Tank.\n",
      "\n",
      "************** Optimized Capacities for Building2 **************\n",
      "Invested in 26.03763266185253 kW HP.\n",
      "Invested in 0.0 kW CHP.\n",
      "Invested in 0.0 kW  SolarCollector.\n",
      "Invested in 19.586107662293852 kW  GasBoiler.\n",
      "Invested in 55.70361143228932 kW  PV.\n",
      "Invested in 0.0 kWh Electrical Storage.\n",
      "Invested in 259.3154872069811 kWh DHW Storage Tank.\n",
      "Invested in 400.0 kWh SH Storage Tank.\n",
      "\n",
      "************** Optimized Capacities for Building3 **************\n",
      "Invested in 48.958331878192666 kW HP.\n",
      "Invested in 0.0 kW CHP.\n",
      "Invested in 0.0 kW  SolarCollector.\n",
      "Invested in 27.97497929130231 kW  GasBoiler.\n",
      "Invested in 0.0 kW  PV.\n",
      "Invested in 0.0 kWh Electrical Storage.\n",
      "Invested in 280.97965070709677 kWh DHW Storage Tank.\n",
      "Invested in 600.0 kWh SH Storage Tank.\n",
      "\n",
      "************** Optimized Capacities for Building4 **************\n",
      "Invested in 11.922842716959906 kW HP.\n",
      "Invested in 0.0 kW CHP.\n",
      "Invested in 32.88605609668846 kW  SolarCollector.\n",
      "Invested in 11.76922292967722 kW  GasBoiler.\n",
      "Invested in 0.0 kW  PV.\n",
      "Invested in 0.0 kWh Electrical Storage.\n",
      "Invested in 330.06917913404527 kWh DHW Storage Tank.\n",
      "Invested in 351.95624415004306 kWh SH Storage Tank.\n",
      "\n",
      "Investment Costs for the system: 62871.067069034565 CHF\n",
      "Operation Costs for the system: 48216.733659758516 CHF\n",
      "Feed In Costs for the system: -1440.8074623677219 CHF\n",
      "Total Costs for the system: 109646.99326642536 CHF\n",
      "Environmental impact from input resources for the system: 30966.169114500823 kg CO2 eq\n",
      "Environmental impact from energy conversion technologies for the system: 6961.512430103356 kg CO2 eq\n",
      "Total: 37927.68154460418 kg CO2 eq\n",
      "\n",
      "\n",
      "\n",
      "\n",
      "Meta Results:\n",
      "{'objective': 49953.11070680072,\n",
      " 'problem': {'Lower bound': 49950.381701966595,\n",
      "             'Name': 'x53093',\n",
      "             'Number of binary variables': 32,\n",
      "             'Number of constraints': 50822,\n",
      "             'Number of continuous variables': 49605,\n",
      "             'Number of integer variables': 32,\n",
      "             'Number of nonzeros': 133469,\n",
      "             'Number of objectives': 1,\n",
      "             'Number of variables': 49637,\n",
      "             'Sense': <ProblemSense.minimize: 'minimize'>,\n",
      "             'Upper bound': 49953.11070680066},\n",
      " 'solver': {'Error rc': 0,\n",
      "            'Message': 'Model was solved to optimality (subject to '\n",
      "                       'tolerances), and an optimal solution is available.',\n",
      "            'Return code': '0',\n",
      "            'Status': <SolverStatus.ok: 'ok'>,\n",
      "            'Termination condition': <TerminationCondition.optimal: 'optimal'>,\n",
      "            'Termination message': 'Model was solved to optimality (subject to '\n",
      "                                   'tolerances), and an optimal solution is '\n",
      "                                   'available.',\n",
      "            'Time': 6.43827748298645,\n",
      "            'Wall time': '5.881404876708984'}}\n",
      "\n",
      "3144.9999999999955\n",
      "******************\n",
      "OPTIMIZATION 5\n",
      "******************\n",
      "10:04:02-INFO-Path for logging: C:\\Users\\vincent.jacquot\\PycharmProjects\\OptimEase-main\\src\\oemof.log\n",
      "10:04:02-INFO-Initializing the energy network\n",
      "10:04:02-INFO-Defining the energy network from the excel file: ..\\data\\excels\\scenario4.xls\n",
      "10:04:04-INFO-Data from Excel file ..\\data\\excels\\scenario4.xls imported.\n"
     ]
    },
    {
     "name": "stderr",
     "output_type": "stream",
     "text": [
      "C:\\Users\\vincent.jacquot\\PycharmProjects\\OptimEase-main\\src\\energy_network.py:453: UserWarning: Boolean Series key will be reindexed to match DataFrame index.\n",
      "  weatherData = pd.concat([nodesData['weather_data'][\n",
      "C:\\Users\\vincent.jacquot\\PycharmProjects\\OptimEase-main\\src\\energy_network.py:453: UserWarning: Boolean Series key will be reindexed to match DataFrame index.\n",
      "  weatherData = pd.concat([nodesData['weather_data'][\n",
      "C:\\Users\\vincent.jacquot\\PycharmProjects\\OptimEase-main\\src\\energy_network.py:453: UserWarning: Boolean Series key will be reindexed to match DataFrame index.\n",
      "  weatherData = pd.concat([nodesData['weather_data'][\n",
      "C:\\Users\\vincent.jacquot\\PycharmProjects\\OptimEase-main\\src\\energy_network.py:453: UserWarning: Boolean Series key will be reindexed to match DataFrame index.\n",
      "  weatherData = pd.concat([nodesData['weather_data'][\n",
      "C:\\Users\\vincent.jacquot\\PycharmProjects\\OptimEase-main\\src\\energy_network.py:453: UserWarning: Boolean Series key will be reindexed to match DataFrame index.\n",
      "  weatherData = pd.concat([nodesData['weather_data'][\n",
      "C:\\Users\\vincent.jacquot\\PycharmProjects\\OptimEase-main\\src\\energy_network.py:453: UserWarning: Boolean Series key will be reindexed to match DataFrame index.\n",
      "  weatherData = pd.concat([nodesData['weather_data'][\n",
      "C:\\Users\\vincent.jacquot\\PycharmProjects\\OptimEase-main\\src\\energy_network.py:453: UserWarning: Boolean Series key will be reindexed to match DataFrame index.\n",
      "  weatherData = pd.concat([nodesData['weather_data'][\n",
      "C:\\Users\\vincent.jacquot\\PycharmProjects\\OptimEase-main\\src\\energy_network.py:453: UserWarning: Boolean Series key will be reindexed to match DataFrame index.\n",
      "  weatherData = pd.concat([nodesData['weather_data'][\n",
      "C:\\Users\\vincent.jacquot\\PycharmProjects\\OptimEase-main\\src\\energy_network.py:453: UserWarning: Boolean Series key will be reindexed to match DataFrame index.\n",
      "  weatherData = pd.concat([nodesData['weather_data'][\n",
      "C:\\Users\\vincent.jacquot\\PycharmProjects\\OptimEase-main\\src\\energy_network.py:453: UserWarning: Boolean Series key will be reindexed to match DataFrame index.\n",
      "  weatherData = pd.concat([nodesData['weather_data'][\n",
      "C:\\Users\\vincent.jacquot\\PycharmProjects\\OptimEase-main\\src\\energy_network.py:453: UserWarning: Boolean Series key will be reindexed to match DataFrame index.\n",
      "  weatherData = pd.concat([nodesData['weather_data'][\n",
      "C:\\Users\\vincent.jacquot\\PycharmProjects\\OptimEase-main\\src\\energy_network.py:453: UserWarning: Boolean Series key will be reindexed to match DataFrame index.\n",
      "  weatherData = pd.concat([nodesData['weather_data'][\n",
      "C:\\Users\\vincent.jacquot\\Miniconda3\\envs\\OptimEase\\lib\\site-packages\\oemof\\thermal\\solar_thermal_collector.py:184: FutureWarning: The default dtype for empty Series will be 'object' instead of 'float64' in a future version. Specify a dtype explicitly to silence this warning.\n",
      "  eta_c = pd.Series()\n",
      "C:\\Users\\vincent.jacquot\\Miniconda3\\envs\\OptimEase\\lib\\site-packages\\oemof\\thermal\\solar_thermal_collector.py:184: FutureWarning: The default dtype for empty Series will be 'object' instead of 'float64' in a future version. Specify a dtype explicitly to silence this warning.\n",
      "  eta_c = pd.Series()\n",
      "C:\\Users\\vincent.jacquot\\Miniconda3\\envs\\OptimEase\\lib\\site-packages\\oemof\\thermal\\solar_thermal_collector.py:184: FutureWarning: The default dtype for empty Series will be 'object' instead of 'float64' in a future version. Specify a dtype explicitly to silence this warning.\n",
      "  eta_c = pd.Series()\n"
     ]
    },
    {
     "name": "stdout",
     "output_type": "stream",
     "text": [
      "10:04:05-INFO-Nodes from Excel file ..\\data\\excels\\scenario4.xls successfully converted\n"
     ]
    },
    {
     "name": "stderr",
     "output_type": "stream",
     "text": [
      "C:\\Users\\vincent.jacquot\\Miniconda3\\envs\\OptimEase\\lib\\site-packages\\oemof\\thermal\\solar_thermal_collector.py:184: FutureWarning: The default dtype for empty Series will be 'object' instead of 'float64' in a future version. Specify a dtype explicitly to silence this warning.\n",
      "  eta_c = pd.Series()\n"
     ]
    },
    {
     "name": "stdout",
     "output_type": "stream",
     "text": [
      "10:04:05-INFO-Nodes successfully added to the energy network\n",
      "10:04:05-INFO-Initiating optimization using gurobi solver\n",
      "10:04:15-INFO-Optimization successful...\n",
      "10:04:17-INFO-Optimization successful and results collected\n",
      "************** Optimized Capacities for Building1 **************\n",
      "Invested in 21.083543479840117 kW HP.\n",
      "Invested in 0.0 kW CHP.\n",
      "Invested in 0.0 kW  SolarCollector.\n",
      "Invested in 0.0 kW  GasBoiler.\n",
      "Invested in 31.47186259070356 kW  PV.\n",
      "Invested in 0.0 kWh Electrical Storage.\n",
      "Invested in 203.26942727593607 kWh DHW Storage Tank.\n",
      "Invested in 291.535718747103 kWh SH Storage Tank.\n",
      "\n",
      "************** Optimized Capacities for Building2 **************\n",
      "Invested in 26.037632661852534 kW HP.\n",
      "Invested in 0.0 kW CHP.\n",
      "Invested in 0.0 kW  SolarCollector.\n",
      "Invested in 19.586107662293845 kW  GasBoiler.\n",
      "Invested in 0.0 kW  PV.\n",
      "Invested in 0.0 kWh Electrical Storage.\n",
      "Invested in 259.3154872069813 kWh DHW Storage Tank.\n",
      "Invested in 400.0 kWh SH Storage Tank.\n",
      "\n",
      "************** Optimized Capacities for Building3 **************\n",
      "Invested in 48.95833187819264 kW HP.\n",
      "Invested in 0.0 kW CHP.\n",
      "Invested in 0.0 kW  SolarCollector.\n",
      "Invested in 27.97497929130233 kW  GasBoiler.\n",
      "Invested in 0.0 kW  PV.\n",
      "Invested in 0.0 kWh Electrical Storage.\n",
      "Invested in 280.97965070709756 kWh DHW Storage Tank.\n",
      "Invested in 600.0 kWh SH Storage Tank.\n",
      "\n",
      "************** Optimized Capacities for Building4 **************\n",
      "Invested in 26.03763266185252 kW HP.\n",
      "Invested in 0.0 kW CHP.\n",
      "Invested in 0.0 kW  SolarCollector.\n",
      "Invested in 0.0 kW  GasBoiler.\n",
      "Invested in 0.0 kW  PV.\n",
      "Invested in 0.0 kWh Electrical Storage.\n",
      "Invested in 259.31548720698083 kWh DHW Storage Tank.\n",
      "Invested in 351.95624415004306 kWh SH Storage Tank.\n",
      "\n",
      "Investment Costs for the system: 59839.8768606945 CHF\n",
      "Operation Costs for the system: 52191.8655939187 CHF\n",
      "Feed In Costs for the system: -198.55151428697025 CHF\n",
      "Total Costs for the system: 111833.19094032623 CHF\n",
      "Environmental impact from input resources for the system: 32675.09314720361 kg CO2 eq\n",
      "Environmental impact from energy conversion technologies for the system: 7844.786056523779 kg CO2 eq\n",
      "Total: 40519.87920372739 kg CO2 eq\n",
      "\n",
      "\n",
      "\n",
      "\n",
      "Meta Results:\n",
      "{'objective': 24106.75920852135,\n",
      " 'problem': {'Lower bound': 24106.759208521304,\n",
      "             'Name': 'x53093',\n",
      "             'Number of binary variables': 32,\n",
      "             'Number of constraints': 50822,\n",
      "             'Number of continuous variables': 49605,\n",
      "             'Number of integer variables': 32,\n",
      "             'Number of nonzeros': 133469,\n",
      "             'Number of objectives': 1,\n",
      "             'Number of variables': 49637,\n",
      "             'Sense': <ProblemSense.minimize: 'minimize'>,\n",
      "             'Upper bound': 24106.759208521315},\n",
      " 'solver': {'Error rc': 0,\n",
      "            'Message': 'Model was solved to optimality (subject to '\n",
      "                       'tolerances), and an optimal solution is available.',\n",
      "            'Return code': '0',\n",
      "            'Status': <SolverStatus.ok: 'ok'>,\n",
      "            'Termination condition': <TerminationCondition.optimal: 'optimal'>,\n",
      "            'Termination message': 'Model was solved to optimality (subject to '\n",
      "                                   'tolerances), and an optimal solution is '\n",
      "                                   'available.',\n",
      "            'Time': 3.7362003326416016,\n",
      "            'Wall time': '3.224163055419922'}}\n",
      "\n",
      "3436.9999999999936\n"
     ]
    }
   ],
   "source": [
    "(costsList, envList) = Run.optimization(numberOfBuildings, numberOfOptimizations, optMode, cluster)"
   ]
  },
  {
   "cell_type": "markdown",
   "id": "76c92cb8",
   "metadata": {},
   "source": [
    "## Plot pareto front"
   ]
  },
  {
   "cell_type": "code",
   "execution_count": 10,
   "id": "37f037d2",
   "metadata": {
    "collapsed": true
   },
   "outputs": [
    {
     "name": "stdout",
     "output_type": "stream",
     "text": [
      "Costs : (CHF)\n",
      "[138762.06329552413, 80975.13951277744, 49953.11070680072, 24106.75920852135, 18727.479428956824]\n",
      "Emissions : (kgCO2)\n",
      "[2560.49491725334, 2852.9999999999936, 3144.9999999999955, 3436.9999999999936, 3730.223894090265]\n"
     ]
    },
    {
     "data": {
      "image/png": "[encoded data removed]",
      "text/plain": [
       "<Figure size 432x288 with 1 Axes>"
      ]
     },
     "metadata": {
      "needs_background": "light"
     },
     "output_type": "display_data"
    }
   ],
   "source": [
    "Run.plotParetoFront(costsList, envList)"
   ]
  },
  {
   "cell_type": "markdown",
   "id": "e4f4f37e",
   "metadata": {},
   "source": [
    "## Plot Sankey diagram"
   ]
  },
  {
   "cell_type": "code",
   "execution_count": 7,
   "id": "c3ef1441",
   "metadata": {},
   "outputs": [],
   "source": [
    "plotOptim = 5  # defines the number of the optimization to plot\n",
    "UseLabelDict = True\n",
    "optMode = \"group\"\n",
    "numberOfBuildings = 4"
   ]
  },
  {
   "cell_type": "code",
   "execution_count": 8,
   "id": "7582937c",
   "metadata": {
    "scrolled": true
   },
   "outputs": [
    {
     "data": {
      "application/vnd.plotly.v1+json": {
       "config": {
        "plotlyServerURL": "https://plot.ly"
       },
       "data": [
        {
         "arrangement": "perpendicular",
         "link": {
          "color": [
           "rgba(0.6627450980392157, 0.6627450980392157, 0.6627450980392157, 0.6)",
           "rgba(0.5294117647058824, 0.807843137254902, 0.9215686274509803, 0.6)",
           "rgba(0.5294117647058824, 0.807843137254902, 0.9215686274509803, 0.6)",
           "rgba(0.5294117647058824, 0.807843137254902, 0.9215686274509803, 0.6)",
           "rgba(0.5294117647058824, 0.807843137254902, 0.9215686274509803, 0.6)",
           "rgba(0.5294117647058824, 0.807843137254902, 0.9215686274509803, 0.6)",
           "rgba(0.5294117647058824, 0.807843137254902, 0.9215686274509803, 0.6)",
           "rgba(0.5294117647058824, 0.807843137254902, 0.9215686274509803, 0.6)",
           "rgba(0.5294117647058824, 0.807843137254902, 0.9215686274509803, 0.6)",
           "rgba(0.5294117647058824, 0.807843137254902, 0.9215686274509803, 0.6)",
           "rgba(0.5294117647058824, 0.807843137254902, 0.9215686274509803, 0.6)",
           "rgba(0.5294117647058824, 0.807843137254902, 0.9215686274509803, 0.6)",
           "rgba(0.5294117647058824, 0.807843137254902, 0.9215686274509803, 0.6)",
           "rgba(0.5294117647058824, 0.807843137254902, 0.9215686274509803, 0.6)",
           "rgba(0.5294117647058824, 0.807843137254902, 0.9215686274509803, 0.6)",
           "rgba(0.5294117647058824, 0.807843137254902, 0.9215686274509803, 0.6)",
           "rgba(1.0, 0.0, 1.0, 0.6)",
           "rgba(1.0, 0.0, 1.0, 0.6)",
           "rgba(1.0, 0.0, 1.0, 0.6)",
           "rgba(1.0, 0.0, 1.0, 0.6)",
           "rgba(1.0, 0.0, 1.0, 0.6)",
           "rgba(1.0, 0.0, 1.0, 0.6)",
           "rgba(1.0, 0.0, 0.0, 0.6)",
           "rgba(1.0, 0.0, 0.0, 0.6)",
           "rgba(0.6627450980392157, 0.6627450980392157, 0.6627450980392157, 0.6)",
           "rgba(0.5294117647058824, 0.807843137254902, 0.9215686274509803, 0.6)",
           "rgba(0.5294117647058824, 0.807843137254902, 0.9215686274509803, 0.6)",
           "rgba(0.5294117647058824, 0.807843137254902, 0.9215686274509803, 0.6)",
           "rgba(0.5294117647058824, 0.807843137254902, 0.9215686274509803, 0.6)",
           "rgba(0.5294117647058824, 0.807843137254902, 0.9215686274509803, 0.6)",
           "rgba(0.5294117647058824, 0.807843137254902, 0.9215686274509803, 0.6)",
           "rgba(0.5294117647058824, 0.807843137254902, 0.9215686274509803, 0.6)",
           "rgba(0.5294117647058824, 0.807843137254902, 0.9215686274509803, 0.6)",
           "rgba(0.5294117647058824, 0.807843137254902, 0.9215686274509803, 0.6)",
           "rgba(0.5294117647058824, 0.807843137254902, 0.9215686274509803, 0.6)",
           "rgba(0.5294117647058824, 0.807843137254902, 0.9215686274509803, 0.6)",
           "rgba(0.5294117647058824, 0.807843137254902, 0.9215686274509803, 0.6)",
           "rgba(0.5294117647058824, 0.807843137254902, 0.9215686274509803, 0.6)",
           "rgba(0.5294117647058824, 0.807843137254902, 0.9215686274509803, 0.6)",
           "rgba(0.5294117647058824, 0.807843137254902, 0.9215686274509803, 0.6)",
           "rgba(1.0, 0.0, 1.0, 0.6)",
           "rgba(1.0, 0.0, 1.0, 0.6)",
           "rgba(1.0, 0.0, 1.0, 0.6)",
           "rgba(1.0, 0.0, 1.0, 0.6)",
           "rgba(1.0, 0.0, 1.0, 0.6)",
           "rgba(1.0, 0.0, 1.0, 0.6)",
           "rgba(1.0, 0.0, 0.0, 0.6)",
           "rgba(1.0, 0.0, 0.0, 0.6)",
           "rgba(0.6627450980392157, 0.6627450980392157, 0.6627450980392157, 0.6)",
           "rgba(0.5294117647058824, 0.807843137254902, 0.9215686274509803, 0.6)",
           "rgba(0.5294117647058824, 0.807843137254902, 0.9215686274509803, 0.6)",
           "rgba(0.5294117647058824, 0.807843137254902, 0.9215686274509803, 0.6)",
           "rgba(0.5294117647058824, 0.807843137254902, 0.9215686274509803, 0.6)",
           "rgba(0.5294117647058824, 0.807843137254902, 0.9215686274509803, 0.6)",
           "rgba(0.5294117647058824, 0.807843137254902, 0.9215686274509803, 0.6)",
           "rgba(0.5294117647058824, 0.807843137254902, 0.9215686274509803, 0.6)",
           "rgba(0.5294117647058824, 0.807843137254902, 0.9215686274509803, 0.6)",
           "rgba(0.5294117647058824, 0.807843137254902, 0.9215686274509803, 0.6)",
           "rgba(0.5294117647058824, 0.807843137254902, 0.9215686274509803, 0.6)",
           "rgba(0.5294117647058824, 0.807843137254902, 0.9215686274509803, 0.6)",
           "rgba(0.5294117647058824, 0.807843137254902, 0.9215686274509803, 0.6)",
           "rgba(0.5294117647058824, 0.807843137254902, 0.9215686274509803, 0.6)",
           "rgba(0.5294117647058824, 0.807843137254902, 0.9215686274509803, 0.6)",
           "rgba(0.5294117647058824, 0.807843137254902, 0.9215686274509803, 0.6)",
           "rgba(1.0, 0.0, 1.0, 0.6)",
           "rgba(1.0, 0.0, 1.0, 0.6)",
           "rgba(1.0, 0.0, 1.0, 0.6)",
           "rgba(1.0, 0.0, 1.0, 0.6)",
           "rgba(1.0, 0.0, 1.0, 0.6)",
           "rgba(1.0, 0.0, 1.0, 0.6)",
           "rgba(1.0, 0.0, 0.0, 0.6)",
           "rgba(1.0, 0.0, 0.0, 0.6)",
           "rgba(0.6627450980392157, 0.6627450980392157, 0.6627450980392157, 0.6)",
           "rgba(0.5294117647058824, 0.807843137254902, 0.9215686274509803, 0.6)",
           "rgba(0.5294117647058824, 0.807843137254902, 0.9215686274509803, 0.6)",
           "rgba(0.5294117647058824, 0.807843137254902, 0.9215686274509803, 0.6)",
           "rgba(0.5294117647058824, 0.807843137254902, 0.9215686274509803, 0.6)",
           "rgba(0.5294117647058824, 0.807843137254902, 0.9215686274509803, 0.6)",
           "rgba(0.5294117647058824, 0.807843137254902, 0.9215686274509803, 0.6)",
           "rgba(0.5294117647058824, 0.807843137254902, 0.9215686274509803, 0.6)",
           "rgba(0.5294117647058824, 0.807843137254902, 0.9215686274509803, 0.6)",
           "rgba(0.5294117647058824, 0.807843137254902, 0.9215686274509803, 0.6)",
           "rgba(0.5294117647058824, 0.807843137254902, 0.9215686274509803, 0.6)",
           "rgba(0.5294117647058824, 0.807843137254902, 0.9215686274509803, 0.6)",
           "rgba(0.5294117647058824, 0.807843137254902, 0.9215686274509803, 0.6)",
           "rgba(0.5294117647058824, 0.807843137254902, 0.9215686274509803, 0.6)",
           "rgba(0.5294117647058824, 0.807843137254902, 0.9215686274509803, 0.6)",
           "rgba(0.5294117647058824, 0.807843137254902, 0.9215686274509803, 0.6)",
           "rgba(1.0, 0.0, 1.0, 0.6)",
           "rgba(1.0, 0.0, 1.0, 0.6)",
           "rgba(1.0, 0.0, 1.0, 0.6)",
           "rgba(1.0, 0.0, 1.0, 0.6)",
           "rgba(1.0, 0.0, 1.0, 0.6)",
           "rgba(1.0, 0.0, 1.0, 0.6)",
           "rgba(1.0, 0.0, 0.0, 0.6)",
           "rgba(1.0, 0.0, 0.0, 0.6)"
          ],
          "source": [
           0,
           2,
           3,
           3,
           3,
           3,
           6,
           6,
           7,
           8,
           8,
           4,
           4,
           4,
           11,
           3,
           1,
           9,
           12,
           12,
           13,
           14,
           16,
           9,
           18,
           20,
           21,
           21,
           21,
           21,
           23,
           23,
           24,
           25,
           25,
           4,
           4,
           4,
           28,
           21,
           19,
           26,
           29,
           29,
           30,
           31,
           33,
           26,
           35,
           37,
           38,
           38,
           38,
           38,
           40,
           40,
           41,
           42,
           42,
           4,
           4,
           4,
           45,
           38,
           36,
           43,
           46,
           46,
           47,
           48,
           50,
           43,
           52,
           54,
           55,
           55,
           55,
           55,
           57,
           57,
           58,
           59,
           59,
           4,
           4,
           4,
           62,
           55,
           53,
           60,
           63,
           63,
           64,
           65,
           67,
           60
          ],
          "target": [
           1,
           3,
           4,
           4,
           4,
           5,
           2,
           3,
           6,
           9,
           10,
           8,
           8,
           8,
           8,
           8,
           12,
           12,
           13,
           14,
           14,
           15,
           17,
           16,
           19,
           21,
           4,
           4,
           4,
           22,
           20,
           21,
           23,
           26,
           27,
           25,
           25,
           25,
           25,
           25,
           29,
           29,
           30,
           31,
           31,
           32,
           34,
           33,
           36,
           38,
           4,
           4,
           4,
           39,
           37,
           38,
           40,
           43,
           44,
           42,
           42,
           42,
           42,
           42,
           46,
           46,
           47,
           48,
           48,
           49,
           51,
           50,
           53,
           55,
           4,
           4,
           4,
           56,
           54,
           55,
           57,
           60,
           61,
           59,
           59,
           59,
           59,
           59,
           63,
           63,
           64,
           65,
           65,
           66,
           68,
           67
          ],
          "value": [
           156.87534730580433,
           9701.804544419158,
           8021.583513973399,
           13972.44637701982,
           5221.706398226909,
           37872.17077643235,
           12534.63119433991,
           58982.77245283292,
           71517.4036471727,
           17732.369006068657,
           21097.227299999973,
           2757.996198004488,
           3830.690403616928,
           4703.074007324428,
           23941.165765523285,
           3596.6699315995616,
           141.1878125752239,
           40100.435938622526,
           19408.890029061975,
           20832.733722134275,
           15572.958838744293,
           36405.69256087865,
           25528.697334839944,
           32788.92017697456,
           767.0559604050558,
           7081.487193331947,
           2757.996198004488,
           10649.306163354271,
           3234.4867169966287,
           27470.753118631714,
           9149.208260118763,
           41798.74104973846,
           50947.94930985717,
           41561.50869336533,
           31237.775342857134,
           8021.583513973399,
           7016.791175417115,
           8606.277383798635,
           44386.94591695072,
           4767.686046083304,
           690.3503643645499,
           155017.98639578864,
           70377.73622834928,
           85330.60053180455,
           56709.35649317079,
           142039.95702497524,
           31601.122087079853,
           39402.59728593855,
           1272.9058766189344,
           11166.28561596818,
           3830.690403616928,
           7016.791175417115,
           4324.850473778948,
           42899.359238008365,
           14426.725602025972,
           64157.979033042335,
           78584.70463506828,
           79469.46262493738,
           75230.58862857145,
           13972.44637701982,
           10649.306163354271,
           22856.837758375405,
           89968.8875965669,
           17252.5733581892,
           1145.6152889570408,
           304211.78091105376,
           131002.42248180696,
           174354.97371882488,
           105656.43524088913,
           280011.40895971406,
           59057.83538904624,
           73639.18081359164,
           186.03588895740032,
           14056.312006468655,
           4703.074007324428,
           8606.277383798635,
           22856.837758375405,
           54558.14701854688,
           18160.609827478795,
           82351.09711452722,
           100511.70694200612,
           21757.772939641032,
           26031.481199999933,
           5221.706398226909,
           3234.4867169966287,
           4324.850473778948,
           29325.137597687808,
           5683.072952950767,
           167.43230006166027,
           48582.11411958313,
           23585.447250051784,
           25164.0991695945,
           18923.452507334114,
           44087.551676928575,
           31601.122087079853,
           40652.65499740186
          ]
         },
         "node": {
          "color": [
           "rgba(0.6627450980392157, 0.6627450980392157, 0.6627450980392157, 0.6)",
           "rgba(1.0, 0.0, 0.0, 0.6)",
           "rgba(0.5294117647058824, 0.807843137254902, 0.9215686274509803, 0.6)",
           "rgba(0.5294117647058824, 0.807843137254902, 0.9215686274509803, 0.6)",
           "rgba(0.5294117647058824, 0.807843137254902, 0.9215686274509803, 0.6)",
           "rgba(0.5294117647058824, 0.807843137254902, 0.9215686274509803, 0.6)",
           "rgba(0.5294117647058824, 0.807843137254902, 0.9215686274509803, 0.6)",
           "rgba(0.5294117647058824, 0.807843137254902, 0.9215686274509803, 0.6)",
           "rgba(0.5294117647058824, 0.807843137254902, 0.9215686274509803, 0.6)",
           "rgba(1.0, 0.0, 0.0, 0.6)",
           "rgba(0.5294117647058824, 0.807843137254902, 0.9215686274509803, 0.6)",
           "rgba(0.5294117647058824, 0.807843137254902, 0.9215686274509803, 0.6)",
           "rgba(1.0, 0.0, 1.0, 0.6)",
           "rgba(1.0, 0.0, 1.0, 0.6)",
           "rgba(1.0, 0.0, 1.0, 0.6)",
           "rgba(1.0, 0.0, 1.0, 0.6)",
           "rgba(1.0, 0.0, 0.0, 0.6)",
           "rgba(1.0, 0.0, 0.0, 0.6)",
           "rgba(0.6627450980392157, 0.6627450980392157, 0.6627450980392157, 0.6)",
           "rgba(1.0, 0.0, 0.0, 0.6)",
           "rgba(0.5294117647058824, 0.807843137254902, 0.9215686274509803, 0.6)",
           "rgba(0.5294117647058824, 0.807843137254902, 0.9215686274509803, 0.6)",
           "rgba(0.5294117647058824, 0.807843137254902, 0.9215686274509803, 0.6)",
           "rgba(0.5294117647058824, 0.807843137254902, 0.9215686274509803, 0.6)",
           "rgba(0.5294117647058824, 0.807843137254902, 0.9215686274509803, 0.6)",
           "rgba(0.5294117647058824, 0.807843137254902, 0.9215686274509803, 0.6)",
           "rgba(1.0, 0.0, 0.0, 0.6)",
           "rgba(0.5294117647058824, 0.807843137254902, 0.9215686274509803, 0.6)",
           "rgba(0.5294117647058824, 0.807843137254902, 0.9215686274509803, 0.6)",
           "rgba(1.0, 0.0, 1.0, 0.6)",
           "rgba(1.0, 0.0, 1.0, 0.6)",
           "rgba(1.0, 0.0, 1.0, 0.6)",
           "rgba(1.0, 0.0, 1.0, 0.6)",
           "rgba(1.0, 0.0, 0.0, 0.6)",
           "rgba(1.0, 0.0, 0.0, 0.6)",
           "rgba(0.6627450980392157, 0.6627450980392157, 0.6627450980392157, 0.6)",
           "rgba(1.0, 0.0, 0.0, 0.6)",
           "rgba(0.5294117647058824, 0.807843137254902, 0.9215686274509803, 0.6)",
           "rgba(0.5294117647058824, 0.807843137254902, 0.9215686274509803, 0.6)",
           "rgba(0.5294117647058824, 0.807843137254902, 0.9215686274509803, 0.6)",
           "rgba(0.5294117647058824, 0.807843137254902, 0.9215686274509803, 0.6)",
           "rgba(0.5294117647058824, 0.807843137254902, 0.9215686274509803, 0.6)",
           "rgba(0.5294117647058824, 0.807843137254902, 0.9215686274509803, 0.6)",
           "rgba(1.0, 0.0, 0.0, 0.6)",
           "rgba(0.5294117647058824, 0.807843137254902, 0.9215686274509803, 0.6)",
           "rgba(0.5294117647058824, 0.807843137254902, 0.9215686274509803, 0.6)",
           "rgba(1.0, 0.0, 1.0, 0.6)",
           "rgba(1.0, 0.0, 1.0, 0.6)",
           "rgba(1.0, 0.0, 1.0, 0.6)",
           "rgba(1.0, 0.0, 1.0, 0.6)",
           "rgba(1.0, 0.0, 0.0, 0.6)",
           "rgba(1.0, 0.0, 0.0, 0.6)",
           "rgba(0.6627450980392157, 0.6627450980392157, 0.6627450980392157, 0.6)",
           "rgba(1.0, 0.0, 0.0, 0.6)",
           "rgba(0.5294117647058824, 0.807843137254902, 0.9215686274509803, 0.6)",
           "rgba(0.5294117647058824, 0.807843137254902, 0.9215686274509803, 0.6)",
           "rgba(0.5294117647058824, 0.807843137254902, 0.9215686274509803, 0.6)",
           "rgba(0.5294117647058824, 0.807843137254902, 0.9215686274509803, 0.6)",
           "rgba(0.5294117647058824, 0.807843137254902, 0.9215686274509803, 0.6)",
           "rgba(0.5294117647058824, 0.807843137254902, 0.9215686274509803, 0.6)",
           "rgba(1.0, 0.0, 0.0, 0.6)",
           "rgba(0.5294117647058824, 0.807843137254902, 0.9215686274509803, 0.6)",
           "rgba(0.5294117647058824, 0.807843137254902, 0.9215686274509803, 0.6)",
           "rgba(1.0, 0.0, 1.0, 0.6)",
           "rgba(1.0, 0.0, 1.0, 0.6)",
           "rgba(1.0, 0.0, 1.0, 0.6)",
           "rgba(1.0, 0.0, 1.0, 0.6)",
           "rgba(1.0, 0.0, 0.0, 0.6)",
           "rgba(1.0, 0.0, 0.0, 0.6)"
          ],
          "customdata": [
           "sufficient",
           "6.4 kW",
           "42.2 kWh",
           "sufficient",
           "sufficient",
           "sufficient",
           "sufficient",
           "66.8 kW",
           "sufficient",
           "24.8 kW",
           "sufficient",
           "sufficient",
           "sufficient",
           "212.4 kWh",
           "sufficient",
           "sufficient",
           "2129.3 kWh",
           "sufficient",
           "sufficient",
           "20.0 kW",
           "31.5 kWh",
           "sufficient",
           "sufficient",
           "sufficient",
           "47.6 kW",
           "sufficient",
           "52.6 kW",
           "sufficient",
           "sufficient",
           "sufficient",
           "400.0 kWh",
           "sufficient",
           "sufficient",
           "641.7 kWh",
           "sufficient",
           "sufficient",
           "34.7 kW",
           "48.6 kWh",
           "sufficient",
           "sufficient",
           "sufficient",
           "73.4 kW",
           "sufficient",
           "92.1 kW",
           "sufficient",
           "sufficient",
           "sufficient",
           "600.0 kWh",
           "sufficient",
           "sufficient",
           "1235.5 kWh",
           "sufficient",
           "sufficient",
           "7.7 kW",
           "62.1 kWh",
           "sufficient",
           "sufficient",
           "sufficient",
           "93.8 kW",
           "sufficient",
           "30.6 kW",
           "sufficient",
           "sufficient",
           "sufficient",
           "262.4 kWh",
           "sufficient",
           "sufficient",
           "2747.8 kWh",
           "sufficient"
          ],
          "hovertemplate": "%{label} has %{customdata} capacity installed",
          "label": [
           "natGas_B1",
           "gasBoiler_B1",
           "Bat_B1",
           "prodEl_B1",
           "elLink",
           "exEl_B1",
           "localEl_B1",
           "pv_B1",
           "usedEl_B1",
           "HP_B1",
           "Q_el_B1",
           "grid_B1",
           "prodSH_B1",
           "shStor_B1",
           "usedSH_B1",
           "Q_sh_B1",
           "dhwStor_B1",
           "Q_dhw_B1",
           "natGas_B2",
           "gasBoiler_B2",
           "Bat_B2",
           "prodEl_B2",
           "exEl_B2",
           "localEl_B2",
           "pv_B2",
           "usedEl_B2",
           "HP_B2",
           "Q_el_B2",
           "grid_B2",
           "prodSH_B2",
           "shStor_B2",
           "usedSH_B2",
           "Q_sh_B2",
           "dhwStor_B2",
           "Q_dhw_B2",
           "natGas_B3",
           "gasBoiler_B3",
           "Bat_B3",
           "prodEl_B3",
           "exEl_B3",
           "localEl_B3",
           "pv_B3",
           "usedEl_B3",
           "HP_B3",
           "Q_el_B3",
           "grid_B3",
           "prodSH_B3",
           "shStor_B3",
           "usedSH_B3",
           "Q_sh_B3",
           "dhwStor_B3",
           "Q_dhw_B3",
           "natGas_B4",
           "gasBoiler_B4",
           "Bat_B4",
           "prodEl_B4",
           "exEl_B4",
           "localEl_B4",
           "pv_B4",
           "usedEl_B4",
           "HP_B4",
           "Q_el_B4",
           "grid_B4",
           "prodSH_B4",
           "shStor_B4",
           "usedSH_B4",
           "Q_sh_B4",
           "dhwStor_B4",
           "Q_dhw_B4"
          ],
          "line": {
           "color": "black",
           "width": 0.5
          },
          "pad": 25,
          "thickness": 15,
          "x": [
           0.001,
           0.1,
           0.2,
           0.3,
           0.4,
           0.999,
           0.15,
           0.001,
           0.5,
           0.6,
           0.999,
           0.001,
           0.65,
           0.68,
           0.75,
           0.999,
           0.8,
           0.999,
           0.001,
           0.1,
           0.2,
           0.3,
           0.999,
           0.15,
           0.001,
           0.5,
           0.6,
           0.999,
           0.001,
           0.65,
           0.68,
           0.75,
           0.999,
           0.8,
           0.999,
           0.001,
           0.1,
           0.2,
           0.3,
           0.999,
           0.15,
           0.001,
           0.5,
           0.6,
           0.999,
           0.001,
           0.65,
           0.68,
           0.75,
           0.999,
           0.8,
           0.999,
           0.001,
           0.1,
           0.2,
           0.3,
           0.999,
           0.15,
           0.001,
           0.5,
           0.6,
           0.999,
           0.001,
           0.65,
           0.68,
           0.75,
           0.999,
           0.8,
           0.999
          ],
          "y": [
           0.1625,
           0.175,
           0.0625,
           0.075,
           0.037500000000000006,
           0.0625,
           0.075,
           0.075,
           0.05,
           0.125,
           0.0375,
           0.0375,
           0.145,
           0.0925,
           0.145,
           0.15,
           0.2125,
           0.2125,
           0.4125,
           0.425,
           0.3125,
           0.325,
           0.3125,
           0.325,
           0.325,
           0.3,
           0.375,
           0.2875,
           0.2875,
           0.395,
           0.3425,
           0.395,
           0.4,
           0.4625,
           0.4625,
           0.6625,
           0.675,
           0.5625,
           0.575,
           0.5625,
           0.575,
           0.575,
           0.55,
           0.625,
           0.5375,
           0.5375,
           0.645,
           0.5925,
           0.645,
           0.65,
           0.7125,
           0.7125,
           0.9125,
           0.925,
           0.8125,
           0.825,
           0.8125,
           0.825,
           0.825,
           0.8,
           0.875,
           0.7875,
           0.7875,
           0.895,
           0.8425,
           0.895,
           0.9,
           0.9625,
           0.9625
          ]
         },
         "type": "sankey"
        }
       ],
       "layout": {
        "font": {
         "color": "black",
         "size": 10
        },
        "paper_bgcolor": "rgba(0,0,0,0)",
        "plot_bgcolor": "rgba(0,0,0,0)",
        "shapes": [
         {
          "line": {
           "color": "rgba(0,0,0,0)"
          },
          "type": "line",
          "x0": 0,
          "x1": 1,
          "xref": "x domain",
          "y0": 0,
          "y1": 0,
          "yref": "y"
         },
         {
          "line": {
           "dash": "dash"
          },
          "type": "line",
          "x0": 0,
          "x1": 1,
          "xref": "x domain",
          "y0": 0.5,
          "y1": 0.5,
          "yref": "y"
         },
         {
          "line": {
           "dash": "dash"
          },
          "type": "line",
          "x0": 0,
          "x1": 1,
          "xref": "x domain",
          "y0": 0.25,
          "y1": 0.25,
          "yref": "y"
         },
         {
          "line": {
           "dash": "dash"
          },
          "type": "line",
          "x0": 0,
          "x1": 1,
          "xref": "x domain",
          "y0": 0.75,
          "y1": 0.75,
          "yref": "y"
         },
         {
          "line": {
           "color": "rgba(0,0,0,0)"
          },
          "type": "line",
          "x0": 0,
          "x1": 1,
          "xref": "x domain",
          "y0": 1,
          "y1": 1,
          "yref": "y"
         }
        ],
        "template": {
         "data": {
          "bar": [
           {
            "error_x": {
             "color": "#2a3f5f"
            },
            "error_y": {
             "color": "#2a3f5f"
            },
            "marker": {
             "line": {
              "color": "#E5ECF6",
              "width": 0.5
             },
             "pattern": {
              "fillmode": "overlay",
              "size": 10,
              "solidity": 0.2
             }
            },
            "type": "bar"
           }
          ],
          "barpolar": [
           {
            "marker": {
             "line": {
              "color": "#E5ECF6",
              "width": 0.5
             },
             "pattern": {
              "fillmode": "overlay",
              "size": 10,
              "solidity": 0.2
             }
            },
            "type": "barpolar"
           }
          ],
          "carpet": [
           {
            "aaxis": {
             "endlinecolor": "#2a3f5f",
             "gridcolor": "white",
             "linecolor": "white",
             "minorgridcolor": "white",
             "startlinecolor": "#2a3f5f"
            },
            "baxis": {
             "endlinecolor": "#2a3f5f",
             "gridcolor": "white",
             "linecolor": "white",
             "minorgridcolor": "white",
             "startlinecolor": "#2a3f5f"
            },
            "type": "carpet"
           }
          ],
          "choropleth": [
           {
            "colorbar": {
             "outlinewidth": 0,
             "ticks": ""
            },
            "type": "choropleth"
           }
          ],
          "contour": [
           {
            "colorbar": {
             "outlinewidth": 0,
             "ticks": ""
            },
            "colorscale": [
             [
              0,
              "#0d0887"
             ],
             [
              0.1111111111111111,
              "#46039f"
             ],
             [
              0.2222222222222222,
              "#7201a8"
             ],
             [
              0.3333333333333333,
              "#9c179e"
             ],
             [
              0.4444444444444444,
              "#bd3786"
             ],
             [
              0.5555555555555556,
              "#d8576b"
             ],
             [
              0.6666666666666666,
              "#ed7953"
             ],
             [
              0.7777777777777778,
              "#fb9f3a"
             ],
             [
              0.8888888888888888,
              "#fdca26"
             ],
             [
              1,
              "#f0f921"
             ]
            ],
            "type": "contour"
           }
          ],
          "contourcarpet": [
           {
            "colorbar": {
             "outlinewidth": 0,
             "ticks": ""
            },
            "type": "contourcarpet"
           }
          ],
          "heatmap": [
           {
            "colorbar": {
             "outlinewidth": 0,
             "ticks": ""
            },
            "colorscale": [
             [
              0,
              "#0d0887"
             ],
             [
              0.1111111111111111,
              "#46039f"
             ],
             [
              0.2222222222222222,
              "#7201a8"
             ],
             [
              0.3333333333333333,
              "#9c179e"
             ],
             [
              0.4444444444444444,
              "#bd3786"
             ],
             [
              0.5555555555555556,
              "#d8576b"
             ],
             [
              0.6666666666666666,
              "#ed7953"
             ],
             [
              0.7777777777777778,
              "#fb9f3a"
             ],
             [
              0.8888888888888888,
              "#fdca26"
             ],
             [
              1,
              "#f0f921"
             ]
            ],
            "type": "heatmap"
           }
          ],
          "heatmapgl": [
           {
            "colorbar": {
             "outlinewidth": 0,
             "ticks": ""
            },
            "colorscale": [
             [
              0,
              "#0d0887"
             ],
             [
              0.1111111111111111,
              "#46039f"
             ],
             [
              0.2222222222222222,
              "#7201a8"
             ],
             [
              0.3333333333333333,
              "#9c179e"
             ],
             [
              0.4444444444444444,
              "#bd3786"
             ],
             [
              0.5555555555555556,
              "#d8576b"
             ],
             [
              0.6666666666666666,
              "#ed7953"
             ],
             [
              0.7777777777777778,
              "#fb9f3a"
             ],
             [
              0.8888888888888888,
              "#fdca26"
             ],
             [
              1,
              "#f0f921"
             ]
            ],
            "type": "heatmapgl"
           }
          ],
          "histogram": [
           {
            "marker": {
             "pattern": {
              "fillmode": "overlay",
              "size": 10,
              "solidity": 0.2
             }
            },
            "type": "histogram"
           }
          ],
          "histogram2d": [
           {
            "colorbar": {
             "outlinewidth": 0,
             "ticks": ""
            },
            "colorscale": [
             [
              0,
              "#0d0887"
             ],
             [
              0.1111111111111111,
              "#46039f"
             ],
             [
              0.2222222222222222,
              "#7201a8"
             ],
             [
              0.3333333333333333,
              "#9c179e"
             ],
             [
              0.4444444444444444,
              "#bd3786"
             ],
             [
              0.5555555555555556,
              "#d8576b"
             ],
             [
              0.6666666666666666,
              "#ed7953"
             ],
             [
              0.7777777777777778,
              "#fb9f3a"
             ],
             [
              0.8888888888888888,
              "#fdca26"
             ],
             [
              1,
              "#f0f921"
             ]
            ],
            "type": "histogram2d"
           }
          ],
          "histogram2dcontour": [
           {
            "colorbar": {
             "outlinewidth": 0,
             "ticks": ""
            },
            "colorscale": [
             [
              0,
              "#0d0887"
             ],
             [
              0.1111111111111111,
              "#46039f"
             ],
             [
              0.2222222222222222,
              "#7201a8"
             ],
             [
              0.3333333333333333,
              "#9c179e"
             ],
             [
              0.4444444444444444,
              "#bd3786"
             ],
             [
              0.5555555555555556,
              "#d8576b"
             ],
             [
              0.6666666666666666,
              "#ed7953"
             ],
             [
              0.7777777777777778,
              "#fb9f3a"
             ],
             [
              0.8888888888888888,
              "#fdca26"
             ],
             [
              1,
              "#f0f921"
             ]
            ],
            "type": "histogram2dcontour"
           }
          ],
          "mesh3d": [
           {
            "colorbar": {
             "outlinewidth": 0,
             "ticks": ""
            },
            "type": "mesh3d"
           }
          ],
          "parcoords": [
           {
            "line": {
             "colorbar": {
              "outlinewidth": 0,
              "ticks": ""
             }
            },
            "type": "parcoords"
           }
          ],
          "pie": [
           {
            "automargin": true,
            "type": "pie"
           }
          ],
          "scatter": [
           {
            "marker": {
             "colorbar": {
              "outlinewidth": 0,
              "ticks": ""
             }
            },
            "type": "scatter"
           }
          ],
          "scatter3d": [
           {
            "line": {
             "colorbar": {
              "outlinewidth": 0,
              "ticks": ""
             }
            },
            "marker": {
             "colorbar": {
              "outlinewidth": 0,
              "ticks": ""
             }
            },
            "type": "scatter3d"
           }
          ],
          "scattercarpet": [
           {
            "marker": {
             "colorbar": {
              "outlinewidth": 0,
              "ticks": ""
             }
            },
            "type": "scattercarpet"
           }
          ],
          "scattergeo": [
           {
            "marker": {
             "colorbar": {
              "outlinewidth": 0,
              "ticks": ""
             }
            },
            "type": "scattergeo"
           }
          ],
          "scattergl": [
           {
            "marker": {
             "colorbar": {
              "outlinewidth": 0,
              "ticks": ""
             }
            },
            "type": "scattergl"
           }
          ],
          "scattermapbox": [
           {
            "marker": {
             "colorbar": {
              "outlinewidth": 0,
              "ticks": ""
             }
            },
            "type": "scattermapbox"
           }
          ],
          "scatterpolar": [
           {
            "marker": {
             "colorbar": {
              "outlinewidth": 0,
              "ticks": ""
             }
            },
            "type": "scatterpolar"
           }
          ],
          "scatterpolargl": [
           {
            "marker": {
             "colorbar": {
              "outlinewidth": 0,
              "ticks": ""
             }
            },
            "type": "scatterpolargl"
           }
          ],
          "scatterternary": [
           {
            "marker": {
             "colorbar": {
              "outlinewidth": 0,
              "ticks": ""
             }
            },
            "type": "scatterternary"
           }
          ],
          "surface": [
           {
            "colorbar": {
             "outlinewidth": 0,
             "ticks": ""
            },
            "colorscale": [
             [
              0,
              "#0d0887"
             ],
             [
              0.1111111111111111,
              "#46039f"
             ],
             [
              0.2222222222222222,
              "#7201a8"
             ],
             [
              0.3333333333333333,
              "#9c179e"
             ],
             [
              0.4444444444444444,
              "#bd3786"
             ],
             [
              0.5555555555555556,
              "#d8576b"
             ],
             [
              0.6666666666666666,
              "#ed7953"
             ],
             [
              0.7777777777777778,
              "#fb9f3a"
             ],
             [
              0.8888888888888888,
              "#fdca26"
             ],
             [
              1,
              "#f0f921"
             ]
            ],
            "type": "surface"
           }
          ],
          "table": [
           {
            "cells": {
             "fill": {
              "color": "#EBF0F8"
             },
             "line": {
              "color": "white"
             }
            },
            "header": {
             "fill": {
              "color": "#C8D4E3"
             },
             "line": {
              "color": "white"
             }
            },
            "type": "table"
           }
          ]
         },
         "layout": {
          "annotationdefaults": {
           "arrowcolor": "#2a3f5f",
           "arrowhead": 0,
           "arrowwidth": 1
          },
          "autotypenumbers": "strict",
          "coloraxis": {
           "colorbar": {
            "outlinewidth": 0,
            "ticks": ""
           }
          },
          "colorscale": {
           "diverging": [
            [
             0,
             "#8e0152"
            ],
            [
             0.1,
             "#c51b7d"
            ],
            [
             0.2,
             "#de77ae"
            ],
            [
             0.3,
             "#f1b6da"
            ],
            [
             0.4,
             "#fde0ef"
            ],
            [
             0.5,
             "#f7f7f7"
            ],
            [
             0.6,
             "#e6f5d0"
            ],
            [
             0.7,
             "#b8e186"
            ],
            [
             0.8,
             "#7fbc41"
            ],
            [
             0.9,
             "#4d9221"
            ],
            [
             1,
             "#276419"
            ]
           ],
           "sequential": [
            [
             0,
             "#0d0887"
            ],
            [
             0.1111111111111111,
             "#46039f"
            ],
            [
             0.2222222222222222,
             "#7201a8"
            ],
            [
             0.3333333333333333,
             "#9c179e"
            ],
            [
             0.4444444444444444,
             "#bd3786"
            ],
            [
             0.5555555555555556,
             "#d8576b"
            ],
            [
             0.6666666666666666,
             "#ed7953"
            ],
            [
             0.7777777777777778,
             "#fb9f3a"
            ],
            [
             0.8888888888888888,
             "#fdca26"
            ],
            [
             1,
             "#f0f921"
            ]
           ],
           "sequentialminus": [
            [
             0,
             "#0d0887"
            ],
            [
             0.1111111111111111,
             "#46039f"
            ],
            [
             0.2222222222222222,
             "#7201a8"
            ],
            [
             0.3333333333333333,
             "#9c179e"
            ],
            [
             0.4444444444444444,
             "#bd3786"
            ],
            [
             0.5555555555555556,
             "#d8576b"
            ],
            [
             0.6666666666666666,
             "#ed7953"
            ],
            [
             0.7777777777777778,
             "#fb9f3a"
            ],
            [
             0.8888888888888888,
             "#fdca26"
            ],
            [
             1,
             "#f0f921"
            ]
           ]
          },
          "colorway": [
           "#636efa",
           "#EF553B",
           "#00cc96",
           "#ab63fa",
           "#FFA15A",
           "#19d3f3",
           "#FF6692",
           "#B6E880",
           "#FF97FF",
           "#FECB52"
          ],
          "font": {
           "color": "#2a3f5f"
          },
          "geo": {
           "bgcolor": "white",
           "lakecolor": "white",
           "landcolor": "#E5ECF6",
           "showlakes": true,
           "showland": true,
           "subunitcolor": "white"
          },
          "hoverlabel": {
           "align": "left"
          },
          "hovermode": "closest",
          "mapbox": {
           "style": "light"
          },
          "paper_bgcolor": "white",
          "plot_bgcolor": "#E5ECF6",
          "polar": {
           "angularaxis": {
            "gridcolor": "white",
            "linecolor": "white",
            "ticks": ""
           },
           "bgcolor": "#E5ECF6",
           "radialaxis": {
            "gridcolor": "white",
            "linecolor": "white",
            "ticks": ""
           }
          },
          "scene": {
           "xaxis": {
            "backgroundcolor": "#E5ECF6",
            "gridcolor": "white",
            "gridwidth": 2,
            "linecolor": "white",
            "showbackground": true,
            "ticks": "",
            "zerolinecolor": "white"
           },
           "yaxis": {
            "backgroundcolor": "#E5ECF6",
            "gridcolor": "white",
            "gridwidth": 2,
            "linecolor": "white",
            "showbackground": true,
            "ticks": "",
            "zerolinecolor": "white"
           },
           "zaxis": {
            "backgroundcolor": "#E5ECF6",
            "gridcolor": "white",
            "gridwidth": 2,
            "linecolor": "white",
            "showbackground": true,
            "ticks": "",
            "zerolinecolor": "white"
           }
          },
          "shapedefaults": {
           "line": {
            "color": "#2a3f5f"
           }
          },
          "ternary": {
           "aaxis": {
            "gridcolor": "white",
            "linecolor": "white",
            "ticks": ""
           },
           "baxis": {
            "gridcolor": "white",
            "linecolor": "white",
            "ticks": ""
           },
           "bgcolor": "#E5ECF6",
           "caxis": {
            "gridcolor": "white",
            "linecolor": "white",
            "ticks": ""
           }
          },
          "title": {
           "x": 0.05
          },
          "xaxis": {
           "automargin": true,
           "gridcolor": "white",
           "linecolor": "white",
           "ticks": "",
           "title": {
            "standoff": 15
           },
           "zerolinecolor": "white",
           "zerolinewidth": 2
          },
          "yaxis": {
           "automargin": true,
           "gridcolor": "white",
           "linecolor": "white",
           "ticks": "",
           "title": {
            "standoff": 15
           },
           "zerolinecolor": "white",
           "zerolinewidth": 2
          }
         }
        },
        "title": {
         "text": "../data/Results/results4_5_group.xlsx for buildings [1, 2, 3, 4]"
        },
        "xaxis": {
         "visible": false
        },
        "yaxis": {
         "visible": false
        }
       }
      },
      "text/html": [
       "<div>                            <div id=\"97b7445c-20cb-48dc-a7d7-d8a9b5c2a7d0\" class=\"plotly-graph-div\" style=\"height:525px; width:100%;\"></div>            <script type=\"text/javascript\">                require([\"plotly\"], function(Plotly) {                    window.PLOTLYENV=window.PLOTLYENV || {};                                    if (document.getElementById(\"97b7445c-20cb-48dc-a7d7-d8a9b5c2a7d0\")) {                    Plotly.newPlot(                        \"97b7445c-20cb-48dc-a7d7-d8a9b5c2a7d0\",                        [{\"arrangement\":\"perpendicular\",\"link\":{\"color\":[\"rgba(0.6627450980392157, 0.6627450980392157, 0.6627450980392157, 0.6)\",\"rgba(0.5294117647058824, 0.807843137254902, 0.9215686274509803, 0.6)\",\"rgba(0.5294117647058824, 0.807843137254902, 0.9215686274509803, 0.6)\",\"rgba(0.5294117647058824, 0.807843137254902, 0.9215686274509803, 0.6)\",\"rgba(0.5294117647058824, 0.807843137254902, 0.9215686274509803, 0.6)\",\"rgba(0.5294117647058824, 0.807843137254902, 0.9215686274509803, 0.6)\",\"rgba(0.5294117647058824, 0.807843137254902, 0.9215686274509803, 0.6)\",\"rgba(0.5294117647058824, 0.807843137254902, 0.9215686274509803, 0.6)\",\"rgba(0.5294117647058824, 0.807843137254902, 0.9215686274509803, 0.6)\",\"rgba(0.5294117647058824, 0.807843137254902, 0.9215686274509803, 0.6)\",\"rgba(0.5294117647058824, 0.807843137254902, 0.9215686274509803, 0.6)\",\"rgba(0.5294117647058824, 0.807843137254902, 0.9215686274509803, 0.6)\",\"rgba(0.5294117647058824, 0.807843137254902, 0.9215686274509803, 0.6)\",\"rgba(0.5294117647058824, 0.807843137254902, 0.9215686274509803, 0.6)\",\"rgba(0.5294117647058824, 0.807843137254902, 0.9215686274509803, 0.6)\",\"rgba(0.5294117647058824, 0.807843137254902, 0.9215686274509803, 0.6)\",\"rgba(1.0, 0.0, 1.0, 0.6)\",\"rgba(1.0, 0.0, 1.0, 0.6)\",\"rgba(1.0, 0.0, 1.0, 0.6)\",\"rgba(1.0, 0.0, 1.0, 0.6)\",\"rgba(1.0, 0.0, 1.0, 0.6)\",\"rgba(1.0, 0.0, 1.0, 0.6)\",\"rgba(1.0, 0.0, 0.0, 0.6)\",\"rgba(1.0, 0.0, 0.0, 0.6)\",\"rgba(0.6627450980392157, 0.6627450980392157, 0.6627450980392157, 0.6)\",\"rgba(0.5294117647058824, 0.807843137254902, 0.9215686274509803, 0.6)\",\"rgba(0.5294117647058824, 0.807843137254902, 0.9215686274509803, 0.6)\",\"rgba(0.5294117647058824, 0.807843137254902, 0.9215686274509803, 0.6)\",\"rgba(0.5294117647058824, 0.807843137254902, 0.9215686274509803, 0.6)\",\"rgba(0.5294117647058824, 0.807843137254902, 0.9215686274509803, 0.6)\",\"rgba(0.5294117647058824, 0.807843137254902, 0.9215686274509803, 0.6)\",\"rgba(0.5294117647058824, 0.807843137254902, 0.9215686274509803, 0.6)\",\"rgba(0.5294117647058824, 0.807843137254902, 0.9215686274509803, 0.6)\",\"rgba(0.5294117647058824, 0.807843137254902, 0.9215686274509803, 0.6)\",\"rgba(0.5294117647058824, 0.807843137254902, 0.9215686274509803, 0.6)\",\"rgba(0.5294117647058824, 0.807843137254902, 0.9215686274509803, 0.6)\",\"rgba(0.5294117647058824, 0.807843137254902, 0.9215686274509803, 0.6)\",\"rgba(0.5294117647058824, 0.807843137254902, 0.9215686274509803, 0.6)\",\"rgba(0.5294117647058824, 0.807843137254902, 0.9215686274509803, 0.6)\",\"rgba(0.5294117647058824, 0.807843137254902, 0.9215686274509803, 0.6)\",\"rgba(1.0, 0.0, 1.0, 0.6)\",\"rgba(1.0, 0.0, 1.0, 0.6)\",\"rgba(1.0, 0.0, 1.0, 0.6)\",\"rgba(1.0, 0.0, 1.0, 0.6)\",\"rgba(1.0, 0.0, 1.0, 0.6)\",\"rgba(1.0, 0.0, 1.0, 0.6)\",\"rgba(1.0, 0.0, 0.0, 0.6)\",\"rgba(1.0, 0.0, 0.0, 0.6)\",\"rgba(0.6627450980392157, 0.6627450980392157, 0.6627450980392157, 0.6)\",\"rgba(0.5294117647058824, 0.807843137254902, 0.9215686274509803, 0.6)\",\"rgba(0.5294117647058824, 0.807843137254902, 0.9215686274509803, 0.6)\",\"rgba(0.5294117647058824, 0.807843137254902, 0.9215686274509803, 0.6)\",\"rgba(0.5294117647058824, 0.807843137254902, 0.9215686274509803, 0.6)\",\"rgba(0.5294117647058824, 0.807843137254902, 0.9215686274509803, 0.6)\",\"rgba(0.5294117647058824, 0.807843137254902, 0.9215686274509803, 0.6)\",\"rgba(0.5294117647058824, 0.807843137254902, 0.9215686274509803, 0.6)\",\"rgba(0.5294117647058824, 0.807843137254902, 0.9215686274509803, 0.6)\",\"rgba(0.5294117647058824, 0.807843137254902, 0.9215686274509803, 0.6)\",\"rgba(0.5294117647058824, 0.807843137254902, 0.9215686274509803, 0.6)\",\"rgba(0.5294117647058824, 0.807843137254902, 0.9215686274509803, 0.6)\",\"rgba(0.5294117647058824, 0.807843137254902, 0.9215686274509803, 0.6)\",\"rgba(0.5294117647058824, 0.807843137254902, 0.9215686274509803, 0.6)\",\"rgba(0.5294117647058824, 0.807843137254902, 0.9215686274509803, 0.6)\",\"rgba(0.5294117647058824, 0.807843137254902, 0.9215686274509803, 0.6)\",\"rgba(1.0, 0.0, 1.0, 0.6)\",\"rgba(1.0, 0.0, 1.0, 0.6)\",\"rgba(1.0, 0.0, 1.0, 0.6)\",\"rgba(1.0, 0.0, 1.0, 0.6)\",\"rgba(1.0, 0.0, 1.0, 0.6)\",\"rgba(1.0, 0.0, 1.0, 0.6)\",\"rgba(1.0, 0.0, 0.0, 0.6)\",\"rgba(1.0, 0.0, 0.0, 0.6)\",\"rgba(0.6627450980392157, 0.6627450980392157, 0.6627450980392157, 0.6)\",\"rgba(0.5294117647058824, 0.807843137254902, 0.9215686274509803, 0.6)\",\"rgba(0.5294117647058824, 0.807843137254902, 0.9215686274509803, 0.6)\",\"rgba(0.5294117647058824, 0.807843137254902, 0.9215686274509803, 0.6)\",\"rgba(0.5294117647058824, 0.807843137254902, 0.9215686274509803, 0.6)\",\"rgba(0.5294117647058824, 0.807843137254902, 0.9215686274509803, 0.6)\",\"rgba(0.5294117647058824, 0.807843137254902, 0.9215686274509803, 0.6)\",\"rgba(0.5294117647058824, 0.807843137254902, 0.9215686274509803, 0.6)\",\"rgba(0.5294117647058824, 0.807843137254902, 0.9215686274509803, 0.6)\",\"rgba(0.5294117647058824, 0.807843137254902, 0.9215686274509803, 0.6)\",\"rgba(0.5294117647058824, 0.807843137254902, 0.9215686274509803, 0.6)\",\"rgba(0.5294117647058824, 0.807843137254902, 0.9215686274509803, 0.6)\",\"rgba(0.5294117647058824, 0.807843137254902, 0.9215686274509803, 0.6)\",\"rgba(0.5294117647058824, 0.807843137254902, 0.9215686274509803, 0.6)\",\"rgba(0.5294117647058824, 0.807843137254902, 0.9215686274509803, 0.6)\",\"rgba(0.5294117647058824, 0.807843137254902, 0.9215686274509803, 0.6)\",\"rgba(1.0, 0.0, 1.0, 0.6)\",\"rgba(1.0, 0.0, 1.0, 0.6)\",\"rgba(1.0, 0.0, 1.0, 0.6)\",\"rgba(1.0, 0.0, 1.0, 0.6)\",\"rgba(1.0, 0.0, 1.0, 0.6)\",\"rgba(1.0, 0.0, 1.0, 0.6)\",\"rgba(1.0, 0.0, 0.0, 0.6)\",\"rgba(1.0, 0.0, 0.0, 0.6)\"],\"source\":[0,2,3,3,3,3,6,6,7,8,8,4,4,4,11,3,1,9,12,12,13,14,16,9,18,20,21,21,21,21,23,23,24,25,25,4,4,4,28,21,19,26,29,29,30,31,33,26,35,37,38,38,38,38,40,40,41,42,42,4,4,4,45,38,36,43,46,46,47,48,50,43,52,54,55,55,55,55,57,57,58,59,59,4,4,4,62,55,53,60,63,63,64,65,67,60],\"target\":[1,3,4,4,4,5,2,3,6,9,10,8,8,8,8,8,12,12,13,14,14,15,17,16,19,21,4,4,4,22,20,21,23,26,27,25,25,25,25,25,29,29,30,31,31,32,34,33,36,38,4,4,4,39,37,38,40,43,44,42,42,42,42,42,46,46,47,48,48,49,51,50,53,55,4,4,4,56,54,55,57,60,61,59,59,59,59,59,63,63,64,65,65,66,68,67],\"value\":[156.87534730580433,9701.804544419158,8021.583513973399,13972.44637701982,5221.706398226909,37872.17077643235,12534.63119433991,58982.77245283292,71517.4036471727,17732.369006068657,21097.227299999973,2757.996198004488,3830.690403616928,4703.074007324428,23941.165765523285,3596.6699315995616,141.1878125752239,40100.435938622526,19408.890029061975,20832.733722134275,15572.958838744293,36405.69256087865,25528.697334839944,32788.92017697456,767.0559604050558,7081.487193331947,2757.996198004488,10649.306163354271,3234.4867169966287,27470.753118631714,9149.208260118763,41798.74104973846,50947.94930985717,41561.50869336533,31237.775342857134,8021.583513973399,7016.791175417115,8606.277383798635,44386.94591695072,4767.686046083304,690.3503643645499,155017.98639578864,70377.73622834928,85330.60053180455,56709.35649317079,142039.95702497524,31601.122087079853,39402.59728593855,1272.9058766189344,11166.28561596818,3830.690403616928,7016.791175417115,4324.850473778948,42899.359238008365,14426.725602025972,64157.979033042335,78584.70463506828,79469.46262493738,75230.58862857145,13972.44637701982,10649.306163354271,22856.837758375405,89968.8875965669,17252.5733581892,1145.6152889570408,304211.78091105376,131002.42248180696,174354.97371882488,105656.43524088913,280011.40895971406,59057.83538904624,73639.18081359164,186.03588895740032,14056.312006468655,4703.074007324428,8606.277383798635,22856.837758375405,54558.14701854688,18160.609827478795,82351.09711452722,100511.70694200612,21757.772939641032,26031.481199999933,5221.706398226909,3234.4867169966287,4324.850473778948,29325.137597687808,5683.072952950767,167.43230006166027,48582.11411958313,23585.447250051784,25164.0991695945,18923.452507334114,44087.551676928575,31601.122087079853,40652.65499740186]},\"node\":{\"color\":[\"rgba(0.6627450980392157, 0.6627450980392157, 0.6627450980392157, 0.6)\",\"rgba(1.0, 0.0, 0.0, 0.6)\",\"rgba(0.5294117647058824, 0.807843137254902, 0.9215686274509803, 0.6)\",\"rgba(0.5294117647058824, 0.807843137254902, 0.9215686274509803, 0.6)\",\"rgba(0.5294117647058824, 0.807843137254902, 0.9215686274509803, 0.6)\",\"rgba(0.5294117647058824, 0.807843137254902, 0.9215686274509803, 0.6)\",\"rgba(0.5294117647058824, 0.807843137254902, 0.9215686274509803, 0.6)\",\"rgba(0.5294117647058824, 0.807843137254902, 0.9215686274509803, 0.6)\",\"rgba(0.5294117647058824, 0.807843137254902, 0.9215686274509803, 0.6)\",\"rgba(1.0, 0.0, 0.0, 0.6)\",\"rgba(0.5294117647058824, 0.807843137254902, 0.9215686274509803, 0.6)\",\"rgba(0.5294117647058824, 0.807843137254902, 0.9215686274509803, 0.6)\",\"rgba(1.0, 0.0, 1.0, 0.6)\",\"rgba(1.0, 0.0, 1.0, 0.6)\",\"rgba(1.0, 0.0, 1.0, 0.6)\",\"rgba(1.0, 0.0, 1.0, 0.6)\",\"rgba(1.0, 0.0, 0.0, 0.6)\",\"rgba(1.0, 0.0, 0.0, 0.6)\",\"rgba(0.6627450980392157, 0.6627450980392157, 0.6627450980392157, 0.6)\",\"rgba(1.0, 0.0, 0.0, 0.6)\",\"rgba(0.5294117647058824, 0.807843137254902, 0.9215686274509803, 0.6)\",\"rgba(0.5294117647058824, 0.807843137254902, 0.9215686274509803, 0.6)\",\"rgba(0.5294117647058824, 0.807843137254902, 0.9215686274509803, 0.6)\",\"rgba(0.5294117647058824, 0.807843137254902, 0.9215686274509803, 0.6)\",\"rgba(0.5294117647058824, 0.807843137254902, 0.9215686274509803, 0.6)\",\"rgba(0.5294117647058824, 0.807843137254902, 0.9215686274509803, 0.6)\",\"rgba(1.0, 0.0, 0.0, 0.6)\",\"rgba(0.5294117647058824, 0.807843137254902, 0.9215686274509803, 0.6)\",\"rgba(0.5294117647058824, 0.807843137254902, 0.9215686274509803, 0.6)\",\"rgba(1.0, 0.0, 1.0, 0.6)\",\"rgba(1.0, 0.0, 1.0, 0.6)\",\"rgba(1.0, 0.0, 1.0, 0.6)\",\"rgba(1.0, 0.0, 1.0, 0.6)\",\"rgba(1.0, 0.0, 0.0, 0.6)\",\"rgba(1.0, 0.0, 0.0, 0.6)\",\"rgba(0.6627450980392157, 0.6627450980392157, 0.6627450980392157, 0.6)\",\"rgba(1.0, 0.0, 0.0, 0.6)\",\"rgba(0.5294117647058824, 0.807843137254902, 0.9215686274509803, 0.6)\",\"rgba(0.5294117647058824, 0.807843137254902, 0.9215686274509803, 0.6)\",\"rgba(0.5294117647058824, 0.807843137254902, 0.9215686274509803, 0.6)\",\"rgba(0.5294117647058824, 0.807843137254902, 0.9215686274509803, 0.6)\",\"rgba(0.5294117647058824, 0.807843137254902, 0.9215686274509803, 0.6)\",\"rgba(0.5294117647058824, 0.807843137254902, 0.9215686274509803, 0.6)\",\"rgba(1.0, 0.0, 0.0, 0.6)\",\"rgba(0.5294117647058824, 0.807843137254902, 0.9215686274509803, 0.6)\",\"rgba(0.5294117647058824, 0.807843137254902, 0.9215686274509803, 0.6)\",\"rgba(1.0, 0.0, 1.0, 0.6)\",\"rgba(1.0, 0.0, 1.0, 0.6)\",\"rgba(1.0, 0.0, 1.0, 0.6)\",\"rgba(1.0, 0.0, 1.0, 0.6)\",\"rgba(1.0, 0.0, 0.0, 0.6)\",\"rgba(1.0, 0.0, 0.0, 0.6)\",\"rgba(0.6627450980392157, 0.6627450980392157, 0.6627450980392157, 0.6)\",\"rgba(1.0, 0.0, 0.0, 0.6)\",\"rgba(0.5294117647058824, 0.807843137254902, 0.9215686274509803, 0.6)\",\"rgba(0.5294117647058824, 0.807843137254902, 0.9215686274509803, 0.6)\",\"rgba(0.5294117647058824, 0.807843137254902, 0.9215686274509803, 0.6)\",\"rgba(0.5294117647058824, 0.807843137254902, 0.9215686274509803, 0.6)\",\"rgba(0.5294117647058824, 0.807843137254902, 0.9215686274509803, 0.6)\",\"rgba(0.5294117647058824, 0.807843137254902, 0.9215686274509803, 0.6)\",\"rgba(1.0, 0.0, 0.0, 0.6)\",\"rgba(0.5294117647058824, 0.807843137254902, 0.9215686274509803, 0.6)\",\"rgba(0.5294117647058824, 0.807843137254902, 0.9215686274509803, 0.6)\",\"rgba(1.0, 0.0, 1.0, 0.6)\",\"rgba(1.0, 0.0, 1.0, 0.6)\",\"rgba(1.0, 0.0, 1.0, 0.6)\",\"rgba(1.0, 0.0, 1.0, 0.6)\",\"rgba(1.0, 0.0, 0.0, 0.6)\",\"rgba(1.0, 0.0, 0.0, 0.6)\"],\"customdata\":[\"sufficient\",\"6.4 kW\",\"42.2 kWh\",\"sufficient\",\"sufficient\",\"sufficient\",\"sufficient\",\"66.8 kW\",\"sufficient\",\"24.8 kW\",\"sufficient\",\"sufficient\",\"sufficient\",\"212.4 kWh\",\"sufficient\",\"sufficient\",\"2129.3 kWh\",\"sufficient\",\"sufficient\",\"20.0 kW\",\"31.5 kWh\",\"sufficient\",\"sufficient\",\"sufficient\",\"47.6 kW\",\"sufficient\",\"52.6 kW\",\"sufficient\",\"sufficient\",\"sufficient\",\"400.0 kWh\",\"sufficient\",\"sufficient\",\"641.7 kWh\",\"sufficient\",\"sufficient\",\"34.7 kW\",\"48.6 kWh\",\"sufficient\",\"sufficient\",\"sufficient\",\"73.4 kW\",\"sufficient\",\"92.1 kW\",\"sufficient\",\"sufficient\",\"sufficient\",\"600.0 kWh\",\"sufficient\",\"sufficient\",\"1235.5 kWh\",\"sufficient\",\"sufficient\",\"7.7 kW\",\"62.1 kWh\",\"sufficient\",\"sufficient\",\"sufficient\",\"93.8 kW\",\"sufficient\",\"30.6 kW\",\"sufficient\",\"sufficient\",\"sufficient\",\"262.4 kWh\",\"sufficient\",\"sufficient\",\"2747.8 kWh\",\"sufficient\"],\"hovertemplate\":\"%{label} has %{customdata} capacity installed\",\"label\":[\"natGas_B1\",\"gasBoiler_B1\",\"Bat_B1\",\"prodEl_B1\",\"elLink\",\"exEl_B1\",\"localEl_B1\",\"pv_B1\",\"usedEl_B1\",\"HP_B1\",\"Q_el_B1\",\"grid_B1\",\"prodSH_B1\",\"shStor_B1\",\"usedSH_B1\",\"Q_sh_B1\",\"dhwStor_B1\",\"Q_dhw_B1\",\"natGas_B2\",\"gasBoiler_B2\",\"Bat_B2\",\"prodEl_B2\",\"exEl_B2\",\"localEl_B2\",\"pv_B2\",\"usedEl_B2\",\"HP_B2\",\"Q_el_B2\",\"grid_B2\",\"prodSH_B2\",\"shStor_B2\",\"usedSH_B2\",\"Q_sh_B2\",\"dhwStor_B2\",\"Q_dhw_B2\",\"natGas_B3\",\"gasBoiler_B3\",\"Bat_B3\",\"prodEl_B3\",\"exEl_B3\",\"localEl_B3\",\"pv_B3\",\"usedEl_B3\",\"HP_B3\",\"Q_el_B3\",\"grid_B3\",\"prodSH_B3\",\"shStor_B3\",\"usedSH_B3\",\"Q_sh_B3\",\"dhwStor_B3\",\"Q_dhw_B3\",\"natGas_B4\",\"gasBoiler_B4\",\"Bat_B4\",\"prodEl_B4\",\"exEl_B4\",\"localEl_B4\",\"pv_B4\",\"usedEl_B4\",\"HP_B4\",\"Q_el_B4\",\"grid_B4\",\"prodSH_B4\",\"shStor_B4\",\"usedSH_B4\",\"Q_sh_B4\",\"dhwStor_B4\",\"Q_dhw_B4\"],\"line\":{\"color\":\"black\",\"width\":0.5},\"pad\":25,\"thickness\":15,\"x\":[0.001,0.1,0.2,0.3,0.4,0.999,0.15,0.001,0.5,0.6,0.999,0.001,0.65,0.68,0.75,0.999,0.8,0.999,0.001,0.1,0.2,0.3,0.999,0.15,0.001,0.5,0.6,0.999,0.001,0.65,0.68,0.75,0.999,0.8,0.999,0.001,0.1,0.2,0.3,0.999,0.15,0.001,0.5,0.6,0.999,0.001,0.65,0.68,0.75,0.999,0.8,0.999,0.001,0.1,0.2,0.3,0.999,0.15,0.001,0.5,0.6,0.999,0.001,0.65,0.68,0.75,0.999,0.8,0.999],\"y\":[0.1625,0.175,0.0625,0.075,0.037500000000000006,0.0625,0.075,0.075,0.05,0.125,0.0375,0.0375,0.145,0.0925,0.145,0.15,0.2125,0.2125,0.4125,0.425,0.3125,0.325,0.3125,0.325,0.325,0.3,0.375,0.2875,0.2875,0.395,0.3425,0.395,0.4,0.4625,0.4625,0.6625,0.675,0.5625,0.575,0.5625,0.575,0.575,0.55,0.625,0.5375,0.5375,0.645,0.5925,0.645,0.65,0.7125,0.7125,0.9125,0.925,0.8125,0.825,0.8125,0.825,0.825,0.8,0.875,0.7875,0.7875,0.895,0.8425,0.895,0.9,0.9625,0.9625]},\"type\":\"sankey\"}],                        {\"template\":{\"data\":{\"bar\":[{\"error_x\":{\"color\":\"#2a3f5f\"},\"error_y\":{\"color\":\"#2a3f5f\"},\"marker\":{\"line\":{\"color\":\"#E5ECF6\",\"width\":0.5},\"pattern\":{\"fillmode\":\"overlay\",\"size\":10,\"solidity\":0.2}},\"type\":\"bar\"}],\"barpolar\":[{\"marker\":{\"line\":{\"color\":\"#E5ECF6\",\"width\":0.5},\"pattern\":{\"fillmode\":\"overlay\",\"size\":10,\"solidity\":0.2}},\"type\":\"barpolar\"}],\"carpet\":[{\"aaxis\":{\"endlinecolor\":\"#2a3f5f\",\"gridcolor\":\"white\",\"linecolor\":\"white\",\"minorgridcolor\":\"white\",\"startlinecolor\":\"#2a3f5f\"},\"baxis\":{\"endlinecolor\":\"#2a3f5f\",\"gridcolor\":\"white\",\"linecolor\":\"white\",\"minorgridcolor\":\"white\",\"startlinecolor\":\"#2a3f5f\"},\"type\":\"carpet\"}],\"choropleth\":[{\"colorbar\":{\"outlinewidth\":0,\"ticks\":\"\"},\"type\":\"choropleth\"}],\"contour\":[{\"colorbar\":{\"outlinewidth\":0,\"ticks\":\"\"},\"colorscale\":[[0.0,\"#0d0887\"],[0.1111111111111111,\"#46039f\"],[0.2222222222222222,\"#7201a8\"],[0.3333333333333333,\"#9c179e\"],[0.4444444444444444,\"#bd3786\"],[0.5555555555555556,\"#d8576b\"],[0.6666666666666666,\"#ed7953\"],[0.7777777777777778,\"#fb9f3a\"],[0.8888888888888888,\"#fdca26\"],[1.0,\"#f0f921\"]],\"type\":\"contour\"}],\"contourcarpet\":[{\"colorbar\":{\"outlinewidth\":0,\"ticks\":\"\"},\"type\":\"contourcarpet\"}],\"heatmap\":[{\"colorbar\":{\"outlinewidth\":0,\"ticks\":\"\"},\"colorscale\":[[0.0,\"#0d0887\"],[0.1111111111111111,\"#46039f\"],[0.2222222222222222,\"#7201a8\"],[0.3333333333333333,\"#9c179e\"],[0.4444444444444444,\"#bd3786\"],[0.5555555555555556,\"#d8576b\"],[0.6666666666666666,\"#ed7953\"],[0.7777777777777778,\"#fb9f3a\"],[0.8888888888888888,\"#fdca26\"],[1.0,\"#f0f921\"]],\"type\":\"heatmap\"}],\"heatmapgl\":[{\"colorbar\":{\"outlinewidth\":0,\"ticks\":\"\"},\"colorscale\":[[0.0,\"#0d0887\"],[0.1111111111111111,\"#46039f\"],[0.2222222222222222,\"#7201a8\"],[0.3333333333333333,\"#9c179e\"],[0.4444444444444444,\"#bd3786\"],[0.5555555555555556,\"#d8576b\"],[0.6666666666666666,\"#ed7953\"],[0.7777777777777778,\"#fb9f3a\"],[0.8888888888888888,\"#fdca26\"],[1.0,\"#f0f921\"]],\"type\":\"heatmapgl\"}],\"histogram\":[{\"marker\":{\"pattern\":{\"fillmode\":\"overlay\",\"size\":10,\"solidity\":0.2}},\"type\":\"histogram\"}],\"histogram2d\":[{\"colorbar\":{\"outlinewidth\":0,\"ticks\":\"\"},\"colorscale\":[[0.0,\"#0d0887\"],[0.1111111111111111,\"#46039f\"],[0.2222222222222222,\"#7201a8\"],[0.3333333333333333,\"#9c179e\"],[0.4444444444444444,\"#bd3786\"],[0.5555555555555556,\"#d8576b\"],[0.6666666666666666,\"#ed7953\"],[0.7777777777777778,\"#fb9f3a\"],[0.8888888888888888,\"#fdca26\"],[1.0,\"#f0f921\"]],\"type\":\"histogram2d\"}],\"histogram2dcontour\":[{\"colorbar\":{\"outlinewidth\":0,\"ticks\":\"\"},\"colorscale\":[[0.0,\"#0d0887\"],[0.1111111111111111,\"#46039f\"],[0.2222222222222222,\"#7201a8\"],[0.3333333333333333,\"#9c179e\"],[0.4444444444444444,\"#bd3786\"],[0.5555555555555556,\"#d8576b\"],[0.6666666666666666,\"#ed7953\"],[0.7777777777777778,\"#fb9f3a\"],[0.8888888888888888,\"#fdca26\"],[1.0,\"#f0f921\"]],\"type\":\"histogram2dcontour\"}],\"mesh3d\":[{\"colorbar\":{\"outlinewidth\":0,\"ticks\":\"\"},\"type\":\"mesh3d\"}],\"parcoords\":[{\"line\":{\"colorbar\":{\"outlinewidth\":0,\"ticks\":\"\"}},\"type\":\"parcoords\"}],\"pie\":[{\"automargin\":true,\"type\":\"pie\"}],\"scatter\":[{\"marker\":{\"colorbar\":{\"outlinewidth\":0,\"ticks\":\"\"}},\"type\":\"scatter\"}],\"scatter3d\":[{\"line\":{\"colorbar\":{\"outlinewidth\":0,\"ticks\":\"\"}},\"marker\":{\"colorbar\":{\"outlinewidth\":0,\"ticks\":\"\"}},\"type\":\"scatter3d\"}],\"scattercarpet\":[{\"marker\":{\"colorbar\":{\"outlinewidth\":0,\"ticks\":\"\"}},\"type\":\"scattercarpet\"}],\"scattergeo\":[{\"marker\":{\"colorbar\":{\"outlinewidth\":0,\"ticks\":\"\"}},\"type\":\"scattergeo\"}],\"scattergl\":[{\"marker\":{\"colorbar\":{\"outlinewidth\":0,\"ticks\":\"\"}},\"type\":\"scattergl\"}],\"scattermapbox\":[{\"marker\":{\"colorbar\":{\"outlinewidth\":0,\"ticks\":\"\"}},\"type\":\"scattermapbox\"}],\"scatterpolar\":[{\"marker\":{\"colorbar\":{\"outlinewidth\":0,\"ticks\":\"\"}},\"type\":\"scatterpolar\"}],\"scatterpolargl\":[{\"marker\":{\"colorbar\":{\"outlinewidth\":0,\"ticks\":\"\"}},\"type\":\"scatterpolargl\"}],\"scatterternary\":[{\"marker\":{\"colorbar\":{\"outlinewidth\":0,\"ticks\":\"\"}},\"type\":\"scatterternary\"}],\"surface\":[{\"colorbar\":{\"outlinewidth\":0,\"ticks\":\"\"},\"colorscale\":[[0.0,\"#0d0887\"],[0.1111111111111111,\"#46039f\"],[0.2222222222222222,\"#7201a8\"],[0.3333333333333333,\"#9c179e\"],[0.4444444444444444,\"#bd3786\"],[0.5555555555555556,\"#d8576b\"],[0.6666666666666666,\"#ed7953\"],[0.7777777777777778,\"#fb9f3a\"],[0.8888888888888888,\"#fdca26\"],[1.0,\"#f0f921\"]],\"type\":\"surface\"}],\"table\":[{\"cells\":{\"fill\":{\"color\":\"#EBF0F8\"},\"line\":{\"color\":\"white\"}},\"header\":{\"fill\":{\"color\":\"#C8D4E3\"},\"line\":{\"color\":\"white\"}},\"type\":\"table\"}]},\"layout\":{\"annotationdefaults\":{\"arrowcolor\":\"#2a3f5f\",\"arrowhead\":0,\"arrowwidth\":1},\"autotypenumbers\":\"strict\",\"coloraxis\":{\"colorbar\":{\"outlinewidth\":0,\"ticks\":\"\"}},\"colorscale\":{\"diverging\":[[0,\"#8e0152\"],[0.1,\"#c51b7d\"],[0.2,\"#de77ae\"],[0.3,\"#f1b6da\"],[0.4,\"#fde0ef\"],[0.5,\"#f7f7f7\"],[0.6,\"#e6f5d0\"],[0.7,\"#b8e186\"],[0.8,\"#7fbc41\"],[0.9,\"#4d9221\"],[1,\"#276419\"]],\"sequential\":[[0.0,\"#0d0887\"],[0.1111111111111111,\"#46039f\"],[0.2222222222222222,\"#7201a8\"],[0.3333333333333333,\"#9c179e\"],[0.4444444444444444,\"#bd3786\"],[0.5555555555555556,\"#d8576b\"],[0.6666666666666666,\"#ed7953\"],[0.7777777777777778,\"#fb9f3a\"],[0.8888888888888888,\"#fdca26\"],[1.0,\"#f0f921\"]],\"sequentialminus\":[[0.0,\"#0d0887\"],[0.1111111111111111,\"#46039f\"],[0.2222222222222222,\"#7201a8\"],[0.3333333333333333,\"#9c179e\"],[0.4444444444444444,\"#bd3786\"],[0.5555555555555556,\"#d8576b\"],[0.6666666666666666,\"#ed7953\"],[0.7777777777777778,\"#fb9f3a\"],[0.8888888888888888,\"#fdca26\"],[1.0,\"#f0f921\"]]},\"colorway\":[\"#636efa\",\"#EF553B\",\"#00cc96\",\"#ab63fa\",\"#FFA15A\",\"#19d3f3\",\"#FF6692\",\"#B6E880\",\"#FF97FF\",\"#FECB52\"],\"font\":{\"color\":\"#2a3f5f\"},\"geo\":{\"bgcolor\":\"white\",\"lakecolor\":\"white\",\"landcolor\":\"#E5ECF6\",\"showlakes\":true,\"showland\":true,\"subunitcolor\":\"white\"},\"hoverlabel\":{\"align\":\"left\"},\"hovermode\":\"closest\",\"mapbox\":{\"style\":\"light\"},\"paper_bgcolor\":\"white\",\"plot_bgcolor\":\"#E5ECF6\",\"polar\":{\"angularaxis\":{\"gridcolor\":\"white\",\"linecolor\":\"white\",\"ticks\":\"\"},\"bgcolor\":\"#E5ECF6\",\"radialaxis\":{\"gridcolor\":\"white\",\"linecolor\":\"white\",\"ticks\":\"\"}},\"scene\":{\"xaxis\":{\"backgroundcolor\":\"#E5ECF6\",\"gridcolor\":\"white\",\"gridwidth\":2,\"linecolor\":\"white\",\"showbackground\":true,\"ticks\":\"\",\"zerolinecolor\":\"white\"},\"yaxis\":{\"backgroundcolor\":\"#E5ECF6\",\"gridcolor\":\"white\",\"gridwidth\":2,\"linecolor\":\"white\",\"showbackground\":true,\"ticks\":\"\",\"zerolinecolor\":\"white\"},\"zaxis\":{\"backgroundcolor\":\"#E5ECF6\",\"gridcolor\":\"white\",\"gridwidth\":2,\"linecolor\":\"white\",\"showbackground\":true,\"ticks\":\"\",\"zerolinecolor\":\"white\"}},\"shapedefaults\":{\"line\":{\"color\":\"#2a3f5f\"}},\"ternary\":{\"aaxis\":{\"gridcolor\":\"white\",\"linecolor\":\"white\",\"ticks\":\"\"},\"baxis\":{\"gridcolor\":\"white\",\"linecolor\":\"white\",\"ticks\":\"\"},\"bgcolor\":\"#E5ECF6\",\"caxis\":{\"gridcolor\":\"white\",\"linecolor\":\"white\",\"ticks\":\"\"}},\"title\":{\"x\":0.05},\"xaxis\":{\"automargin\":true,\"gridcolor\":\"white\",\"linecolor\":\"white\",\"ticks\":\"\",\"title\":{\"standoff\":15},\"zerolinecolor\":\"white\",\"zerolinewidth\":2},\"yaxis\":{\"automargin\":true,\"gridcolor\":\"white\",\"linecolor\":\"white\",\"ticks\":\"\",\"title\":{\"standoff\":15},\"zerolinecolor\":\"white\",\"zerolinewidth\":2}}},\"font\":{\"size\":10,\"color\":\"black\"},\"title\":{\"text\":\"../data/Results/results4_5_group.xlsx for buildings [1, 2, 3, 4]\"},\"paper_bgcolor\":\"rgba(0,0,0,0)\",\"plot_bgcolor\":\"rgba(0,0,0,0)\",\"shapes\":[{\"line\":{\"color\":\"rgba(0,0,0,0)\"},\"type\":\"line\",\"x0\":0,\"x1\":1,\"xref\":\"x domain\",\"y0\":0,\"y1\":0,\"yref\":\"y\"},{\"line\":{\"dash\":\"dash\"},\"type\":\"line\",\"x0\":0,\"x1\":1,\"xref\":\"x domain\",\"y0\":0.5,\"y1\":0.5,\"yref\":\"y\"},{\"line\":{\"dash\":\"dash\"},\"type\":\"line\",\"x0\":0,\"x1\":1,\"xref\":\"x domain\",\"y0\":0.25,\"y1\":0.25,\"yref\":\"y\"},{\"line\":{\"dash\":\"dash\"},\"type\":\"line\",\"x0\":0,\"x1\":1,\"xref\":\"x domain\",\"y0\":0.75,\"y1\":0.75,\"yref\":\"y\"},{\"line\":{\"color\":\"rgba(0,0,0,0)\"},\"type\":\"line\",\"x0\":0,\"x1\":1,\"xref\":\"x domain\",\"y0\":1.0,\"y1\":1.0,\"yref\":\"y\"}],\"xaxis\":{\"visible\":false},\"yaxis\":{\"visible\":false}},                        {\"responsive\": true}                    ).then(function(){\n",
       "                            \n",
       "var gd = document.getElementById('97b7445c-20cb-48dc-a7d7-d8a9b5c2a7d0');\n",
       "var x = new MutationObserver(function (mutations, observer) {{\n",
       "        var display = window.getComputedStyle(gd).display;\n",
       "        if (!display || display === 'none') {{\n",
       "            console.log([gd, 'removed!']);\n",
       "            Plotly.purge(gd);\n",
       "            observer.disconnect();\n",
       "        }}\n",
       "}});\n",
       "\n",
       "// Listen for the removal of the full notebook cells\n",
       "var notebookContainer = gd.closest('#notebook-container');\n",
       "if (notebookContainer) {{\n",
       "    x.observe(notebookContainer, {childList: true});\n",
       "}}\n",
       "\n",
       "// Listen for the clearing of the current output cell\n",
       "var outputEl = gd.closest('.output');\n",
       "if (outputEl) {{\n",
       "    x.observe(outputEl, {childList: true});\n",
       "}}\n",
       "\n",
       "                        })                };                });            </script>        </div>"
      ]
     },
     "metadata": {},
     "output_type": "display_data"
    },
    {
     "ename": "SystemExit",
     "evalue": "",
     "output_type": "error",
     "traceback": [
      "An exception has occurred, use %tb to see the full traceback.\n",
      "\u001b[1;31mSystemExit\u001b[0m\n"
     ]
    },
    {
     "name": "stderr",
     "output_type": "stream",
     "text": [
      "C:\\Users\\vincent.jacquot\\Miniconda3\\envs\\OptimEase\\lib\\site-packages\\IPython\\core\\interactiveshell.py:3369: UserWarning:\n",
      "\n",
      "To exit: use 'exit', 'quit', or Ctrl-D.\n",
      "\n"
     ]
    }
   ],
   "source": [
    "snk.main(numberOfBuildings, plotOptim, optMode, UseLabelDict)"
   ]
  },
  {
   "cell_type": "markdown",
   "id": "73fdca06",
   "metadata": {},
   "source": [
    "## Plot functions"
   ]
  },
  {
   "cell_type": "code",
   "execution_count": 9,
   "id": "61af4c83",
   "metadata": {},
   "outputs": [],
   "source": [
    "optMode = \"group\"  # parameter defining whether the results file corresponds to \"indiv\" or \"group\" optimization\n",
    "numberOfBuildings = 4\n",
    "plotOptim = 5  # defines the number of the optimization to plot\n",
    "plotLevel = \"allMonths\"  # permissible values (for energy balance plot): \"allMonths\" {for all months}\n",
    "# or specific month {\"Jan\", \"Feb\", \"Mar\", etc. three letter abbreviation of the month name}\n",
    "# or specific date {format: YYYY-MM-DD}\n",
    "plotType = \"bokeh\"  # permissible values: \"energy balance\", \"bokeh\"\n",
    "flowType = \"electricity\"  # permissible values: \"all\", \"electricity\", \"space heat\", \"domestic hot water\"\n",
    "plotAnnualHorizontalBar = False  # determines whether the annual horizontal bar is plot or not"
   ]
  },
  {
   "cell_type": "code",
   "execution_count": 11,
   "id": "b31df28f",
   "metadata": {},
   "outputs": [
    {
     "ename": "KeyboardInterrupt",
     "evalue": "",
     "output_type": "error",
     "traceback": [
      "\u001b[1;31m---------------------------------------------------------------------------\u001b[0m",
      "\u001b[1;31mKeyboardInterrupt\u001b[0m                         Traceback (most recent call last)",
      "Input \u001b[1;32mIn [11]\u001b[0m, in \u001b[0;36m<cell line: 1>\u001b[1;34m()\u001b[0m\n\u001b[1;32m----> 1\u001b[0m \u001b[43mfnc\u001b[49m\u001b[38;5;241;43m.\u001b[39;49m\u001b[43mmain\u001b[49m\u001b[43m(\u001b[49m\u001b[43moptMode\u001b[49m\u001b[43m,\u001b[49m\u001b[43m \u001b[49m\u001b[43mnumberOfBuildings\u001b[49m\u001b[43m,\u001b[49m\u001b[43m \u001b[49m\u001b[43mplotOptim\u001b[49m\u001b[43m,\u001b[49m\u001b[43m \u001b[49m\u001b[43mplotLevel\u001b[49m\u001b[43m,\u001b[49m\u001b[43m \u001b[49m\u001b[43mplotType\u001b[49m\u001b[43m,\u001b[49m\u001b[43m \u001b[49m\u001b[43mflowType\u001b[49m\u001b[43m,\u001b[49m\u001b[43m \u001b[49m\u001b[43mplotAnnualHorizontalBar\u001b[49m\u001b[43m)\u001b[49m\n",
      "File \u001b[1;32m~\\PycharmProjects\\OptimEase-main\\src\\plot_functions.py:1014\u001b[0m, in \u001b[0;36mmain\u001b[1;34m(optMode, numberOfBuildings, plotOptim, plotLevel, plotType, flowType, plotAnnualHorizontalBar)\u001b[0m\n\u001b[0;32m   1011\u001b[0m     os\u001b[38;5;241m.\u001b[39mmakedirs(resultFileBasePath)\n\u001b[0;32m   1012\u001b[0m resultFilePath \u001b[38;5;241m=\u001b[39m os\u001b[38;5;241m.\u001b[39mpath\u001b[38;5;241m.\u001b[39mjoin(resultFileBasePath, resultFileName)\n\u001b[1;32m-> 1014\u001b[0m \u001b[43mcreatePlot\u001b[49m\u001b[43m(\u001b[49m\u001b[43mresultFilePath\u001b[49m\u001b[43m,\u001b[49m\u001b[43m \u001b[49m\u001b[43mplotLevel\u001b[49m\u001b[43m,\u001b[49m\u001b[43m \u001b[49m\u001b[43mplotType\u001b[49m\u001b[43m,\u001b[49m\u001b[43m \u001b[49m\u001b[43mflowType\u001b[49m\u001b[43m,\u001b[49m\u001b[43m \u001b[49m\u001b[43mplotAnnualHorizontalBar\u001b[49m\u001b[43m,\u001b[49m\u001b[43m \u001b[49m\u001b[43mnewLegends\u001b[49m\u001b[43m)\u001b[49m\n",
      "File \u001b[1;32m~\\PycharmProjects\\OptimEase-main\\src\\plot_functions.py:841\u001b[0m, in \u001b[0;36mcreatePlot\u001b[1;34m(resultFilePath, plotLevel, plotType, flowType, plotAnnualHorizontalBar, newLegends)\u001b[0m\n\u001b[0;32m    838\u001b[0m \u001b[38;5;28;01mdef\u001b[39;00m \u001b[38;5;21mcreatePlot\u001b[39m(resultFilePath, plotLevel, plotType, flowType, plotAnnualHorizontalBar, newLegends):\n\u001b[0;32m    839\u001b[0m     \u001b[38;5;66;03m# load the plotting data from excel file into variables\u001b[39;00m\n\u001b[0;32m    840\u001b[0m     buses, elec_names, elec_dict, sh_names, sh_dict, dhw_names, dhw_dict, costs_names, costs_dict, env_names, env_dict, \\\n\u001b[1;32m--> 841\u001b[0m     buildings_dict, buildings_names, buildings_number \u001b[38;5;241m=\u001b[39m \u001b[43mloadPlottingData\u001b[49m\u001b[43m(\u001b[49m\u001b[43mresultFilePath\u001b[49m\u001b[43m)\u001b[49m\n\u001b[0;32m    843\u001b[0m     \u001b[38;5;28;01mif\u001b[39;00m flowType \u001b[38;5;241m==\u001b[39m \u001b[38;5;124m\"\u001b[39m\u001b[38;5;124mall\u001b[39m\u001b[38;5;124m\"\u001b[39m:\n\u001b[0;32m    844\u001b[0m         \u001b[38;5;28;01mif\u001b[39;00m plotType \u001b[38;5;241m==\u001b[39m \u001b[38;5;124m\"\u001b[39m\u001b[38;5;124menergy balance\u001b[39m\u001b[38;5;124m\"\u001b[39m:\n",
      "File \u001b[1;32m~\\PycharmProjects\\OptimEase-main\\src\\plot_functions.py:731\u001b[0m, in \u001b[0;36mloadPlottingData\u001b[1;34m(resultFilePath)\u001b[0m\n\u001b[0;32m    725\u001b[0m \u001b[38;5;28;01mdef\u001b[39;00m \u001b[38;5;21mloadPlottingData\u001b[39m(resultFilePath):\n\u001b[0;32m    726\u001b[0m     \u001b[38;5;124;03m\"\"\"\u001b[39;00m\n\u001b[0;32m    727\u001b[0m \u001b[38;5;124;03m    Function for loading the data from excel file into variables\u001b[39;00m\n\u001b[0;32m    728\u001b[0m \u001b[38;5;124;03m    :param resultFilePath: path to the Excel containing the results of the optimization\u001b[39;00m\n\u001b[0;32m    729\u001b[0m \u001b[38;5;124;03m    :return: the different variables created after reading the excel file\u001b[39;00m\n\u001b[0;32m    730\u001b[0m \u001b[38;5;124;03m    \"\"\"\u001b[39;00m\n\u001b[1;32m--> 731\u001b[0m     buses \u001b[38;5;241m=\u001b[39m \u001b[43mgetData\u001b[49m\u001b[43m(\u001b[49m\u001b[43mresultFilePath\u001b[49m\u001b[43m)\u001b[49m\n\u001b[0;32m    732\u001b[0m     elec_names \u001b[38;5;241m=\u001b[39m []\n\u001b[0;32m    733\u001b[0m     elec_dict \u001b[38;5;241m=\u001b[39m []\n",
      "File \u001b[1;32m~\\PycharmProjects\\OptimEase-main\\src\\plot_functions.py:721\u001b[0m, in \u001b[0;36mgetData\u001b[1;34m(filepath)\u001b[0m\n\u001b[0;32m    719\u001b[0m dict_sheet \u001b[38;5;241m=\u001b[39m {}\n\u001b[0;32m    720\u001b[0m \u001b[38;5;28;01mfor\u001b[39;00m sheet \u001b[38;5;129;01min\u001b[39;00m wb\u001b[38;5;241m.\u001b[39msheetnames:\n\u001b[1;32m--> 721\u001b[0m     dict_sheet[sheet] \u001b[38;5;241m=\u001b[39m \u001b[43mpd\u001b[49m\u001b[38;5;241;43m.\u001b[39;49m\u001b[43mread_excel\u001b[49m\u001b[43m(\u001b[49m\u001b[43mfilepath\u001b[49m\u001b[43m,\u001b[49m\u001b[43m \u001b[49m\u001b[43msheet_name\u001b[49m\u001b[38;5;241;43m=\u001b[39;49m\u001b[43msheet\u001b[49m\u001b[43m,\u001b[49m\u001b[43m \u001b[49m\u001b[43mindex_col\u001b[49m\u001b[38;5;241;43m=\u001b[39;49m\u001b[38;5;241;43m0\u001b[39;49m\u001b[43m,\u001b[49m\u001b[43m \u001b[49m\u001b[43mengine\u001b[49m\u001b[38;5;241;43m=\u001b[39;49m\u001b[38;5;124;43m'\u001b[39;49m\u001b[38;5;124;43mopenpyxl\u001b[39;49m\u001b[38;5;124;43m'\u001b[39;49m\u001b[43m)\u001b[49m\n\u001b[0;32m    723\u001b[0m \u001b[38;5;28;01mreturn\u001b[39;00m dict_sheet\n",
      "File \u001b[1;32m~\\Miniconda3\\envs\\OptimEase\\lib\\site-packages\\pandas\\util\\_decorators.py:311\u001b[0m, in \u001b[0;36mdeprecate_nonkeyword_arguments.<locals>.decorate.<locals>.wrapper\u001b[1;34m(*args, **kwargs)\u001b[0m\n\u001b[0;32m    305\u001b[0m \u001b[38;5;28;01mif\u001b[39;00m \u001b[38;5;28mlen\u001b[39m(args) \u001b[38;5;241m>\u001b[39m num_allow_args:\n\u001b[0;32m    306\u001b[0m     warnings\u001b[38;5;241m.\u001b[39mwarn(\n\u001b[0;32m    307\u001b[0m         msg\u001b[38;5;241m.\u001b[39mformat(arguments\u001b[38;5;241m=\u001b[39marguments),\n\u001b[0;32m    308\u001b[0m         \u001b[38;5;167;01mFutureWarning\u001b[39;00m,\n\u001b[0;32m    309\u001b[0m         stacklevel\u001b[38;5;241m=\u001b[39mstacklevel,\n\u001b[0;32m    310\u001b[0m     )\n\u001b[1;32m--> 311\u001b[0m \u001b[38;5;28;01mreturn\u001b[39;00m func(\u001b[38;5;241m*\u001b[39margs, \u001b[38;5;241m*\u001b[39m\u001b[38;5;241m*\u001b[39mkwargs)\n",
      "File \u001b[1;32m~\\Miniconda3\\envs\\OptimEase\\lib\\site-packages\\pandas\\io\\excel\\_base.py:465\u001b[0m, in \u001b[0;36mread_excel\u001b[1;34m(io, sheet_name, header, names, index_col, usecols, squeeze, dtype, engine, converters, true_values, false_values, skiprows, nrows, na_values, keep_default_na, na_filter, verbose, parse_dates, date_parser, thousands, decimal, comment, skipfooter, convert_float, mangle_dupe_cols, storage_options)\u001b[0m\n\u001b[0;32m    459\u001b[0m     \u001b[38;5;28;01mraise\u001b[39;00m \u001b[38;5;167;01mValueError\u001b[39;00m(\n\u001b[0;32m    460\u001b[0m         \u001b[38;5;124m\"\u001b[39m\u001b[38;5;124mEngine should not be specified when passing \u001b[39m\u001b[38;5;124m\"\u001b[39m\n\u001b[0;32m    461\u001b[0m         \u001b[38;5;124m\"\u001b[39m\u001b[38;5;124man ExcelFile - ExcelFile already has the engine set\u001b[39m\u001b[38;5;124m\"\u001b[39m\n\u001b[0;32m    462\u001b[0m     )\n\u001b[0;32m    464\u001b[0m \u001b[38;5;28;01mtry\u001b[39;00m:\n\u001b[1;32m--> 465\u001b[0m     data \u001b[38;5;241m=\u001b[39m \u001b[43mio\u001b[49m\u001b[38;5;241;43m.\u001b[39;49m\u001b[43mparse\u001b[49m\u001b[43m(\u001b[49m\n\u001b[0;32m    466\u001b[0m \u001b[43m        \u001b[49m\u001b[43msheet_name\u001b[49m\u001b[38;5;241;43m=\u001b[39;49m\u001b[43msheet_name\u001b[49m\u001b[43m,\u001b[49m\n\u001b[0;32m    467\u001b[0m \u001b[43m        \u001b[49m\u001b[43mheader\u001b[49m\u001b[38;5;241;43m=\u001b[39;49m\u001b[43mheader\u001b[49m\u001b[43m,\u001b[49m\n\u001b[0;32m    468\u001b[0m \u001b[43m        \u001b[49m\u001b[43mnames\u001b[49m\u001b[38;5;241;43m=\u001b[39;49m\u001b[43mnames\u001b[49m\u001b[43m,\u001b[49m\n\u001b[0;32m    469\u001b[0m \u001b[43m        \u001b[49m\u001b[43mindex_col\u001b[49m\u001b[38;5;241;43m=\u001b[39;49m\u001b[43mindex_col\u001b[49m\u001b[43m,\u001b[49m\n\u001b[0;32m    470\u001b[0m \u001b[43m        \u001b[49m\u001b[43musecols\u001b[49m\u001b[38;5;241;43m=\u001b[39;49m\u001b[43musecols\u001b[49m\u001b[43m,\u001b[49m\n\u001b[0;32m    471\u001b[0m \u001b[43m        \u001b[49m\u001b[43msqueeze\u001b[49m\u001b[38;5;241;43m=\u001b[39;49m\u001b[43msqueeze\u001b[49m\u001b[43m,\u001b[49m\n\u001b[0;32m    472\u001b[0m \u001b[43m        \u001b[49m\u001b[43mdtype\u001b[49m\u001b[38;5;241;43m=\u001b[39;49m\u001b[43mdtype\u001b[49m\u001b[43m,\u001b[49m\n\u001b[0;32m    473\u001b[0m \u001b[43m        \u001b[49m\u001b[43mconverters\u001b[49m\u001b[38;5;241;43m=\u001b[39;49m\u001b[43mconverters\u001b[49m\u001b[43m,\u001b[49m\n\u001b[0;32m    474\u001b[0m \u001b[43m        \u001b[49m\u001b[43mtrue_values\u001b[49m\u001b[38;5;241;43m=\u001b[39;49m\u001b[43mtrue_values\u001b[49m\u001b[43m,\u001b[49m\n\u001b[0;32m    475\u001b[0m \u001b[43m        \u001b[49m\u001b[43mfalse_values\u001b[49m\u001b[38;5;241;43m=\u001b[39;49m\u001b[43mfalse_values\u001b[49m\u001b[43m,\u001b[49m\n\u001b[0;32m    476\u001b[0m \u001b[43m        \u001b[49m\u001b[43mskiprows\u001b[49m\u001b[38;5;241;43m=\u001b[39;49m\u001b[43mskiprows\u001b[49m\u001b[43m,\u001b[49m\n\u001b[0;32m    477\u001b[0m \u001b[43m        \u001b[49m\u001b[43mnrows\u001b[49m\u001b[38;5;241;43m=\u001b[39;49m\u001b[43mnrows\u001b[49m\u001b[43m,\u001b[49m\n\u001b[0;32m    478\u001b[0m \u001b[43m        \u001b[49m\u001b[43mna_values\u001b[49m\u001b[38;5;241;43m=\u001b[39;49m\u001b[43mna_values\u001b[49m\u001b[43m,\u001b[49m\n\u001b[0;32m    479\u001b[0m \u001b[43m        \u001b[49m\u001b[43mkeep_default_na\u001b[49m\u001b[38;5;241;43m=\u001b[39;49m\u001b[43mkeep_default_na\u001b[49m\u001b[43m,\u001b[49m\n\u001b[0;32m    480\u001b[0m \u001b[43m        \u001b[49m\u001b[43mna_filter\u001b[49m\u001b[38;5;241;43m=\u001b[39;49m\u001b[43mna_filter\u001b[49m\u001b[43m,\u001b[49m\n\u001b[0;32m    481\u001b[0m \u001b[43m        \u001b[49m\u001b[43mverbose\u001b[49m\u001b[38;5;241;43m=\u001b[39;49m\u001b[43mverbose\u001b[49m\u001b[43m,\u001b[49m\n\u001b[0;32m    482\u001b[0m \u001b[43m        \u001b[49m\u001b[43mparse_dates\u001b[49m\u001b[38;5;241;43m=\u001b[39;49m\u001b[43mparse_dates\u001b[49m\u001b[43m,\u001b[49m\n\u001b[0;32m    483\u001b[0m \u001b[43m        \u001b[49m\u001b[43mdate_parser\u001b[49m\u001b[38;5;241;43m=\u001b[39;49m\u001b[43mdate_parser\u001b[49m\u001b[43m,\u001b[49m\n\u001b[0;32m    484\u001b[0m \u001b[43m        \u001b[49m\u001b[43mthousands\u001b[49m\u001b[38;5;241;43m=\u001b[39;49m\u001b[43mthousands\u001b[49m\u001b[43m,\u001b[49m\n\u001b[0;32m    485\u001b[0m \u001b[43m        \u001b[49m\u001b[43mdecimal\u001b[49m\u001b[38;5;241;43m=\u001b[39;49m\u001b[43mdecimal\u001b[49m\u001b[43m,\u001b[49m\n\u001b[0;32m    486\u001b[0m \u001b[43m        \u001b[49m\u001b[43mcomment\u001b[49m\u001b[38;5;241;43m=\u001b[39;49m\u001b[43mcomment\u001b[49m\u001b[43m,\u001b[49m\n\u001b[0;32m    487\u001b[0m \u001b[43m        \u001b[49m\u001b[43mskipfooter\u001b[49m\u001b[38;5;241;43m=\u001b[39;49m\u001b[43mskipfooter\u001b[49m\u001b[43m,\u001b[49m\n\u001b[0;32m    488\u001b[0m \u001b[43m        \u001b[49m\u001b[43mconvert_float\u001b[49m\u001b[38;5;241;43m=\u001b[39;49m\u001b[43mconvert_float\u001b[49m\u001b[43m,\u001b[49m\n\u001b[0;32m    489\u001b[0m \u001b[43m        \u001b[49m\u001b[43mmangle_dupe_cols\u001b[49m\u001b[38;5;241;43m=\u001b[39;49m\u001b[43mmangle_dupe_cols\u001b[49m\u001b[43m,\u001b[49m\n\u001b[0;32m    490\u001b[0m \u001b[43m    \u001b[49m\u001b[43m)\u001b[49m\n\u001b[0;32m    491\u001b[0m \u001b[38;5;28;01mfinally\u001b[39;00m:\n\u001b[0;32m    492\u001b[0m     \u001b[38;5;66;03m# make sure to close opened file handles\u001b[39;00m\n\u001b[0;32m    493\u001b[0m     \u001b[38;5;28;01mif\u001b[39;00m should_close:\n",
      "File \u001b[1;32m~\\Miniconda3\\envs\\OptimEase\\lib\\site-packages\\pandas\\io\\excel\\_base.py:1458\u001b[0m, in \u001b[0;36mExcelFile.parse\u001b[1;34m(self, sheet_name, header, names, index_col, usecols, squeeze, converters, true_values, false_values, skiprows, nrows, na_values, parse_dates, date_parser, thousands, comment, skipfooter, convert_float, mangle_dupe_cols, **kwds)\u001b[0m\n\u001b[0;32m   1424\u001b[0m \u001b[38;5;28;01mdef\u001b[39;00m \u001b[38;5;21mparse\u001b[39m(\n\u001b[0;32m   1425\u001b[0m     \u001b[38;5;28mself\u001b[39m,\n\u001b[0;32m   1426\u001b[0m     sheet_name: \u001b[38;5;28mstr\u001b[39m \u001b[38;5;241m|\u001b[39m \u001b[38;5;28mint\u001b[39m \u001b[38;5;241m|\u001b[39m \u001b[38;5;28mlist\u001b[39m[\u001b[38;5;28mint\u001b[39m] \u001b[38;5;241m|\u001b[39m \u001b[38;5;28mlist\u001b[39m[\u001b[38;5;28mstr\u001b[39m] \u001b[38;5;241m|\u001b[39m \u001b[38;5;28;01mNone\u001b[39;00m \u001b[38;5;241m=\u001b[39m \u001b[38;5;241m0\u001b[39m,\n\u001b[1;32m   (...)\u001b[0m\n\u001b[0;32m   1445\u001b[0m     \u001b[38;5;241m*\u001b[39m\u001b[38;5;241m*\u001b[39mkwds,\n\u001b[0;32m   1446\u001b[0m ) \u001b[38;5;241m-\u001b[39m\u001b[38;5;241m>\u001b[39m DataFrame \u001b[38;5;241m|\u001b[39m \u001b[38;5;28mdict\u001b[39m[\u001b[38;5;28mstr\u001b[39m, DataFrame] \u001b[38;5;241m|\u001b[39m \u001b[38;5;28mdict\u001b[39m[\u001b[38;5;28mint\u001b[39m, DataFrame]:\n\u001b[0;32m   1447\u001b[0m     \u001b[38;5;124;03m\"\"\"\u001b[39;00m\n\u001b[0;32m   1448\u001b[0m \u001b[38;5;124;03m    Parse specified sheet(s) into a DataFrame.\u001b[39;00m\n\u001b[0;32m   1449\u001b[0m \n\u001b[1;32m   (...)\u001b[0m\n\u001b[0;32m   1456\u001b[0m \u001b[38;5;124;03m        DataFrame from the passed in Excel file.\u001b[39;00m\n\u001b[0;32m   1457\u001b[0m \u001b[38;5;124;03m    \"\"\"\u001b[39;00m\n\u001b[1;32m-> 1458\u001b[0m     \u001b[38;5;28;01mreturn\u001b[39;00m \u001b[38;5;28mself\u001b[39m\u001b[38;5;241m.\u001b[39m_reader\u001b[38;5;241m.\u001b[39mparse(\n\u001b[0;32m   1459\u001b[0m         sheet_name\u001b[38;5;241m=\u001b[39msheet_name,\n\u001b[0;32m   1460\u001b[0m         header\u001b[38;5;241m=\u001b[39mheader,\n\u001b[0;32m   1461\u001b[0m         names\u001b[38;5;241m=\u001b[39mnames,\n\u001b[0;32m   1462\u001b[0m         index_col\u001b[38;5;241m=\u001b[39mindex_col,\n\u001b[0;32m   1463\u001b[0m         usecols\u001b[38;5;241m=\u001b[39musecols,\n\u001b[0;32m   1464\u001b[0m         squeeze\u001b[38;5;241m=\u001b[39msqueeze,\n\u001b[0;32m   1465\u001b[0m         converters\u001b[38;5;241m=\u001b[39mconverters,\n\u001b[0;32m   1466\u001b[0m         true_values\u001b[38;5;241m=\u001b[39mtrue_values,\n\u001b[0;32m   1467\u001b[0m         false_values\u001b[38;5;241m=\u001b[39mfalse_values,\n\u001b[0;32m   1468\u001b[0m         skiprows\u001b[38;5;241m=\u001b[39mskiprows,\n\u001b[0;32m   1469\u001b[0m         nrows\u001b[38;5;241m=\u001b[39mnrows,\n\u001b[0;32m   1470\u001b[0m         na_values\u001b[38;5;241m=\u001b[39mna_values,\n\u001b[0;32m   1471\u001b[0m         parse_dates\u001b[38;5;241m=\u001b[39mparse_dates,\n\u001b[0;32m   1472\u001b[0m         date_parser\u001b[38;5;241m=\u001b[39mdate_parser,\n\u001b[0;32m   1473\u001b[0m         thousands\u001b[38;5;241m=\u001b[39mthousands,\n\u001b[0;32m   1474\u001b[0m         comment\u001b[38;5;241m=\u001b[39mcomment,\n\u001b[0;32m   1475\u001b[0m         skipfooter\u001b[38;5;241m=\u001b[39mskipfooter,\n\u001b[0;32m   1476\u001b[0m         convert_float\u001b[38;5;241m=\u001b[39mconvert_float,\n\u001b[0;32m   1477\u001b[0m         mangle_dupe_cols\u001b[38;5;241m=\u001b[39mmangle_dupe_cols,\n\u001b[0;32m   1478\u001b[0m         \u001b[38;5;241m*\u001b[39m\u001b[38;5;241m*\u001b[39mkwds,\n\u001b[0;32m   1479\u001b[0m     )\n",
      "File \u001b[1;32m~\\Miniconda3\\envs\\OptimEase\\lib\\site-packages\\pandas\\io\\excel\\_base.py:638\u001b[0m, in \u001b[0;36mBaseExcelReader.parse\u001b[1;34m(self, sheet_name, header, names, index_col, usecols, squeeze, dtype, true_values, false_values, skiprows, nrows, na_values, verbose, parse_dates, date_parser, thousands, decimal, comment, skipfooter, convert_float, mangle_dupe_cols, **kwds)\u001b[0m\n\u001b[0;32m    635\u001b[0m \u001b[38;5;28;01melse\u001b[39;00m:  \u001b[38;5;66;03m# assume an integer if not a string\u001b[39;00m\n\u001b[0;32m    636\u001b[0m     sheet \u001b[38;5;241m=\u001b[39m \u001b[38;5;28mself\u001b[39m\u001b[38;5;241m.\u001b[39mget_sheet_by_index(asheetname)\n\u001b[1;32m--> 638\u001b[0m data \u001b[38;5;241m=\u001b[39m \u001b[38;5;28;43mself\u001b[39;49m\u001b[38;5;241;43m.\u001b[39;49m\u001b[43mget_sheet_data\u001b[49m\u001b[43m(\u001b[49m\u001b[43msheet\u001b[49m\u001b[43m,\u001b[49m\u001b[43m \u001b[49m\u001b[43mconvert_float\u001b[49m\u001b[43m)\u001b[49m\n\u001b[0;32m    639\u001b[0m \u001b[38;5;28;01mif\u001b[39;00m \u001b[38;5;28mhasattr\u001b[39m(sheet, \u001b[38;5;124m\"\u001b[39m\u001b[38;5;124mclose\u001b[39m\u001b[38;5;124m\"\u001b[39m):\n\u001b[0;32m    640\u001b[0m     \u001b[38;5;66;03m# pyxlsb opens two TemporaryFiles\u001b[39;00m\n\u001b[0;32m    641\u001b[0m     sheet\u001b[38;5;241m.\u001b[39mclose()\n",
      "File \u001b[1;32m~\\Miniconda3\\envs\\OptimEase\\lib\\site-packages\\pandas\\io\\excel\\_openpyxl.py:575\u001b[0m, in \u001b[0;36mOpenpyxlReader.get_sheet_data\u001b[1;34m(self, sheet, convert_float)\u001b[0m\n\u001b[0;32m    573\u001b[0m data: \u001b[38;5;28mlist\u001b[39m[\u001b[38;5;28mlist\u001b[39m[Scalar]] \u001b[38;5;241m=\u001b[39m []\n\u001b[0;32m    574\u001b[0m last_row_with_data \u001b[38;5;241m=\u001b[39m \u001b[38;5;241m-\u001b[39m\u001b[38;5;241m1\u001b[39m\n\u001b[1;32m--> 575\u001b[0m \u001b[38;5;28;01mfor\u001b[39;00m row_number, row \u001b[38;5;129;01min\u001b[39;00m \u001b[38;5;28menumerate\u001b[39m(sheet\u001b[38;5;241m.\u001b[39mrows):\n\u001b[0;32m    576\u001b[0m     converted_row \u001b[38;5;241m=\u001b[39m [\u001b[38;5;28mself\u001b[39m\u001b[38;5;241m.\u001b[39m_convert_cell(cell, convert_float) \u001b[38;5;28;01mfor\u001b[39;00m cell \u001b[38;5;129;01min\u001b[39;00m row]\n\u001b[0;32m    577\u001b[0m     \u001b[38;5;28;01mwhile\u001b[39;00m converted_row \u001b[38;5;129;01mand\u001b[39;00m converted_row[\u001b[38;5;241m-\u001b[39m\u001b[38;5;241m1\u001b[39m] \u001b[38;5;241m==\u001b[39m \u001b[38;5;124m\"\u001b[39m\u001b[38;5;124m\"\u001b[39m:\n\u001b[0;32m    578\u001b[0m         \u001b[38;5;66;03m# trim trailing empty elements\u001b[39;00m\n",
      "File \u001b[1;32m~\\Miniconda3\\envs\\OptimEase\\lib\\site-packages\\openpyxl\\worksheet\\_read_only.py:79\u001b[0m, in \u001b[0;36mReadOnlyWorksheet._cells_by_row\u001b[1;34m(self, min_col, min_row, max_col, max_row, values_only)\u001b[0m\n\u001b[0;32m     75\u001b[0m src \u001b[38;5;241m=\u001b[39m \u001b[38;5;28mself\u001b[39m\u001b[38;5;241m.\u001b[39m_get_source()\n\u001b[0;32m     76\u001b[0m parser \u001b[38;5;241m=\u001b[39m WorkSheetParser(src, \u001b[38;5;28mself\u001b[39m\u001b[38;5;241m.\u001b[39m_shared_strings,\n\u001b[0;32m     77\u001b[0m                          data_only\u001b[38;5;241m=\u001b[39m\u001b[38;5;28mself\u001b[39m\u001b[38;5;241m.\u001b[39mparent\u001b[38;5;241m.\u001b[39mdata_only, epoch\u001b[38;5;241m=\u001b[39m\u001b[38;5;28mself\u001b[39m\u001b[38;5;241m.\u001b[39mparent\u001b[38;5;241m.\u001b[39mepoch,\n\u001b[0;32m     78\u001b[0m                          date_formats\u001b[38;5;241m=\u001b[39m\u001b[38;5;28mself\u001b[39m\u001b[38;5;241m.\u001b[39mparent\u001b[38;5;241m.\u001b[39m_date_formats)\n\u001b[1;32m---> 79\u001b[0m \u001b[38;5;28;01mfor\u001b[39;00m idx, row \u001b[38;5;129;01min\u001b[39;00m parser\u001b[38;5;241m.\u001b[39mparse():\n\u001b[0;32m     80\u001b[0m     \u001b[38;5;28;01mif\u001b[39;00m max_row \u001b[38;5;129;01mis\u001b[39;00m \u001b[38;5;129;01mnot\u001b[39;00m \u001b[38;5;28;01mNone\u001b[39;00m \u001b[38;5;129;01mand\u001b[39;00m idx \u001b[38;5;241m>\u001b[39m max_row:\n\u001b[0;32m     81\u001b[0m         \u001b[38;5;28;01mbreak\u001b[39;00m\n",
      "File \u001b[1;32m~\\Miniconda3\\envs\\OptimEase\\lib\\site-packages\\openpyxl\\worksheet\\_reader.py:144\u001b[0m, in \u001b[0;36mWorkSheetParser.parse\u001b[1;34m(self)\u001b[0m\n\u001b[0;32m    125\u001b[0m properties \u001b[38;5;241m=\u001b[39m {\n\u001b[0;32m    126\u001b[0m     PRINT_TAG: (\u001b[38;5;124m'\u001b[39m\u001b[38;5;124mprint_options\u001b[39m\u001b[38;5;124m'\u001b[39m, PrintOptions),\n\u001b[0;32m    127\u001b[0m     MARGINS_TAG: (\u001b[38;5;124m'\u001b[39m\u001b[38;5;124mpage_margins\u001b[39m\u001b[38;5;124m'\u001b[39m, PageMargins),\n\u001b[1;32m   (...)\u001b[0m\n\u001b[0;32m    139\u001b[0m \n\u001b[0;32m    140\u001b[0m }\n\u001b[0;32m    142\u001b[0m it \u001b[38;5;241m=\u001b[39m iterparse(\u001b[38;5;28mself\u001b[39m\u001b[38;5;241m.\u001b[39msource) \u001b[38;5;66;03m# add a finaliser to close the source when this becomes possible\u001b[39;00m\n\u001b[1;32m--> 144\u001b[0m \u001b[38;5;28;01mfor\u001b[39;00m _, element \u001b[38;5;129;01min\u001b[39;00m it:\n\u001b[0;32m    145\u001b[0m     tag_name \u001b[38;5;241m=\u001b[39m element\u001b[38;5;241m.\u001b[39mtag\n\u001b[0;32m    146\u001b[0m     \u001b[38;5;28;01mif\u001b[39;00m tag_name \u001b[38;5;129;01min\u001b[39;00m dispatcher:\n",
      "File \u001b[1;32m~\\Miniconda3\\envs\\OptimEase\\lib\\xml\\etree\\ElementTree.py:1260\u001b[0m, in \u001b[0;36miterparse.<locals>.iterator\u001b[1;34m(source)\u001b[0m\n\u001b[0;32m   1258\u001b[0m \u001b[38;5;28;01myield\u001b[39;00m \u001b[38;5;28;01mNone\u001b[39;00m\n\u001b[0;32m   1259\u001b[0m \u001b[38;5;28;01mwhile\u001b[39;00m \u001b[38;5;28;01mTrue\u001b[39;00m:\n\u001b[1;32m-> 1260\u001b[0m     \u001b[38;5;28;01myield from\u001b[39;00m pullparser\u001b[38;5;241m.\u001b[39mread_events()\n\u001b[0;32m   1261\u001b[0m     \u001b[38;5;66;03m# load event buffer\u001b[39;00m\n\u001b[0;32m   1262\u001b[0m     data \u001b[38;5;241m=\u001b[39m source\u001b[38;5;241m.\u001b[39mread(\u001b[38;5;241m16\u001b[39m \u001b[38;5;241m*\u001b[39m \u001b[38;5;241m1024\u001b[39m)\n",
      "File \u001b[1;32m~\\Miniconda3\\envs\\OptimEase\\lib\\xml\\etree\\ElementTree.py:1330\u001b[0m, in \u001b[0;36mXMLPullParser.read_events\u001b[1;34m(self)\u001b[0m\n\u001b[0;32m   1328\u001b[0m \u001b[38;5;28;01mwhile\u001b[39;00m events:\n\u001b[0;32m   1329\u001b[0m     event \u001b[38;5;241m=\u001b[39m events\u001b[38;5;241m.\u001b[39mpopleft()\n\u001b[1;32m-> 1330\u001b[0m     \u001b[38;5;28;01mif\u001b[39;00m \u001b[38;5;28;43misinstance\u001b[39;49m(event, \u001b[38;5;167;01mException\u001b[39;00m):\n\u001b[0;32m   1331\u001b[0m         \u001b[38;5;28;01mraise\u001b[39;00m event\n\u001b[0;32m   1332\u001b[0m     \u001b[38;5;28;01melse\u001b[39;00m:\n",
      "\u001b[1;31mKeyboardInterrupt\u001b[0m: "
     ]
    }
   ],
   "source": [
    "fnc.main(optMode, numberOfBuildings, plotOptim, plotLevel, plotType, flowType, plotAnnualHorizontalBar)"
   ]
  },
  {
   "cell_type": "code",
   "execution_count": null,
   "id": "69f43a6c",
   "metadata": {},
   "outputs": [],
   "source": []
  }
 ],
 "metadata": {
  "kernelspec": {
   "display_name": "Python 3 (ipykernel)",
   "language": "python",
   "name": "python3"
  },
  "language_info": {
   "codemirror_mode": {
    "name": "ipython",
    "version": 3
   },
   "file_extension": ".py",
   "mimetype": "text/x-python",
   "name": "python",
   "nbconvert_exporter": "python",
   "pygments_lexer": "ipython3",
   "version": "3.9.11"
  }
 },
 "nbformat": 4,
 "nbformat_minor": 5
}
